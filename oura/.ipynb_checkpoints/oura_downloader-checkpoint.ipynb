{
 "cells": [
  {
   "cell_type": "markdown",
   "metadata": {},
   "source": [
    "# Oura Downloader"
   ]
  },
  {
   "cell_type": "markdown",
   "metadata": {},
   "source": [
    "Downloads data from Oura API and exports into CSV exports.\n",
    "\n",
    "For more info on Oura API, see [Oura Documentation](https://cloud.ouraring.com/docs/)"
   ]
  },
  {
   "cell_type": "markdown",
   "metadata": {},
   "source": [
    "----"
   ]
  },
  {
   "cell_type": "markdown",
   "metadata": {},
   "source": [
    "### Dates Configuration\n",
    "\n",
    "Configure start and end dates for collecting data"
   ]
  },
  {
   "cell_type": "code",
   "execution_count": 1,
   "metadata": {},
   "outputs": [],
   "source": [
    "start_date=\"2020-01-01\"\n",
    "end_date=\"2020-12-31\""
   ]
  },
  {
   "cell_type": "markdown",
   "metadata": {},
   "source": [
    "-----"
   ]
  },
  {
   "cell_type": "markdown",
   "metadata": {},
   "source": [
    "## Dependencies and Libraries"
   ]
  },
  {
   "cell_type": "code",
   "execution_count": 2,
   "metadata": {},
   "outputs": [],
   "source": [
    "BASE_URL = 'https://api.ouraring.com/v1/'"
   ]
  },
  {
   "cell_type": "code",
   "execution_count": 3,
   "metadata": {},
   "outputs": [],
   "source": [
    "import requests\n",
    "import numpy as np\n",
    "import pandas as pd\n",
    "from datetime import datetime"
   ]
  },
  {
   "cell_type": "markdown",
   "metadata": {},
   "source": [
    "------"
   ]
  },
  {
   "cell_type": "markdown",
   "metadata": {},
   "source": [
    "## OPTION 1: Using Personal Access Token\n",
    "\n",
    "This is the recommended appoach if you plan to use only on your own data. \n",
    "\n",
    "1. Login to https://cloud.ouraring.com/\n",
    "2. Visit https://cloud.ouraring.com/personal-access-tokens and generate a personal access token. \n",
    "3. Copy you access token. \n",
    "4. Inside the directory, copy the file credentials-sample.json and create credentials.json\n",
    "5. Open credentials.json in your editor, paste your Oura personal access token into \"ACCESS_TOKEN\" into credentials.json and save the file. NOTE: You can ignore the other options. \n"
   ]
  },
  {
   "cell_type": "markdown",
   "metadata": {},
   "source": [
    "## OPTION 2: Full API Integration\n",
    "## Setup, Installation, Authentification Steps\n",
    "\n",
    "#### Step 1:\n",
    "\n",
    "* Go to the Developer Section of the Oura Cloud (https://cloud.ouraring.com/oauth/developer).\n",
    "* Go to “My Applications” and create a new application by clicking on “New Application”.\n",
    "* Fill out the form fields with your data.\n",
    "* Set your callback URL as http://localhost:65010/oura_auth\n",
    "* After saving the form, copy your \"Client ID\" and \"Client Secret\" from your Oura application, \n",
    "* Inside the directory, copy the file credentials-sample.json and create credentials.json\n",
    "* Open credentials.json in your editor, paste your Oura \"Client ID\" and \"Client Secret\" into credentials.json and save the file. \n",
    "* Be sure to uncomment `%run ./oura_server.py`\n",
    "\n",
    "#### Step 2: \n",
    "\n",
    "* NOTE: You will need to have Flask installed to run. You can install in commandline with `$ pip install flask`\n",
    "* Run the following two cells below: CREDENTIALS STEP and TOKEN AUTHENTIFICATION STEP\n",
    "* The first will load your current credentials\n",
    "* The second will go through a token authentication process where you will need to visit: http://127.0.0.1:65010/ and click the link \"Get access token!\"\n",
    "* Once completed and redirected back, copy your generated token. \n",
    "* Stop the current running process with control c or related command\n",
    "\n",
    "#### Step 3: \n",
    "\n",
    "* Open credentials.json and paste in your token\n",
    "* Comment out the line so it looks like this:\n",
    "`# %run ./oura_server.py `\n",
    "* Run all the cells to get your data."
   ]
  },
  {
   "cell_type": "markdown",
   "metadata": {},
   "source": [
    "## Authentification"
   ]
  },
  {
   "cell_type": "code",
   "execution_count": 4,
   "metadata": {},
   "outputs": [],
   "source": [
    "# CREDENTIALS STEP\n",
    "import json\n",
    "\n",
    "with open(\"credentials.json\", \"r\") as file:\n",
    "    credentials = json.load(file)\n",
    "    oura_cr = credentials['oura']\n",
    "    CLIENT_SECRET = oura_cr['CLIENT_SECRET']\n",
    "    CLIENT_ID = oura_cr['CLIENT_ID']\n",
    "    ACCESS_TOKEN = oura_cr['ACCESS_TOKEN']"
   ]
  },
  {
   "cell_type": "code",
   "execution_count": 5,
   "metadata": {},
   "outputs": [],
   "source": [
    "# TOKEN AUTHENTIFICATION STEP\n",
    "# this script to start server \n",
    "# then visit provided url to complete process, generate token and copy\n",
    "# Comment out once completed\n",
    "# import flask\n",
    "# %run ./oura_server.py"
   ]
  },
  {
   "cell_type": "markdown",
   "metadata": {},
   "source": [
    "----"
   ]
  },
  {
   "cell_type": "markdown",
   "metadata": {},
   "source": [
    "## User Info"
   ]
  },
  {
   "cell_type": "code",
   "execution_count": 6,
   "metadata": {},
   "outputs": [],
   "source": [
    "url = BASE_URL+\"userinfo?access_token=\"+ACCESS_TOKEN\n",
    "r = requests.get(url)\n",
    "user_info = r.json()"
   ]
  },
  {
   "cell_type": "code",
   "execution_count": 7,
   "metadata": {},
   "outputs": [
    {
     "data": {
      "text/plain": [
       "{'age': 37,\n",
       " 'weight': 80.0,\n",
       " 'height': 188,\n",
       " 'gender': 'male',\n",
       " 'email': 'markwkoester@gmail.com'}"
      ]
     },
     "execution_count": 7,
     "metadata": {},
     "output_type": "execute_result"
    }
   ],
   "source": [
    "user_info"
   ]
  },
  {
   "cell_type": "markdown",
   "metadata": {},
   "source": [
    "-----"
   ]
  },
  {
   "cell_type": "markdown",
   "metadata": {},
   "source": [
    "## Get Data Function"
   ]
  },
  {
   "cell_type": "code",
   "execution_count": 8,
   "metadata": {},
   "outputs": [],
   "source": [
    "def get_oura_data(endpoint, start_date, end_date):\n",
    "    endpoint=endpoint\n",
    "    url = BASE_URL+endpoint+\"?access_token=\"+ACCESS_TOKEN+\"&start=\"+start_date+\"&end=\"+end_date\n",
    "    r = requests.get(url)\n",
    "    data = r.json()    \n",
    "    return data"
   ]
  },
  {
   "cell_type": "markdown",
   "metadata": {},
   "source": [
    "----"
   ]
  },
  {
   "cell_type": "markdown",
   "metadata": {},
   "source": [
    "## Sleep"
   ]
  },
  {
   "cell_type": "code",
   "execution_count": 9,
   "metadata": {},
   "outputs": [],
   "source": [
    "sleep_data = get_oura_data(endpoint=\"sleep\", start_date=start_date, end_date=end_date)"
   ]
  },
  {
   "cell_type": "code",
   "execution_count": 10,
   "metadata": {},
   "outputs": [],
   "source": [
    "sleep = pd.DataFrame.from_dict(sleep_data['sleep'])"
   ]
  },
  {
   "cell_type": "code",
   "execution_count": 11,
   "metadata": {},
   "outputs": [],
   "source": [
    "sleep['hours'] = round((sleep.total/60/60),2)"
   ]
  },
  {
   "cell_type": "code",
   "execution_count": 12,
   "metadata": {},
   "outputs": [
    {
     "name": "stdout",
     "output_type": "stream",
     "text": [
      "18 days of tracked sleep\n",
      "7.38 median hours of sleep per night\n",
      "7.25 average hours of sleep per night\n",
      "79.1 average sleep score\n",
      "88.3 average sleep efficiency\n",
      "46.9 average hr\n",
      "13.9 average breaths per minute\n"
     ]
    }
   ],
   "source": [
    "# Sleep Summary\n",
    "print('{:,} days of tracked sleep'.format(len(sleep)))\n",
    "print('{:,} median hours of sleep per night'.format(round((sleep.hours).median(),2)))\n",
    "\n",
    "print('{:,} average hours of sleep per night'.format(round((sleep.hours).mean(),2)))\n",
    "print('{:,} average sleep score'.format(round((sleep.score_total).mean(),1)))\n",
    "print('{:,} average sleep efficiency'.format(round((sleep.efficiency).mean(),1)))\n",
    "print('{:,} average hr'.format(round((sleep.hr_average).mean(),1)))\n",
    "print('{:,} average breaths per minute'.format(round((sleep.breath_average).mean(),1)))\n"
   ]
  },
  {
   "cell_type": "code",
   "execution_count": 13,
   "metadata": {},
   "outputs": [],
   "source": [
    "# sleep.tail()"
   ]
  },
  {
   "cell_type": "code",
   "execution_count": 14,
   "metadata": {},
   "outputs": [],
   "source": [
    "# save to csv\n",
    "sleep.to_csv('data/daily_sleep.csv', index=None, encoding='utf-8')"
   ]
  },
  {
   "cell_type": "markdown",
   "metadata": {},
   "source": [
    "----"
   ]
  },
  {
   "cell_type": "markdown",
   "metadata": {},
   "source": [
    "## Activity"
   ]
  },
  {
   "cell_type": "code",
   "execution_count": 15,
   "metadata": {},
   "outputs": [],
   "source": [
    "activity_data = get_oura_data(endpoint=\"activity\", start_date=start_date, end_date=end_date)"
   ]
  },
  {
   "cell_type": "code",
   "execution_count": 16,
   "metadata": {},
   "outputs": [],
   "source": [
    "activity = pd.DataFrame.from_dict(activity_data['activity'])"
   ]
  },
  {
   "cell_type": "code",
   "execution_count": 17,
   "metadata": {},
   "outputs": [],
   "source": [
    "# activity.tail()"
   ]
  },
  {
   "cell_type": "code",
   "execution_count": 18,
   "metadata": {},
   "outputs": [
    {
     "name": "stdout",
     "output_type": "stream",
     "text": [
      "19 days of tracked activity\n",
      "79.0 average activity score per day\n",
      "7,590.16 average daily movement (or equivalent to steps) per day\n",
      "9,115.42 average of steps per day\n",
      "2,617.37 average energy consumption during the day\n",
      "=================\n",
      "0.1 average active hours (high)\n",
      "0.6 average active hours(medium)\n",
      "4.5 average active hours (low)\n",
      "7.6 average rest hours\n",
      "5.8 average inactive hours\n",
      "4.5 average non_wear hours\n"
     ]
    }
   ],
   "source": [
    "# Activity Summary\n",
    "print('{:,} days of tracked activity'.format(len(activity)))\n",
    "print('{:,} average activity score per day'.format(round((activity.score).mean(),1)))\n",
    "print('{:,} average daily movement (or equivalent to steps) per day'.format(round((activity.daily_movement).mean(),2)))\n",
    "print('{:,} average of steps per day'.format(round((activity.steps).mean(),2)))\n",
    "print('{:,} average energy consumption during the day'.format(round((activity.cal_total).mean(),2)))\n",
    "print('=================')\n",
    "print('{:,} average active hours (high)'.format(round((activity.high/60).mean(),1)))\n",
    "print('{:,} average active hours(medium)'.format(round((activity.medium/60).mean(),1)))\n",
    "print('{:,} average active hours (low)'.format(round((activity.low/60).mean(),1)))\n",
    "print('{:,} average rest hours'.format(round((activity.rest/60).mean(),1)))\n",
    "print('{:,} average inactive hours'.format(round((activity.inactive/60).mean(),1)))\n",
    "print('{:,} average non_wear hours'.format(round((activity.non_wear/60).mean(),1)))"
   ]
  },
  {
   "cell_type": "code",
   "execution_count": 19,
   "metadata": {},
   "outputs": [],
   "source": [
    "# save to csv\n",
    "activity.to_csv('data/daily_activity.csv', index=None, encoding='utf-8')"
   ]
  },
  {
   "cell_type": "markdown",
   "metadata": {},
   "source": [
    "----"
   ]
  },
  {
   "cell_type": "markdown",
   "metadata": {},
   "source": [
    "## Readiness"
   ]
  },
  {
   "cell_type": "code",
   "execution_count": 20,
   "metadata": {},
   "outputs": [],
   "source": [
    "readiness_data = get_oura_data(endpoint=\"readiness\", start_date=start_date, end_date=end_date)"
   ]
  },
  {
   "cell_type": "code",
   "execution_count": 21,
   "metadata": {},
   "outputs": [],
   "source": [
    "readiness = pd.DataFrame.from_dict(readiness_data['readiness'])"
   ]
  },
  {
   "cell_type": "code",
   "execution_count": 22,
   "metadata": {},
   "outputs": [],
   "source": [
    "# readiness.tail()"
   ]
  },
  {
   "cell_type": "code",
   "execution_count": 23,
   "metadata": {},
   "outputs": [],
   "source": [
    "# save to csv\n",
    "readiness.to_csv('data/daily_readiness.csv', index=None, encoding='utf-8')"
   ]
  }
 ],
 "metadata": {
  "kernelspec": {
   "display_name": "Python 3",
   "language": "python",
   "name": "python3"
  },
  "language_info": {
   "codemirror_mode": {
    "name": "ipython",
    "version": 3
   },
   "file_extension": ".py",
   "mimetype": "text/x-python",
   "name": "python",
   "nbconvert_exporter": "python",
   "pygments_lexer": "ipython3",
   "version": "3.9.1"
  },
  "latex_envs": {
   "LaTeX_envs_menu_present": true,
   "autoclose": false,
   "autocomplete": true,
   "bibliofile": "biblio.bib",
   "cite_by": "apalike",
   "current_citInitial": 1,
   "eqLabelWithNumbers": true,
   "eqNumInitial": 1,
   "hotkeys": {
    "equation": "Ctrl-E",
    "itemize": "Ctrl-I"
   },
   "labels_anchors": false,
   "latex_user_defs": false,
   "report_style_numbering": false,
   "user_envs_cfg": false
  }
 },
 "nbformat": 4,
 "nbformat_minor": 2
}
