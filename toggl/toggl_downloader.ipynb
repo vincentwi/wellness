{
 "cells": [
  {
   "cell_type": "markdown",
   "metadata": {},
   "source": [
    "# Toggl Reports Downloader"
   ]
  },
  {
   "cell_type": "markdown",
   "metadata": {},
   "source": [
    "Script to Extract from Toggl API and create CSV Export of **Latest and Complete Timelogs** as as well as separate exports of Clients, Projects, Workspace Lists. \n",
    "\n",
    "Useful for back up purposes or additional data analysis. "
   ]
  },
  {
   "cell_type": "markdown",
   "metadata": {},
   "source": [
    "----"
   ]
  },
  {
   "cell_type": "markdown",
   "metadata": {},
   "source": [
    "### Add Dependencies"
   ]
  },
  {
   "cell_type": "code",
   "execution_count": 1,
   "metadata": {
    "collapsed": true
   },
   "outputs": [],
   "source": [
    "import pandas as pd\n",
    "from datetime import datetime\n",
    "from dateutil.parser import parse\n",
    "import time\n",
    "import pytz"
   ]
  },
  {
   "cell_type": "code",
   "execution_count": 2,
   "metadata": {
    "collapsed": true
   },
   "outputs": [],
   "source": [
    "# Toggl Wrapper API \n",
    "# https://github.com/matthewdowney/TogglPy\n",
    "import TogglPy"
   ]
  },
  {
   "cell_type": "markdown",
   "metadata": {},
   "source": [
    "----"
   ]
  },
  {
   "cell_type": "markdown",
   "metadata": {},
   "source": [
    "## Authentication"
   ]
  },
  {
   "cell_type": "code",
   "execution_count": 3,
   "metadata": {
    "collapsed": true
   },
   "outputs": [],
   "source": [
    "import json\n",
    "\n",
    "with open(\"credentials.json\", \"r\") as file:\n",
    "    credentials = json.load(file)\n",
    "    toggl_cr = credentials['toggl']\n",
    "    APIKEY = toggl_cr['APIKEY']"
   ]
  },
  {
   "cell_type": "code",
   "execution_count": 4,
   "metadata": {
    "collapsed": true
   },
   "outputs": [],
   "source": [
    "toggl = TogglPy.Toggl()\n",
    "toggl.setAPIKey(APIKEY) "
   ]
  },
  {
   "cell_type": "markdown",
   "metadata": {},
   "source": [
    "-----"
   ]
  },
  {
   "cell_type": "markdown",
   "metadata": {},
   "source": [
    "## User Data"
   ]
  },
  {
   "cell_type": "code",
   "execution_count": 5,
   "metadata": {
    "collapsed": true
   },
   "outputs": [],
   "source": [
    "user = toggl.request(\"https://www.toggl.com/api/v8/me\")"
   ]
  },
  {
   "cell_type": "code",
   "execution_count": 6,
   "metadata": {
    "collapsed": true
   },
   "outputs": [],
   "source": [
    "user_id = user['data']['id']"
   ]
  },
  {
   "cell_type": "code",
   "execution_count": 7,
   "metadata": {},
   "outputs": [
    {
     "data": {
      "text/plain": [
       "'Markwkoester'"
      ]
     },
     "execution_count": 7,
     "metadata": {},
     "output_type": "execute_result"
    }
   ],
   "source": [
    "user['data']['fullname']"
   ]
  },
  {
   "cell_type": "code",
   "execution_count": 8,
   "metadata": {},
   "outputs": [
    {
     "data": {
      "text/plain": [
       "datetime.datetime(2013, 2, 12, 13, 6, 33, tzinfo=tzutc())"
      ]
     },
     "execution_count": 8,
     "metadata": {},
     "output_type": "execute_result"
    }
   ],
   "source": [
    "join_date = parse(user['data']['created_at'])\n",
    "join_date"
   ]
  },
  {
   "cell_type": "code",
   "execution_count": 9,
   "metadata": {},
   "outputs": [
    {
     "name": "stdout",
     "output_type": "stream",
     "text": [
      "Days Since Joining: 2058\n"
     ]
    }
   ],
   "source": [
    "# today = datetime.now()\n",
    "def utcnow():\n",
    "    return datetime.now(tz=pytz.utc)\n",
    "today = utcnow()\n",
    "dates = list(pd.date_range(join_date, today))\n",
    "print(\"Days Since Joining: \" + str(len(dates))) # days since joining"
   ]
  },
  {
   "cell_type": "markdown",
   "metadata": {},
   "source": [
    "-----"
   ]
  },
  {
   "cell_type": "markdown",
   "metadata": {},
   "source": [
    "## Clients"
   ]
  },
  {
   "cell_type": "code",
   "execution_count": 10,
   "metadata": {
    "collapsed": true
   },
   "outputs": [],
   "source": [
    "user_clients = toggl.request(\"https://www.toggl.com/api/v8/clients\")"
   ]
  },
  {
   "cell_type": "code",
   "execution_count": 11,
   "metadata": {
    "collapsed": true
   },
   "outputs": [],
   "source": [
    "clients = pd.DataFrame()\n",
    "for i in list(range(0, len(user_clients))):\n",
    "    clients_df_temp = pd.DataFrame.from_dict(user_clients)\n",
    "    clients = pd.concat([clients_df_temp, clients])"
   ]
  },
  {
   "cell_type": "code",
   "execution_count": 12,
   "metadata": {
    "collapsed": true
   },
   "outputs": [],
   "source": [
    "clients.to_csv('data/toggl-clients.csv')"
   ]
  },
  {
   "cell_type": "markdown",
   "metadata": {},
   "source": [
    "-----"
   ]
  },
  {
   "cell_type": "markdown",
   "metadata": {},
   "source": [
    "## Workplaces"
   ]
  },
  {
   "cell_type": "markdown",
   "metadata": {},
   "source": [
    "API Ref: https://github.com/toggl/toggl_api_docs/blob/master/chapters/workspaces.md#get-workspaces"
   ]
  },
  {
   "cell_type": "code",
   "execution_count": 13,
   "metadata": {
    "collapsed": true
   },
   "outputs": [],
   "source": [
    "workspaces_list = toggl.request(\"https://www.toggl.com/api/v8/workspaces\")"
   ]
  },
  {
   "cell_type": "code",
   "execution_count": 14,
   "metadata": {},
   "outputs": [
    {
     "data": {
      "text/plain": [
       "3"
      ]
     },
     "execution_count": 14,
     "metadata": {},
     "output_type": "execute_result"
    }
   ],
   "source": [
    "len(workspaces_list)"
   ]
  },
  {
   "cell_type": "code",
   "execution_count": 15,
   "metadata": {
    "collapsed": true
   },
   "outputs": [],
   "source": [
    "workspaces = pd.DataFrame.from_dict(workspaces_list)"
   ]
  },
  {
   "cell_type": "code",
   "execution_count": 16,
   "metadata": {},
   "outputs": [],
   "source": [
    "workspaces_dict = dict(zip(workspaces.id, workspaces.name))"
   ]
  },
  {
   "cell_type": "code",
   "execution_count": 17,
   "metadata": {
    "collapsed": true
   },
   "outputs": [],
   "source": [
    "workspaces.to_csv('data/toggl-workspaces.csv')"
   ]
  },
  {
   "cell_type": "markdown",
   "metadata": {},
   "source": [
    "----"
   ]
  },
  {
   "cell_type": "markdown",
   "metadata": {},
   "source": [
    "## Workplace Projects"
   ]
  },
  {
   "cell_type": "markdown",
   "metadata": {},
   "source": [
    "* API Ref: https://github.com/toggl/toggl_api_docs/blob/master/chapters/workspaces.md#get-workspace-projects\n",
    "* Endpoint: https://www.toggl.com/api/v8/workspaces/{workspace_id}/projects"
   ]
  },
  {
   "cell_type": "code",
   "execution_count": 18,
   "metadata": {
    "collapsed": true
   },
   "outputs": [
    {
     "name": "stderr",
     "output_type": "stream",
     "text": [
      "/Users/markkoester/anaconda3/lib/python3.6/site-packages/ipykernel_launcher.py:5: FutureWarning: Sorting because non-concatenation axis is not aligned. A future version\n",
      "of pandas will change to not sort by default.\n",
      "\n",
      "To accept the future behavior, pass 'sort=False'.\n",
      "\n",
      "To retain the current behavior and silence the warning, pass 'sort=True'.\n",
      "\n",
      "  \"\"\"\n"
     ]
    }
   ],
   "source": [
    "projects = pd.DataFrame()\n",
    "for i in list(range(0, len(workspaces_list))):\n",
    "    projects_list = toggl.request(\"https://www.toggl.com/api/v8/workspaces/\" + str(workspaces_list[i]['id']) + \"/projects\")\n",
    "    projects_df_temp = pd.DataFrame.from_dict(projects_list)\n",
    "    projects = pd.concat([projects_df_temp, projects])"
   ]
  },
  {
   "cell_type": "code",
   "execution_count": 19,
   "metadata": {},
   "outputs": [
    {
     "data": {
      "text/plain": [
       "49"
      ]
     },
     "execution_count": 19,
     "metadata": {},
     "output_type": "execute_result"
    }
   ],
   "source": [
    "len(projects)"
   ]
  },
  {
   "cell_type": "code",
   "execution_count": 20,
   "metadata": {},
   "outputs": [],
   "source": [
    "# map workspace name onto projects\n",
    "projects['workspace_name'] = projects.wid.map(workspaces_dict)"
   ]
  },
  {
   "cell_type": "code",
   "execution_count": 21,
   "metadata": {},
   "outputs": [
    {
     "data": {
      "text/html": [
       "<div>\n",
       "<style scoped>\n",
       "    .dataframe tbody tr th:only-of-type {\n",
       "        vertical-align: middle;\n",
       "    }\n",
       "\n",
       "    .dataframe tbody tr th {\n",
       "        vertical-align: top;\n",
       "    }\n",
       "\n",
       "    .dataframe thead th {\n",
       "        text-align: right;\n",
       "    }\n",
       "</style>\n",
       "<table border=\"1\" class=\"dataframe\">\n",
       "  <thead>\n",
       "    <tr style=\"text-align: right;\">\n",
       "      <th></th>\n",
       "      <th>active</th>\n",
       "      <th>actual_hours</th>\n",
       "      <th>at</th>\n",
       "      <th>auto_estimates</th>\n",
       "      <th>billable</th>\n",
       "      <th>color</th>\n",
       "      <th>created_at</th>\n",
       "      <th>guid</th>\n",
       "      <th>hex_color</th>\n",
       "      <th>id</th>\n",
       "      <th>is_private</th>\n",
       "      <th>name</th>\n",
       "      <th>template</th>\n",
       "      <th>wid</th>\n",
       "      <th>workspace_name</th>\n",
       "    </tr>\n",
       "  </thead>\n",
       "  <tbody>\n",
       "    <tr>\n",
       "      <th>0</th>\n",
       "      <td>True</td>\n",
       "      <td>42.0</td>\n",
       "      <td>2018-02-16T10:10:03+00:00</td>\n",
       "      <td>False</td>\n",
       "      <td>False</td>\n",
       "      <td>10</td>\n",
       "      <td>2018-02-16T10:10:03+00:00</td>\n",
       "      <td>NaN</td>\n",
       "      <td>#f1c33f</td>\n",
       "      <td>100370156</td>\n",
       "      <td>True</td>\n",
       "      <td>BioMarker Tracker</td>\n",
       "      <td>False</td>\n",
       "      <td>1234339</td>\n",
       "      <td>My Startup Projects</td>\n",
       "    </tr>\n",
       "    <tr>\n",
       "      <th>1</th>\n",
       "      <td>True</td>\n",
       "      <td>56.0</td>\n",
       "      <td>2018-02-16T10:10:17+00:00</td>\n",
       "      <td>False</td>\n",
       "      <td>False</td>\n",
       "      <td>5</td>\n",
       "      <td>2018-02-16T10:10:10+00:00</td>\n",
       "      <td>NaN</td>\n",
       "      <td>#4bc800</td>\n",
       "      <td>100370160</td>\n",
       "      <td>True</td>\n",
       "      <td>PhotoStats App</td>\n",
       "      <td>False</td>\n",
       "      <td>1234339</td>\n",
       "      <td>My Startup Projects</td>\n",
       "    </tr>\n",
       "    <tr>\n",
       "      <th>2</th>\n",
       "      <td>True</td>\n",
       "      <td>8.0</td>\n",
       "      <td>2018-02-16T10:10:30+00:00</td>\n",
       "      <td>False</td>\n",
       "      <td>False</td>\n",
       "      <td>8</td>\n",
       "      <td>2018-02-16T10:10:30+00:00</td>\n",
       "      <td>NaN</td>\n",
       "      <td>#3750b5</td>\n",
       "      <td>100370166</td>\n",
       "      <td>True</td>\n",
       "      <td>Podcast Tracker</td>\n",
       "      <td>False</td>\n",
       "      <td>1234339</td>\n",
       "      <td>My Startup Projects</td>\n",
       "    </tr>\n",
       "  </tbody>\n",
       "</table>\n",
       "</div>"
      ],
      "text/plain": [
       "   active  actual_hours                         at  auto_estimates  billable  \\\n",
       "0    True          42.0  2018-02-16T10:10:03+00:00           False     False   \n",
       "1    True          56.0  2018-02-16T10:10:17+00:00           False     False   \n",
       "2    True           8.0  2018-02-16T10:10:30+00:00           False     False   \n",
       "\n",
       "  color                 created_at guid hex_color         id  is_private  \\\n",
       "0    10  2018-02-16T10:10:03+00:00  NaN   #f1c33f  100370156        True   \n",
       "1     5  2018-02-16T10:10:10+00:00  NaN   #4bc800  100370160        True   \n",
       "2     8  2018-02-16T10:10:30+00:00  NaN   #3750b5  100370166        True   \n",
       "\n",
       "                name  template      wid       workspace_name  \n",
       "0  BioMarker Tracker     False  1234339  My Startup Projects  \n",
       "1     PhotoStats App     False  1234339  My Startup Projects  \n",
       "2    Podcast Tracker     False  1234339  My Startup Projects  "
      ]
     },
     "execution_count": 21,
     "metadata": {},
     "output_type": "execute_result"
    }
   ],
   "source": [
    "projects.head(3)"
   ]
  },
  {
   "cell_type": "code",
   "execution_count": 22,
   "metadata": {},
   "outputs": [
    {
     "data": {
      "text/plain": [
       "7112.0"
      ]
     },
     "execution_count": 22,
     "metadata": {},
     "output_type": "execute_result"
    }
   ],
   "source": [
    "# total time of active projects\n",
    "projects.actual_hours.sum()"
   ]
  },
  {
   "cell_type": "code",
   "execution_count": 23,
   "metadata": {
    "collapsed": true
   },
   "outputs": [],
   "source": [
    "projects.to_csv('data/toggl-current-projects.csv')"
   ]
  },
  {
   "cell_type": "markdown",
   "metadata": {},
   "source": [
    "----"
   ]
  },
  {
   "cell_type": "markdown",
   "metadata": {},
   "source": [
    "# Collect Yearly Export of Detailed Timelogs"
   ]
  },
  {
   "cell_type": "code",
   "execution_count": 24,
   "metadata": {
    "collapsed": true
   },
   "outputs": [],
   "source": [
    "def get_detailed_reports(wid, since, until):  # max 365 days\n",
    "    uid = user_id\n",
    "    param = {\n",
    "        'workspace_id': wid,\n",
    "        'since': since,\n",
    "        'until': until,\n",
    "        'uid': uid\n",
    "    }\n",
    "    #print(str(workspace_id) + \" \" + since)\n",
    "    toggl.getDetailedReportCSV(param, \"data/detailed/toggl-detailed-report-\" + wid + \"-\" + since + \"-\" + until + \".csv\")"
   ]
  },
  {
   "cell_type": "code",
   "execution_count": 25,
   "metadata": {},
   "outputs": [
    {
     "data": {
      "text/plain": [
       "[2013, 2014, 2015, 2016, 2017, 2018]"
      ]
     },
     "execution_count": 25,
     "metadata": {},
     "output_type": "execute_result"
    }
   ],
   "source": [
    "# years since joinging\n",
    "last_year = today.year + 1\n",
    "years = list(range(join_date.year, last_year))\n",
    "years"
   ]
  },
  {
   "cell_type": "code",
   "execution_count": 26,
   "metadata": {
    "collapsed": true
   },
   "outputs": [],
   "source": [
    "# list of workspace ids\n",
    "workspace_ids = []\n",
    "for i in workspaces_list:\n",
    "    workspace_ids.append(i['id'])\n",
    "# workspace_ids"
   ]
  },
  {
   "cell_type": "code",
   "execution_count": 27,
   "metadata": {},
   "outputs": [
    {
     "data": {
      "text/plain": [
       "[341257, 373504, 1234339]"
      ]
     },
     "execution_count": 27,
     "metadata": {},
     "output_type": "execute_result"
    }
   ],
   "source": [
    "workspace_ids"
   ]
  },
  {
   "cell_type": "code",
   "execution_count": 28,
   "metadata": {
    "collapsed": true
   },
   "outputs": [],
   "source": [
    "# Generate Detail CSV Tester\n",
    "workspace_id = \"373504\"\n",
    "since = \"2017-01-01\"\n",
    "until = \"2017-12-31\"\n",
    "\n",
    "get_detailed_reports(workspace_id, since, until)"
   ]
  },
  {
   "cell_type": "code",
   "execution_count": 29,
   "metadata": {},
   "outputs": [
    {
     "name": "stdout",
     "output_type": "stream",
     "text": [
      "Generating CSV... for Workspace: 341257 from 2013-01-01 until 2013-12-31\n",
      "Generating CSV... for Workspace: 341257 from 2014-01-01 until 2014-12-31\n",
      "Generating CSV... for Workspace: 341257 from 2015-01-01 until 2015-12-31\n",
      "Generating CSV... for Workspace: 341257 from 2016-01-01 until 2016-12-31\n",
      "Generating CSV... for Workspace: 341257 from 2017-01-01 until 2017-12-31\n",
      "Generating CSV... for Workspace: 341257 from 2018-01-01 until 2018-12-31\n",
      "Generating CSV... for Workspace: 373504 from 2013-01-01 until 2013-12-31\n",
      "Generating CSV... for Workspace: 373504 from 2014-01-01 until 2014-12-31\n",
      "Generating CSV... for Workspace: 373504 from 2015-01-01 until 2015-12-31\n",
      "Generating CSV... for Workspace: 373504 from 2016-01-01 until 2016-12-31\n",
      "Generating CSV... for Workspace: 373504 from 2017-01-01 until 2017-12-31\n",
      "Generating CSV... for Workspace: 373504 from 2018-01-01 until 2018-12-31\n",
      "Generating CSV... for Workspace: 1234339 from 2013-01-01 until 2013-12-31\n",
      "Generating CSV... for Workspace: 1234339 from 2014-01-01 until 2014-12-31\n",
      "Generating CSV... for Workspace: 1234339 from 2015-01-01 until 2015-12-31\n",
      "Generating CSV... for Workspace: 1234339 from 2016-01-01 until 2016-12-31\n",
      "Generating CSV... for Workspace: 1234339 from 2017-01-01 until 2017-12-31\n",
      "Generating CSV... for Workspace: 1234339 from 2018-01-01 until 2018-12-31\n"
     ]
    }
   ],
   "source": [
    "# generate a yearly report for each workspace\n",
    "for i in workspace_ids:\n",
    "    wid = str(i)\n",
    "    for y in years:\n",
    "        try: \n",
    "            since = str(y) + \"-01-01\" # \"2013-01-01\"\n",
    "            until = str(y) + \"-12-31\" # \"2013-12-31\"\n",
    "            print(\"Generating CSV... \" + \"for Workspace: \" + str(wid) + \" from \" + since + \" until \" + until)\n",
    "            get_detailed_reports(wid, since, until)            \n",
    "        except:\n",
    "            print(\"ERROR On:  \" + str(uid) + \" \" + str(wid) + \" from \" + since + \" until \" + until)"
   ]
  },
  {
   "cell_type": "markdown",
   "metadata": {},
   "source": [
    "-----"
   ]
  },
  {
   "cell_type": "markdown",
   "metadata": {},
   "source": [
    "## Log of Latest Time Entries for that User "
   ]
  },
  {
   "cell_type": "markdown",
   "metadata": {},
   "source": [
    "* API Ref: https://github.com/toggl/toggl_api_docs/blob/master/chapters/time_entries.md#get-time-entries-started-in-a-specific-time-range\n",
    "* Endpoint: https://www.toggl.com/api/v8/time_entries \n",
    "* Note: start_date and end_date must be ISO 8601 date and time strings."
   ]
  },
  {
   "cell_type": "code",
   "execution_count": 30,
   "metadata": {
    "collapsed": true
   },
   "outputs": [],
   "source": [
    "# latest_time_entries from last 9 days\n",
    "latest_time_entries = toggl.request(\"https://www.toggl.com/api/v8/time_entries\")"
   ]
  },
  {
   "cell_type": "code",
   "execution_count": 31,
   "metadata": {},
   "outputs": [
    {
     "data": {
      "text/plain": [
       "64"
      ]
     },
     "execution_count": 31,
     "metadata": {},
     "output_type": "execute_result"
    }
   ],
   "source": [
    "len(latest_time_entries)"
   ]
  },
  {
   "cell_type": "code",
   "execution_count": 32,
   "metadata": {},
   "outputs": [
    {
     "data": {
      "text/plain": [
       "{'at': '2018-10-02T02:58:41+00:00',\n",
       " 'billable': False,\n",
       " 'description': 'Using Time Tracking Data Preparations',\n",
       " 'duration': -1538449120,\n",
       " 'duronly': False,\n",
       " 'guid': 'd9a652c833581c6f8f14d5c68bae7146',\n",
       " 'id': 988833651,\n",
       " 'pid': 25620514,\n",
       " 'start': '2018-10-02T02:58:40+00:00',\n",
       " 'tags': ['ddy'],\n",
       " 'uid': 440666,\n",
       " 'wid': 341257}"
      ]
     },
     "execution_count": 32,
     "metadata": {},
     "output_type": "execute_result"
    }
   ],
   "source": [
    "latest_time_entries[-1]"
   ]
  },
  {
   "cell_type": "code",
   "execution_count": 33,
   "metadata": {
    "collapsed": true
   },
   "outputs": [],
   "source": [
    "latest_timelog = pd.DataFrame.from_dict(latest_time_entries)"
   ]
  },
  {
   "cell_type": "code",
   "execution_count": 34,
   "metadata": {
    "scrolled": true
   },
   "outputs": [
    {
     "data": {
      "text/html": [
       "<div>\n",
       "<style scoped>\n",
       "    .dataframe tbody tr th:only-of-type {\n",
       "        vertical-align: middle;\n",
       "    }\n",
       "\n",
       "    .dataframe tbody tr th {\n",
       "        vertical-align: top;\n",
       "    }\n",
       "\n",
       "    .dataframe thead th {\n",
       "        text-align: right;\n",
       "    }\n",
       "</style>\n",
       "<table border=\"1\" class=\"dataframe\">\n",
       "  <thead>\n",
       "    <tr style=\"text-align: right;\">\n",
       "      <th></th>\n",
       "      <th>at</th>\n",
       "      <th>billable</th>\n",
       "      <th>description</th>\n",
       "      <th>duration</th>\n",
       "      <th>duronly</th>\n",
       "      <th>guid</th>\n",
       "      <th>id</th>\n",
       "      <th>pid</th>\n",
       "      <th>start</th>\n",
       "      <th>stop</th>\n",
       "      <th>tags</th>\n",
       "      <th>uid</th>\n",
       "      <th>wid</th>\n",
       "    </tr>\n",
       "  </thead>\n",
       "  <tbody>\n",
       "    <tr>\n",
       "      <th>59</th>\n",
       "      <td>2018-10-01T11:26:42+00:00</td>\n",
       "      <td>False</td>\n",
       "      <td>Using Time Data</td>\n",
       "      <td>4649</td>\n",
       "      <td>False</td>\n",
       "      <td>f326a873fe607074f0fc700b6b5a75b8</td>\n",
       "      <td>987893732</td>\n",
       "      <td>2759162</td>\n",
       "      <td>2018-10-01T10:09:11+00:00</td>\n",
       "      <td>2018-10-01T11:26:40+00:00</td>\n",
       "      <td>NaN</td>\n",
       "      <td>440666</td>\n",
       "      <td>341257</td>\n",
       "    </tr>\n",
       "    <tr>\n",
       "      <th>60</th>\n",
       "      <td>2018-10-01T12:40:09+00:00</td>\n",
       "      <td>False</td>\n",
       "      <td>Invoices</td>\n",
       "      <td>2192</td>\n",
       "      <td>False</td>\n",
       "      <td>0964403755bc2f5391a3e0b6cdb43b73</td>\n",
       "      <td>988016673</td>\n",
       "      <td>5573084</td>\n",
       "      <td>2018-10-01T12:03:35+00:00</td>\n",
       "      <td>2018-10-01T12:40:07+00:00</td>\n",
       "      <td>NaN</td>\n",
       "      <td>440666</td>\n",
       "      <td>341257</td>\n",
       "    </tr>\n",
       "    <tr>\n",
       "      <th>61</th>\n",
       "      <td>2018-10-01T13:08:22+00:00</td>\n",
       "      <td>False</td>\n",
       "      <td>Planning for Travels</td>\n",
       "      <td>1356</td>\n",
       "      <td>False</td>\n",
       "      <td>896b7e72d279873dae82bc3aef5e0651</td>\n",
       "      <td>988070101</td>\n",
       "      <td>2858673</td>\n",
       "      <td>2018-10-01T12:45:44+00:00</td>\n",
       "      <td>2018-10-01T13:08:20+00:00</td>\n",
       "      <td>NaN</td>\n",
       "      <td>440666</td>\n",
       "      <td>341257</td>\n",
       "    </tr>\n",
       "    <tr>\n",
       "      <th>62</th>\n",
       "      <td>2018-10-02T02:58:36+00:00</td>\n",
       "      <td>False</td>\n",
       "      <td>Morning Pages</td>\n",
       "      <td>541</td>\n",
       "      <td>False</td>\n",
       "      <td>36487d25826cdb89255f5b1064962d00</td>\n",
       "      <td>988830684</td>\n",
       "      <td>2759162</td>\n",
       "      <td>2018-10-02T02:49:34+00:00</td>\n",
       "      <td>2018-10-02T02:58:35+00:00</td>\n",
       "      <td>NaN</td>\n",
       "      <td>440666</td>\n",
       "      <td>341257</td>\n",
       "    </tr>\n",
       "    <tr>\n",
       "      <th>63</th>\n",
       "      <td>2018-10-02T02:58:41+00:00</td>\n",
       "      <td>False</td>\n",
       "      <td>Using Time Tracking Data Preparations</td>\n",
       "      <td>-1538449120</td>\n",
       "      <td>False</td>\n",
       "      <td>d9a652c833581c6f8f14d5c68bae7146</td>\n",
       "      <td>988833651</td>\n",
       "      <td>25620514</td>\n",
       "      <td>2018-10-02T02:58:40+00:00</td>\n",
       "      <td>NaN</td>\n",
       "      <td>[ddy]</td>\n",
       "      <td>440666</td>\n",
       "      <td>341257</td>\n",
       "    </tr>\n",
       "  </tbody>\n",
       "</table>\n",
       "</div>"
      ],
      "text/plain": [
       "                           at  billable  \\\n",
       "59  2018-10-01T11:26:42+00:00     False   \n",
       "60  2018-10-01T12:40:09+00:00     False   \n",
       "61  2018-10-01T13:08:22+00:00     False   \n",
       "62  2018-10-02T02:58:36+00:00     False   \n",
       "63  2018-10-02T02:58:41+00:00     False   \n",
       "\n",
       "                              description    duration  duronly  \\\n",
       "59                        Using Time Data        4649    False   \n",
       "60                               Invoices        2192    False   \n",
       "61                   Planning for Travels        1356    False   \n",
       "62                          Morning Pages         541    False   \n",
       "63  Using Time Tracking Data Preparations -1538449120    False   \n",
       "\n",
       "                                guid         id       pid  \\\n",
       "59  f326a873fe607074f0fc700b6b5a75b8  987893732   2759162   \n",
       "60  0964403755bc2f5391a3e0b6cdb43b73  988016673   5573084   \n",
       "61  896b7e72d279873dae82bc3aef5e0651  988070101   2858673   \n",
       "62  36487d25826cdb89255f5b1064962d00  988830684   2759162   \n",
       "63  d9a652c833581c6f8f14d5c68bae7146  988833651  25620514   \n",
       "\n",
       "                        start                       stop   tags     uid  \\\n",
       "59  2018-10-01T10:09:11+00:00  2018-10-01T11:26:40+00:00    NaN  440666   \n",
       "60  2018-10-01T12:03:35+00:00  2018-10-01T12:40:07+00:00    NaN  440666   \n",
       "61  2018-10-01T12:45:44+00:00  2018-10-01T13:08:20+00:00    NaN  440666   \n",
       "62  2018-10-02T02:49:34+00:00  2018-10-02T02:58:35+00:00    NaN  440666   \n",
       "63  2018-10-02T02:58:40+00:00                        NaN  [ddy]  440666   \n",
       "\n",
       "       wid  \n",
       "59  341257  \n",
       "60  341257  \n",
       "61  341257  \n",
       "62  341257  \n",
       "63  341257  "
      ]
     },
     "execution_count": 34,
     "metadata": {},
     "output_type": "execute_result"
    }
   ],
   "source": [
    "latest_timelog.tail()"
   ]
  },
  {
   "cell_type": "code",
   "execution_count": 35,
   "metadata": {},
   "outputs": [
    {
     "data": {
      "text/html": [
       "<div>\n",
       "<style scoped>\n",
       "    .dataframe tbody tr th:only-of-type {\n",
       "        vertical-align: middle;\n",
       "    }\n",
       "\n",
       "    .dataframe tbody tr th {\n",
       "        vertical-align: top;\n",
       "    }\n",
       "\n",
       "    .dataframe thead th {\n",
       "        text-align: right;\n",
       "    }\n",
       "</style>\n",
       "<table border=\"1\" class=\"dataframe\">\n",
       "  <thead>\n",
       "    <tr style=\"text-align: right;\">\n",
       "      <th></th>\n",
       "      <th>at</th>\n",
       "      <th>billable</th>\n",
       "      <th>description</th>\n",
       "      <th>duration</th>\n",
       "      <th>duronly</th>\n",
       "      <th>guid</th>\n",
       "      <th>id</th>\n",
       "      <th>pid</th>\n",
       "      <th>start</th>\n",
       "      <th>stop</th>\n",
       "      <th>tags</th>\n",
       "      <th>uid</th>\n",
       "      <th>wid</th>\n",
       "    </tr>\n",
       "  </thead>\n",
       "  <tbody>\n",
       "    <tr>\n",
       "      <th>0</th>\n",
       "      <td>2018-09-24T03:05:32+00:00</td>\n",
       "      <td>False</td>\n",
       "      <td>Morning Pages - Half Marathon Analysis</td>\n",
       "      <td>2680</td>\n",
       "      <td>False</td>\n",
       "      <td>370f06b3e053946358f87f166edd4a07</td>\n",
       "      <td>981433205</td>\n",
       "      <td>2759162</td>\n",
       "      <td>2018-09-24T02:20:51+00:00</td>\n",
       "      <td>2018-09-24T03:05:31+00:00</td>\n",
       "      <td>NaN</td>\n",
       "      <td>440666</td>\n",
       "      <td>341257</td>\n",
       "    </tr>\n",
       "    <tr>\n",
       "      <th>1</th>\n",
       "      <td>2018-09-24T04:55:10+00:00</td>\n",
       "      <td>False</td>\n",
       "      <td>DOC: Personal Data Collection with Code using ...</td>\n",
       "      <td>4746</td>\n",
       "      <td>False</td>\n",
       "      <td>a2fd1e7082e2e04320d0588e3a0cfd2c</td>\n",
       "      <td>981440483</td>\n",
       "      <td>2759162</td>\n",
       "      <td>2018-09-24T03:36:03+00:00</td>\n",
       "      <td>2018-09-24T04:55:09+00:00</td>\n",
       "      <td>[ddy]</td>\n",
       "      <td>440666</td>\n",
       "      <td>341257</td>\n",
       "    </tr>\n",
       "    <tr>\n",
       "      <th>2</th>\n",
       "      <td>2018-09-24T07:40:15+00:00</td>\n",
       "      <td>False</td>\n",
       "      <td>Slides and RESEARCH: Anaconda Setup and Instal...</td>\n",
       "      <td>4410</td>\n",
       "      <td>False</td>\n",
       "      <td>96c1658d1756e4cddb4b5f14702962de</td>\n",
       "      <td>981501478</td>\n",
       "      <td>2759162</td>\n",
       "      <td>2018-09-24T06:26:43+00:00</td>\n",
       "      <td>2018-09-24T07:40:13+00:00</td>\n",
       "      <td>[ddy]</td>\n",
       "      <td>440666</td>\n",
       "      <td>341257</td>\n",
       "    </tr>\n",
       "    <tr>\n",
       "      <th>3</th>\n",
       "      <td>2018-09-24T09:30:54+00:00</td>\n",
       "      <td>False</td>\n",
       "      <td>Overview of Data Collection</td>\n",
       "      <td>3735</td>\n",
       "      <td>False</td>\n",
       "      <td>896d6c435de8eaff6905ac8ed66852b4</td>\n",
       "      <td>981614498</td>\n",
       "      <td>2759162</td>\n",
       "      <td>2018-09-24T08:28:38+00:00</td>\n",
       "      <td>2018-09-24T09:30:53+00:00</td>\n",
       "      <td>[ddy]</td>\n",
       "      <td>440666</td>\n",
       "      <td>341257</td>\n",
       "    </tr>\n",
       "    <tr>\n",
       "      <th>4</th>\n",
       "      <td>2018-09-25T10:11:44+00:00</td>\n",
       "      <td>False</td>\n",
       "      <td>Morning Pages</td>\n",
       "      <td>317</td>\n",
       "      <td>False</td>\n",
       "      <td>eaa91f325bcadae7e42a05dbb134e3a0</td>\n",
       "      <td>982970019</td>\n",
       "      <td>2759162</td>\n",
       "      <td>2018-09-25T10:06:26+00:00</td>\n",
       "      <td>2018-09-25T10:11:43+00:00</td>\n",
       "      <td>NaN</td>\n",
       "      <td>440666</td>\n",
       "      <td>341257</td>\n",
       "    </tr>\n",
       "  </tbody>\n",
       "</table>\n",
       "</div>"
      ],
      "text/plain": [
       "                          at  billable  \\\n",
       "0  2018-09-24T03:05:32+00:00     False   \n",
       "1  2018-09-24T04:55:10+00:00     False   \n",
       "2  2018-09-24T07:40:15+00:00     False   \n",
       "3  2018-09-24T09:30:54+00:00     False   \n",
       "4  2018-09-25T10:11:44+00:00     False   \n",
       "\n",
       "                                         description  duration  duronly  \\\n",
       "0             Morning Pages - Half Marathon Analysis      2680    False   \n",
       "1  DOC: Personal Data Collection with Code using ...      4746    False   \n",
       "2  Slides and RESEARCH: Anaconda Setup and Instal...      4410    False   \n",
       "3                        Overview of Data Collection      3735    False   \n",
       "4                                      Morning Pages       317    False   \n",
       "\n",
       "                               guid         id      pid  \\\n",
       "0  370f06b3e053946358f87f166edd4a07  981433205  2759162   \n",
       "1  a2fd1e7082e2e04320d0588e3a0cfd2c  981440483  2759162   \n",
       "2  96c1658d1756e4cddb4b5f14702962de  981501478  2759162   \n",
       "3  896d6c435de8eaff6905ac8ed66852b4  981614498  2759162   \n",
       "4  eaa91f325bcadae7e42a05dbb134e3a0  982970019  2759162   \n",
       "\n",
       "                       start                       stop   tags     uid     wid  \n",
       "0  2018-09-24T02:20:51+00:00  2018-09-24T03:05:31+00:00    NaN  440666  341257  \n",
       "1  2018-09-24T03:36:03+00:00  2018-09-24T04:55:09+00:00  [ddy]  440666  341257  \n",
       "2  2018-09-24T06:26:43+00:00  2018-09-24T07:40:13+00:00  [ddy]  440666  341257  \n",
       "3  2018-09-24T08:28:38+00:00  2018-09-24T09:30:53+00:00  [ddy]  440666  341257  \n",
       "4  2018-09-25T10:06:26+00:00  2018-09-25T10:11:43+00:00    NaN  440666  341257  "
      ]
     },
     "execution_count": 35,
     "metadata": {},
     "output_type": "execute_result"
    }
   ],
   "source": [
    "latest_timelog.head()"
   ]
  },
  {
   "cell_type": "code",
   "execution_count": 36,
   "metadata": {
    "collapsed": true
   },
   "outputs": [],
   "source": [
    "latest_timelog.to_csv('data/toggl-timelog-latest.csv')"
   ]
  },
  {
   "cell_type": "markdown",
   "metadata": {},
   "source": [
    "-----"
   ]
  },
  {
   "cell_type": "markdown",
   "metadata": {},
   "source": [
    "# BONUS: Extract Times Entries for Every Single Day Using Toggl API"
   ]
  },
  {
   "cell_type": "markdown",
   "metadata": {},
   "source": [
    "**NOTE:** A bit of a hackish solution. But this is a possible approach to getting individual day logs. "
   ]
  },
  {
   "cell_type": "code",
   "execution_count": 37,
   "metadata": {
    "collapsed": true
   },
   "outputs": [],
   "source": [
    "extract_date_start = join_date.strftime(\"%Y-%m-%d\") # join date\n",
    "extract_date_end = today.strftime(\"%Y-%m-%d\") # today\n",
    "\n",
    "# UNCOMMENT TO Overide Full Extract \n",
    "extract_date_start = \"2018-05-23\"\n",
    "# extract_date_end = \"2018-05-01\".strftime(\"%Y-%m-%d\")\n",
    "# extract_date_end = today.strftime(\"%Y-%m-%d\") # today\n",
    "\n",
    "# Function that turns datetimes back to strings since that's what the API likes\n",
    "def date_only(datetimeVal):\n",
    "      datePart = datetimeVal.strftime(\"%Y-%m-%d\")\n",
    "      return datePart\n",
    "\n",
    "# List of Dates of Dates to Extract Time Entries\n",
    "dates_range = list(pd.date_range(extract_date_start, extract_date_end))\n",
    "dates_list = [date_only(x) for x in dates_range]"
   ]
  },
  {
   "cell_type": "code",
   "execution_count": 38,
   "metadata": {
    "collapsed": true
   },
   "outputs": [],
   "source": [
    "# Extract Timelogs Between Two Dates and Export to a CSV\n",
    "def toggl_timelog_extractor(input_date1, input_date2):\n",
    "    date1 = parse(input_date1).isoformat() + '+00:00'\n",
    "    date2 = parse(input_date2).isoformat() + '+00:00'\n",
    "    param = {\n",
    "        'start_date': date1,\n",
    "        'end_date': date2,\n",
    "    } \n",
    "    try:\n",
    "        temp_log =  pd.DataFrame.from_dict(toggl.request(\"https://www.toggl.com/api/v8/time_entries\", parameters=param))\n",
    "        temp_log.to_csv('data/detailed/toggl-time-entries-' + input_date1 + '.csv')\n",
    "    except: \n",
    "        # try again if there is an issue the first time\n",
    "        temp_log =  pd.DataFrame.from_dict(toggl.request(\"https://www.toggl.com/api/v8/time_entries\", parameters=param))\n",
    "        temp_log.to_csv('data/daily-detailed/toggl-time-entries-' + input_date1 + '.csv')"
   ]
  },
  {
   "cell_type": "code",
   "execution_count": 39,
   "metadata": {
    "collapsed": true
   },
   "outputs": [],
   "source": [
    "# UNCOMMENT to Test Between Two Date\n",
    "# date1 = '2013-07-23'\n",
    "# date2 = '2013-07-24'\n",
    "# toggl_timelog_extractor(date1, date2)"
   ]
  },
  {
   "cell_type": "code",
   "execution_count": 40,
   "metadata": {
    "collapsed": true
   },
   "outputs": [],
   "source": [
    "# UNCOMMENT TO RUN\n",
    "# Extract All Time Entry Data from Previous Days\n",
    "#for count, item in enumerate(dates_list):\n",
    "#    if item != dates_list[-1]:\n",
    "#        date1 = item\n",
    "#        date2 = (dates_list[count + 1])\n",
    "#        # print(item + \" ~ \"+ date2)\n",
    "#        time.sleep(1)\n",
    "#        toggl_timelog_extractor(date1, date2)"
   ]
  },
  {
   "cell_type": "markdown",
   "metadata": {},
   "source": [
    "-----"
   ]
  },
  {
   "cell_type": "markdown",
   "metadata": {},
   "source": [
    "# Simple Data Analysis  (Using Exported CSV Logs)"
   ]
  },
  {
   "cell_type": "code",
   "execution_count": 41,
   "metadata": {
    "collapsed": true
   },
   "outputs": [],
   "source": [
    "import glob\n",
    "import os"
   ]
  },
  {
   "cell_type": "code",
   "execution_count": 42,
   "metadata": {
    "collapsed": true
   },
   "outputs": [
    {
     "name": "stderr",
     "output_type": "stream",
     "text": [
      "/Users/markkoester/anaconda3/lib/python3.6/site-packages/ipykernel_launcher.py:9: FutureWarning: Sorting because non-concatenation axis is not aligned. A future version\n",
      "of pandas will change to not sort by default.\n",
      "\n",
      "To accept the future behavior, pass 'sort=False'.\n",
      "\n",
      "To retain the current behavior and silence the warning, pass 'sort=True'.\n",
      "\n",
      "  if __name__ == '__main__':\n"
     ]
    }
   ],
   "source": [
    "# import all days of time entries and create data frame\n",
    "path = 'data/detailed/'\n",
    "allFiles = glob.glob(path + \"/*.csv\")\n",
    "timelogs = pd.DataFrame()\n",
    "list_ = []\n",
    "for file_ in allFiles:\n",
    "    df = pd.read_csv(file_,index_col=None, header=0)\n",
    "    list_.append(df)\n",
    "timelog = pd.concat(list_)"
   ]
  },
  {
   "cell_type": "code",
   "execution_count": 43,
   "metadata": {},
   "outputs": [
    {
     "data": {
      "text/html": [
       "<div>\n",
       "<style scoped>\n",
       "    .dataframe tbody tr th:only-of-type {\n",
       "        vertical-align: middle;\n",
       "    }\n",
       "\n",
       "    .dataframe tbody tr th {\n",
       "        vertical-align: top;\n",
       "    }\n",
       "\n",
       "    .dataframe thead th {\n",
       "        text-align: right;\n",
       "    }\n",
       "</style>\n",
       "<table border=\"1\" class=\"dataframe\">\n",
       "  <thead>\n",
       "    <tr style=\"text-align: right;\">\n",
       "      <th></th>\n",
       "      <th>Amount ()</th>\n",
       "      <th>Billable</th>\n",
       "      <th>Client</th>\n",
       "      <th>Description</th>\n",
       "      <th>Duration</th>\n",
       "      <th>Email</th>\n",
       "      <th>End date</th>\n",
       "      <th>End time</th>\n",
       "      <th>Project</th>\n",
       "      <th>Start date</th>\n",
       "      <th>Start time</th>\n",
       "      <th>Tags</th>\n",
       "      <th>Task</th>\n",
       "      <th>User</th>\n",
       "    </tr>\n",
       "  </thead>\n",
       "  <tbody>\n",
       "    <tr>\n",
       "      <th>0</th>\n",
       "      <td>NaN</td>\n",
       "      <td>No</td>\n",
       "      <td>NaN</td>\n",
       "      <td>Morning Pages</td>\n",
       "      <td>00:09:01</td>\n",
       "      <td>markwkoester@gmail.com</td>\n",
       "      <td>2018-10-02</td>\n",
       "      <td>10:58:35</td>\n",
       "      <td>Writing</td>\n",
       "      <td>2018-10-02</td>\n",
       "      <td>10:49:34</td>\n",
       "      <td>NaN</td>\n",
       "      <td>NaN</td>\n",
       "      <td>Markwkoester</td>\n",
       "    </tr>\n",
       "    <tr>\n",
       "      <th>1</th>\n",
       "      <td>NaN</td>\n",
       "      <td>No</td>\n",
       "      <td>NaN</td>\n",
       "      <td>Planning for Travels</td>\n",
       "      <td>00:22:36</td>\n",
       "      <td>markwkoester@gmail.com</td>\n",
       "      <td>2018-10-01</td>\n",
       "      <td>21:08:20</td>\n",
       "      <td>Organizational Work</td>\n",
       "      <td>2018-10-01</td>\n",
       "      <td>20:45:44</td>\n",
       "      <td>NaN</td>\n",
       "      <td>NaN</td>\n",
       "      <td>Markwkoester</td>\n",
       "    </tr>\n",
       "    <tr>\n",
       "      <th>2</th>\n",
       "      <td>NaN</td>\n",
       "      <td>No</td>\n",
       "      <td>NaN</td>\n",
       "      <td>Invoices</td>\n",
       "      <td>00:36:32</td>\n",
       "      <td>markwkoester@gmail.com</td>\n",
       "      <td>2018-10-01</td>\n",
       "      <td>20:40:07</td>\n",
       "      <td>Financials</td>\n",
       "      <td>2018-10-01</td>\n",
       "      <td>20:03:35</td>\n",
       "      <td>NaN</td>\n",
       "      <td>NaN</td>\n",
       "      <td>Markwkoester</td>\n",
       "    </tr>\n",
       "    <tr>\n",
       "      <th>3</th>\n",
       "      <td>NaN</td>\n",
       "      <td>No</td>\n",
       "      <td>NaN</td>\n",
       "      <td>Using Time Data</td>\n",
       "      <td>01:17:29</td>\n",
       "      <td>markwkoester@gmail.com</td>\n",
       "      <td>2018-10-01</td>\n",
       "      <td>19:26:40</td>\n",
       "      <td>Writing</td>\n",
       "      <td>2018-10-01</td>\n",
       "      <td>18:09:11</td>\n",
       "      <td>NaN</td>\n",
       "      <td>NaN</td>\n",
       "      <td>Markwkoester</td>\n",
       "    </tr>\n",
       "    <tr>\n",
       "      <th>4</th>\n",
       "      <td>NaN</td>\n",
       "      <td>No</td>\n",
       "      <td>NaN</td>\n",
       "      <td>Using Time Data</td>\n",
       "      <td>01:41:13</td>\n",
       "      <td>markwkoester@gmail.com</td>\n",
       "      <td>2018-10-01</td>\n",
       "      <td>18:00:09</td>\n",
       "      <td>Writing</td>\n",
       "      <td>2018-10-01</td>\n",
       "      <td>16:18:56</td>\n",
       "      <td>ddy</td>\n",
       "      <td>NaN</td>\n",
       "      <td>Markwkoester</td>\n",
       "    </tr>\n",
       "  </tbody>\n",
       "</table>\n",
       "</div>"
      ],
      "text/plain": [
       "   Amount () Billable Client           Description  Duration  \\\n",
       "0        NaN       No    NaN         Morning Pages  00:09:01   \n",
       "1        NaN       No    NaN  Planning for Travels  00:22:36   \n",
       "2        NaN       No    NaN              Invoices  00:36:32   \n",
       "3        NaN       No    NaN       Using Time Data  01:17:29   \n",
       "4        NaN       No    NaN       Using Time Data  01:41:13   \n",
       "\n",
       "                    Email    End date  End time              Project  \\\n",
       "0  markwkoester@gmail.com  2018-10-02  10:58:35              Writing   \n",
       "1  markwkoester@gmail.com  2018-10-01  21:08:20  Organizational Work   \n",
       "2  markwkoester@gmail.com  2018-10-01  20:40:07           Financials   \n",
       "3  markwkoester@gmail.com  2018-10-01  19:26:40              Writing   \n",
       "4  markwkoester@gmail.com  2018-10-01  18:00:09              Writing   \n",
       "\n",
       "   Start date Start time Tags Task          User  \n",
       "0  2018-10-02   10:49:34  NaN  NaN  Markwkoester  \n",
       "1  2018-10-01   20:45:44  NaN  NaN  Markwkoester  \n",
       "2  2018-10-01   20:03:35  NaN  NaN  Markwkoester  \n",
       "3  2018-10-01   18:09:11  NaN  NaN  Markwkoester  \n",
       "4  2018-10-01   16:18:56  ddy  NaN  Markwkoester  "
      ]
     },
     "execution_count": 43,
     "metadata": {},
     "output_type": "execute_result"
    }
   ],
   "source": [
    "timelog.head()"
   ]
  },
  {
   "cell_type": "code",
   "execution_count": 44,
   "metadata": {},
   "outputs": [
    {
     "data": {
      "text/plain": [
       "17967"
      ]
     },
     "execution_count": 44,
     "metadata": {},
     "output_type": "execute_result"
    }
   ],
   "source": [
    "len(timelog)"
   ]
  },
  {
   "cell_type": "code",
   "execution_count": 45,
   "metadata": {
    "collapsed": true
   },
   "outputs": [],
   "source": [
    "# drop unused columns\n",
    "timelog = timelog.drop(['Email', 'User', 'Amount ()', 'Client', 'Billable'], axis=1)"
   ]
  },
  {
   "cell_type": "code",
   "execution_count": 46,
   "metadata": {
    "collapsed": true
   },
   "outputs": [],
   "source": [
    "# helper functions to convert duration string to seconds\n",
    "def get_sec(time_str):\n",
    "    h, m, s = time_str.split(':')\n",
    "    return int(h) * 3600 + int(m) * 60 + int(s)\n",
    "\n",
    "# get_sec(\"01:16:36\")\n",
    "\n",
    "def dur2sec(row):\n",
    "    return get_sec(row['Duration'])\n",
    "\n",
    "# timelog.apply(dur2sec, axis=1)"
   ]
  },
  {
   "cell_type": "code",
   "execution_count": 47,
   "metadata": {
    "collapsed": true
   },
   "outputs": [],
   "source": [
    "timelog['seconds'] = timelog.apply(dur2sec, axis=1)"
   ]
  },
  {
   "cell_type": "code",
   "execution_count": 48,
   "metadata": {},
   "outputs": [
    {
     "name": "stdout",
     "output_type": "stream",
     "text": [
      "<class 'pandas.core.frame.DataFrame'>\n",
      "Int64Index: 17967 entries, 0 to 219\n",
      "Data columns (total 10 columns):\n",
      "Description    17941 non-null object\n",
      "Duration       17967 non-null object\n",
      "End date       17967 non-null object\n",
      "End time       17967 non-null object\n",
      "Project        17842 non-null object\n",
      "Start date     17967 non-null object\n",
      "Start time     17967 non-null object\n",
      "Tags           1148 non-null object\n",
      "Task           0 non-null object\n",
      "seconds        17967 non-null int64\n",
      "dtypes: int64(1), object(9)\n",
      "memory usage: 1.5+ MB\n"
     ]
    }
   ],
   "source": [
    "timelog.info()"
   ]
  },
  {
   "cell_type": "code",
   "execution_count": 49,
   "metadata": {},
   "outputs": [
    {
     "data": {
      "text/html": [
       "<div>\n",
       "<style scoped>\n",
       "    .dataframe tbody tr th:only-of-type {\n",
       "        vertical-align: middle;\n",
       "    }\n",
       "\n",
       "    .dataframe tbody tr th {\n",
       "        vertical-align: top;\n",
       "    }\n",
       "\n",
       "    .dataframe thead th {\n",
       "        text-align: right;\n",
       "    }\n",
       "</style>\n",
       "<table border=\"1\" class=\"dataframe\">\n",
       "  <thead>\n",
       "    <tr style=\"text-align: right;\">\n",
       "      <th></th>\n",
       "      <th>seconds</th>\n",
       "    </tr>\n",
       "  </thead>\n",
       "  <tbody>\n",
       "    <tr>\n",
       "      <th>count</th>\n",
       "      <td>17967.000000</td>\n",
       "    </tr>\n",
       "    <tr>\n",
       "      <th>mean</th>\n",
       "      <td>1928.463628</td>\n",
       "    </tr>\n",
       "    <tr>\n",
       "      <th>std</th>\n",
       "      <td>2922.392983</td>\n",
       "    </tr>\n",
       "    <tr>\n",
       "      <th>min</th>\n",
       "      <td>0.000000</td>\n",
       "    </tr>\n",
       "    <tr>\n",
       "      <th>25%</th>\n",
       "      <td>679.000000</td>\n",
       "    </tr>\n",
       "    <tr>\n",
       "      <th>50%</th>\n",
       "      <td>1342.000000</td>\n",
       "    </tr>\n",
       "    <tr>\n",
       "      <th>75%</th>\n",
       "      <td>2456.000000</td>\n",
       "    </tr>\n",
       "    <tr>\n",
       "      <th>max</th>\n",
       "      <td>255420.000000</td>\n",
       "    </tr>\n",
       "  </tbody>\n",
       "</table>\n",
       "</div>"
      ],
      "text/plain": [
       "             seconds\n",
       "count   17967.000000\n",
       "mean     1928.463628\n",
       "std      2922.392983\n",
       "min         0.000000\n",
       "25%       679.000000\n",
       "50%      1342.000000\n",
       "75%      2456.000000\n",
       "max    255420.000000"
      ]
     },
     "execution_count": 49,
     "metadata": {},
     "output_type": "execute_result"
    }
   ],
   "source": [
    "timelog.describe()"
   ]
  },
  {
   "cell_type": "code",
   "execution_count": 50,
   "metadata": {},
   "outputs": [
    {
     "data": {
      "text/html": [
       "<div>\n",
       "<style scoped>\n",
       "    .dataframe tbody tr th:only-of-type {\n",
       "        vertical-align: middle;\n",
       "    }\n",
       "\n",
       "    .dataframe tbody tr th {\n",
       "        vertical-align: top;\n",
       "    }\n",
       "\n",
       "    .dataframe thead th {\n",
       "        text-align: right;\n",
       "    }\n",
       "</style>\n",
       "<table border=\"1\" class=\"dataframe\">\n",
       "  <thead>\n",
       "    <tr style=\"text-align: right;\">\n",
       "      <th></th>\n",
       "      <th>Description</th>\n",
       "      <th>Duration</th>\n",
       "      <th>End date</th>\n",
       "      <th>End time</th>\n",
       "      <th>Project</th>\n",
       "      <th>Start date</th>\n",
       "      <th>Start time</th>\n",
       "      <th>Tags</th>\n",
       "      <th>Task</th>\n",
       "      <th>seconds</th>\n",
       "    </tr>\n",
       "  </thead>\n",
       "  <tbody>\n",
       "    <tr>\n",
       "      <th>0</th>\n",
       "      <td>Morning Pages</td>\n",
       "      <td>00:09:01</td>\n",
       "      <td>2018-10-02</td>\n",
       "      <td>10:58:35</td>\n",
       "      <td>Writing</td>\n",
       "      <td>2018-10-02</td>\n",
       "      <td>10:49:34</td>\n",
       "      <td>NaN</td>\n",
       "      <td>NaN</td>\n",
       "      <td>541</td>\n",
       "    </tr>\n",
       "    <tr>\n",
       "      <th>1</th>\n",
       "      <td>Planning for Travels</td>\n",
       "      <td>00:22:36</td>\n",
       "      <td>2018-10-01</td>\n",
       "      <td>21:08:20</td>\n",
       "      <td>Organizational Work</td>\n",
       "      <td>2018-10-01</td>\n",
       "      <td>20:45:44</td>\n",
       "      <td>NaN</td>\n",
       "      <td>NaN</td>\n",
       "      <td>1356</td>\n",
       "    </tr>\n",
       "    <tr>\n",
       "      <th>2</th>\n",
       "      <td>Invoices</td>\n",
       "      <td>00:36:32</td>\n",
       "      <td>2018-10-01</td>\n",
       "      <td>20:40:07</td>\n",
       "      <td>Financials</td>\n",
       "      <td>2018-10-01</td>\n",
       "      <td>20:03:35</td>\n",
       "      <td>NaN</td>\n",
       "      <td>NaN</td>\n",
       "      <td>2192</td>\n",
       "    </tr>\n",
       "    <tr>\n",
       "      <th>3</th>\n",
       "      <td>Using Time Data</td>\n",
       "      <td>01:17:29</td>\n",
       "      <td>2018-10-01</td>\n",
       "      <td>19:26:40</td>\n",
       "      <td>Writing</td>\n",
       "      <td>2018-10-01</td>\n",
       "      <td>18:09:11</td>\n",
       "      <td>NaN</td>\n",
       "      <td>NaN</td>\n",
       "      <td>4649</td>\n",
       "    </tr>\n",
       "    <tr>\n",
       "      <th>4</th>\n",
       "      <td>Using Time Data</td>\n",
       "      <td>01:41:13</td>\n",
       "      <td>2018-10-01</td>\n",
       "      <td>18:00:09</td>\n",
       "      <td>Writing</td>\n",
       "      <td>2018-10-01</td>\n",
       "      <td>16:18:56</td>\n",
       "      <td>ddy</td>\n",
       "      <td>NaN</td>\n",
       "      <td>6073</td>\n",
       "    </tr>\n",
       "  </tbody>\n",
       "</table>\n",
       "</div>"
      ],
      "text/plain": [
       "            Description  Duration    End date  End time              Project  \\\n",
       "0         Morning Pages  00:09:01  2018-10-02  10:58:35              Writing   \n",
       "1  Planning for Travels  00:22:36  2018-10-01  21:08:20  Organizational Work   \n",
       "2              Invoices  00:36:32  2018-10-01  20:40:07           Financials   \n",
       "3       Using Time Data  01:17:29  2018-10-01  19:26:40              Writing   \n",
       "4       Using Time Data  01:41:13  2018-10-01  18:00:09              Writing   \n",
       "\n",
       "   Start date Start time Tags Task  seconds  \n",
       "0  2018-10-02   10:49:34  NaN  NaN      541  \n",
       "1  2018-10-01   20:45:44  NaN  NaN     1356  \n",
       "2  2018-10-01   20:03:35  NaN  NaN     2192  \n",
       "3  2018-10-01   18:09:11  NaN  NaN     4649  \n",
       "4  2018-10-01   16:18:56  ddy  NaN     6073  "
      ]
     },
     "execution_count": 50,
     "metadata": {},
     "output_type": "execute_result"
    }
   ],
   "source": [
    "timelog.head()"
   ]
  },
  {
   "cell_type": "code",
   "execution_count": 51,
   "metadata": {},
   "outputs": [
    {
     "data": {
      "text/html": [
       "<div>\n",
       "<style scoped>\n",
       "    .dataframe tbody tr th:only-of-type {\n",
       "        vertical-align: middle;\n",
       "    }\n",
       "\n",
       "    .dataframe tbody tr th {\n",
       "        vertical-align: top;\n",
       "    }\n",
       "\n",
       "    .dataframe thead th {\n",
       "        text-align: right;\n",
       "    }\n",
       "</style>\n",
       "<table border=\"1\" class=\"dataframe\">\n",
       "  <thead>\n",
       "    <tr style=\"text-align: right;\">\n",
       "      <th></th>\n",
       "      <th>Description</th>\n",
       "      <th>Duration</th>\n",
       "      <th>End date</th>\n",
       "      <th>End time</th>\n",
       "      <th>Project</th>\n",
       "      <th>Start date</th>\n",
       "      <th>Start time</th>\n",
       "      <th>Tags</th>\n",
       "      <th>Task</th>\n",
       "      <th>seconds</th>\n",
       "    </tr>\n",
       "  </thead>\n",
       "  <tbody>\n",
       "    <tr>\n",
       "      <th>215</th>\n",
       "      <td>BioMarkerDB: Planning and Setup</td>\n",
       "      <td>00:01:25</td>\n",
       "      <td>2018-01-06</td>\n",
       "      <td>15:53:32</td>\n",
       "      <td>Startup Project Misc Work</td>\n",
       "      <td>2018-01-06</td>\n",
       "      <td>15:52:07</td>\n",
       "      <td>NaN</td>\n",
       "      <td>NaN</td>\n",
       "      <td>85</td>\n",
       "    </tr>\n",
       "    <tr>\n",
       "      <th>216</th>\n",
       "      <td>BioMarkerDB: Brainstorming</td>\n",
       "      <td>00:22:32</td>\n",
       "      <td>2018-01-05</td>\n",
       "      <td>23:32:28</td>\n",
       "      <td>Startup Project Misc Work</td>\n",
       "      <td>2018-01-05</td>\n",
       "      <td>23:09:56</td>\n",
       "      <td>NaN</td>\n",
       "      <td>NaN</td>\n",
       "      <td>1352</td>\n",
       "    </tr>\n",
       "    <tr>\n",
       "      <th>217</th>\n",
       "      <td>VO2 Max Estimator App</td>\n",
       "      <td>00:39:19</td>\n",
       "      <td>2018-01-03</td>\n",
       "      <td>15:16:35</td>\n",
       "      <td>Startup Project Misc Work</td>\n",
       "      <td>2018-01-03</td>\n",
       "      <td>14:37:16</td>\n",
       "      <td>NaN</td>\n",
       "      <td>NaN</td>\n",
       "      <td>2359</td>\n",
       "    </tr>\n",
       "    <tr>\n",
       "      <th>218</th>\n",
       "      <td>VO2 Max Estimator App</td>\n",
       "      <td>00:31:46</td>\n",
       "      <td>2018-01-03</td>\n",
       "      <td>14:12:53</td>\n",
       "      <td>Startup Project Misc Work</td>\n",
       "      <td>2018-01-03</td>\n",
       "      <td>13:41:07</td>\n",
       "      <td>NaN</td>\n",
       "      <td>NaN</td>\n",
       "      <td>1906</td>\n",
       "    </tr>\n",
       "    <tr>\n",
       "      <th>219</th>\n",
       "      <td>Medical Tourism in Thailand: Research</td>\n",
       "      <td>00:41:24</td>\n",
       "      <td>2018-01-03</td>\n",
       "      <td>13:14:30</td>\n",
       "      <td>Startup Project Misc Work</td>\n",
       "      <td>2018-01-03</td>\n",
       "      <td>12:33:06</td>\n",
       "      <td>NaN</td>\n",
       "      <td>NaN</td>\n",
       "      <td>2484</td>\n",
       "    </tr>\n",
       "  </tbody>\n",
       "</table>\n",
       "</div>"
      ],
      "text/plain": [
       "                               Description  Duration    End date  End time  \\\n",
       "215        BioMarkerDB: Planning and Setup  00:01:25  2018-01-06  15:53:32   \n",
       "216             BioMarkerDB: Brainstorming  00:22:32  2018-01-05  23:32:28   \n",
       "217                  VO2 Max Estimator App  00:39:19  2018-01-03  15:16:35   \n",
       "218                  VO2 Max Estimator App  00:31:46  2018-01-03  14:12:53   \n",
       "219  Medical Tourism in Thailand: Research  00:41:24  2018-01-03  13:14:30   \n",
       "\n",
       "                       Project  Start date Start time Tags Task  seconds  \n",
       "215  Startup Project Misc Work  2018-01-06   15:52:07  NaN  NaN       85  \n",
       "216  Startup Project Misc Work  2018-01-05   23:09:56  NaN  NaN     1352  \n",
       "217  Startup Project Misc Work  2018-01-03   14:37:16  NaN  NaN     2359  \n",
       "218  Startup Project Misc Work  2018-01-03   13:41:07  NaN  NaN     1906  \n",
       "219  Startup Project Misc Work  2018-01-03   12:33:06  NaN  NaN     2484  "
      ]
     },
     "execution_count": 51,
     "metadata": {},
     "output_type": "execute_result"
    }
   ],
   "source": [
    "timelog.tail()"
   ]
  },
  {
   "cell_type": "code",
   "execution_count": 52,
   "metadata": {},
   "outputs": [
    {
     "data": {
      "text/plain": [
       "9624.6"
      ]
     },
     "execution_count": 52,
     "metadata": {},
     "output_type": "execute_result"
    }
   ],
   "source": [
    "# Total hours\n",
    "round((timelog.seconds.sum() / 60 / 60), 1)"
   ]
  },
  {
   "cell_type": "code",
   "execution_count": 53,
   "metadata": {},
   "outputs": [
    {
     "data": {
      "text/plain": [
       "401.0"
      ]
     },
     "execution_count": 53,
     "metadata": {},
     "output_type": "execute_result"
    }
   ],
   "source": [
    "# total days\n",
    "round((timelog.seconds.sum() / 60 / 60 / 24), 1)"
   ]
  },
  {
   "cell_type": "code",
   "execution_count": 54,
   "metadata": {
    "collapsed": true
   },
   "outputs": [],
   "source": [
    "timelog.to_csv(\"data/toggl-detailed-logs-full-export.csv\")"
   ]
  },
  {
   "cell_type": "markdown",
   "metadata": {},
   "source": [
    "-----"
   ]
  },
  {
   "cell_type": "markdown",
   "metadata": {},
   "source": [
    "## Combine to a Daily Project Time Number"
   ]
  },
  {
   "cell_type": "code",
   "execution_count": 55,
   "metadata": {},
   "outputs": [
    {
     "name": "stdout",
     "output_type": "stream",
     "text": [
      "1,924 total project time data\n"
     ]
    },
    {
     "data": {
      "text/plain": [
       "Start date\n",
       "2018-09-28    30898\n",
       "2018-09-29    19114\n",
       "2018-09-30    20571\n",
       "2018-10-01    34178\n",
       "2018-10-02      541\n",
       "Name: seconds, dtype: int64"
      ]
     },
     "execution_count": 55,
     "metadata": {},
     "output_type": "execute_result"
    }
   ],
   "source": [
    "# combine to daily number\n",
    "daily_project_time = timelog.groupby(['Start date'])['seconds'].sum()\n",
    "print('{:,} total project time data'.format(len(daily_project_time)))\n",
    "daily_project_time.to_csv('data/daily_project_time.csv')\n",
    "daily_project_time.tail(5)"
   ]
  },
  {
   "cell_type": "code",
   "execution_count": null,
   "metadata": {},
   "outputs": [],
   "source": []
  },
  {
   "cell_type": "code",
   "execution_count": null,
   "metadata": {},
   "outputs": [],
   "source": []
  }
 ],
 "metadata": {
  "kernelspec": {
   "display_name": "Python 3",
   "language": "python",
   "name": "python3"
  },
  "language_info": {
   "codemirror_mode": {
    "name": "ipython",
    "version": 3
   },
   "file_extension": ".py",
   "mimetype": "text/x-python",
   "name": "python",
   "nbconvert_exporter": "python",
   "pygments_lexer": "ipython3",
   "version": "3.6.2"
  }
 },
 "nbformat": 4,
 "nbformat_minor": 2
}
