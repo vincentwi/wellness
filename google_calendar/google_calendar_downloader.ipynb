{
 "cells": [
  {
   "cell_type": "markdown",
   "metadata": {},
   "source": [
    "# Google Calendar Events Downloader"
   ]
  },
  {
   "cell_type": "markdown",
   "metadata": {},
   "source": [
    "* Download all of your google calendar events history and export into csv. \n",
    "* For simple data analysis and visualization, see: [google_calendar_data_analysis](https://github.com/markwk/qs_ledger/tree/master/google_calendar/google_calendar_data_analysis.ipynb)"
   ]
  },
  {
   "cell_type": "markdown",
   "metadata": {},
   "source": [
    "----"
   ]
  },
  {
   "cell_type": "markdown",
   "metadata": {},
   "source": [
    "## Google Calendar API Docs\n",
    "\n",
    "* https://developers.google.com/calendar/v3/reference/  \n",
    "* https://developers.google.com/resources/api-libraries/documentation/calendar/v3/python/latest/"
   ]
  },
  {
   "cell_type": "markdown",
   "metadata": {},
   "source": [
    "------"
   ]
  },
  {
   "cell_type": "markdown",
   "metadata": {},
   "source": [
    "# Initial Install and Setup\n",
    "\n",
    "Follow Steps here: https://developers.google.com/calendar/quickstart/python\n",
    "\n",
    "1. Click Button \"ENABLE THE GOOGLE CALENDAR API\"\n",
    "2. Select + Create a new project.\n",
    "3. Download the configuration file.\n",
    "4. Move the downloaded file to your working directory and ensure it is named credentials.json.\n",
    "5. In terminal or command line, navigate to your project's working directory\n",
    "6. Run `python quickstart.py`\n",
    "\n",
    "Afterwards:\n",
    "\n",
    "> The sample will attempt to open a new window or tab in your default browser. If this fails, copy the URL from the console and manually open it in your browser.\n",
    "\n",
    "> If you are not already logged into your Google account, you will be prompted to log in. If you are logged into multiple Google accounts, you will be asked to select one account to use for the authorization.\n",
    "\n",
    "> Click the Accept button.\n",
    "> The sample will proceed automatically, and you may close the window/tab."
   ]
  },
  {
   "cell_type": "markdown",
   "metadata": {},
   "source": [
    "-----"
   ]
  },
  {
   "cell_type": "markdown",
   "metadata": {},
   "source": [
    "## Libraries and Dependencies"
   ]
  },
  {
   "cell_type": "code",
   "execution_count": 1,
   "metadata": {},
   "outputs": [],
   "source": [
    "from __future__ import print_function\n",
    "import datetime\n",
    "from googleapiclient.discovery import build\n",
    "from httplib2 import Http\n",
    "from oauth2client import file, client, tools\n",
    "\n",
    "import pandas as pd"
   ]
  },
  {
   "cell_type": "markdown",
   "metadata": {},
   "source": [
    "----"
   ]
  },
  {
   "cell_type": "markdown",
   "metadata": {},
   "source": [
    "## Authorization Check"
   ]
  },
  {
   "cell_type": "code",
   "execution_count": 2,
   "metadata": {},
   "outputs": [],
   "source": [
    "# If modifying these scopes, delete the file token.json.\n",
    "SCOPES = 'https://www.googleapis.com/auth/calendar.readonly'"
   ]
  },
  {
   "cell_type": "code",
   "execution_count": 3,
   "metadata": {},
   "outputs": [],
   "source": [
    "def authorize():\n",
    "    store = file.Storage('token.json')\n",
    "    creds = store.get()\n",
    "    if not creds or creds.invalid:\n",
    "        flow = client.flow_from_clientsecrets('credentials.json', SCOPES)\n",
    "        creds = tools.run_flow(flow, store)\n",
    "    global service\n",
    "    service = build('calendar', 'v3', http=creds.authorize(Http()))"
   ]
  },
  {
   "cell_type": "code",
   "execution_count": 4,
   "metadata": {},
   "outputs": [],
   "source": [
    "authorize()"
   ]
  },
  {
   "cell_type": "markdown",
   "metadata": {},
   "source": [
    "----"
   ]
  },
  {
   "cell_type": "markdown",
   "metadata": {},
   "source": [
    "## Quick Start Test in Jupyter"
   ]
  },
  {
   "cell_type": "code",
   "execution_count": 5,
   "metadata": {},
   "outputs": [],
   "source": [
    "def test():\n",
    "    \"\"\"Shows basic usage of the Google Calendar API.\n",
    "    Prints the start and name of the next 10 events on the user's calendar.\n",
    "    \"\"\"\n",
    "\n",
    "    authorize()\n",
    "    \n",
    "    # Call the Calendar API\n",
    "    now = datetime.datetime.utcnow().isoformat() + 'Z' # 'Z' indicates UTC time\n",
    "    print('Getting the upcoming 10 events')\n",
    "    events_result = service.events().list(calendarId='primary', timeMin=now,\n",
    "                                        maxResults=10, singleEvents=True,\n",
    "                                        orderBy='startTime').execute()\n",
    "    events = events_result.get('items', [])\n",
    "\n",
    "    if not events:\n",
    "        print('No upcoming events found.')\n",
    "    for event in events:\n",
    "        start = event['start'].get('dateTime', event['start'].get('date'))\n",
    "        print(start, event['summary'])"
   ]
  },
  {
   "cell_type": "code",
   "execution_count": 6,
   "metadata": {},
   "outputs": [
    {
     "name": "stdout",
     "output_type": "stream",
     "text": [
      "Getting the upcoming 10 events\n",
      "2018-12-29T09:30:00+07:00 Writing\n",
      "2018-12-29T09:30:00+07:00 Free Reading \n",
      "2018-12-29T11:00:00+07:00 Meditate\n",
      "2018-12-29T14:45:00+07:00 Design Hour\n",
      "2018-12-29T16:45:00+07:00 Int3c Business Check-in & Biz Dev\n",
      "2018-12-29T20:15:00+07:00 Date with Data HOUR\n",
      "2018-12-30T10:00:00+07:00 Weekly Review\n",
      "2018-12-30T11:30:00+07:00 Read: Tickler File\n",
      "2018-12-31T08:30:00+07:00 Writing\n",
      "2019-01-01T11:30:00+07:00 Monthly Review\n"
     ]
    }
   ],
   "source": [
    "test()"
   ]
  },
  {
   "cell_type": "markdown",
   "metadata": {},
   "source": [
    "----"
   ]
  },
  {
   "cell_type": "markdown",
   "metadata": {},
   "source": [
    "## Get List User Calendars"
   ]
  },
  {
   "cell_type": "code",
   "execution_count": 7,
   "metadata": {},
   "outputs": [
    {
     "name": "stdout",
     "output_type": "stream",
     "text": [
      "Printing Calendar Names...\n",
      "Toggl Time\n",
      "Articles from Pocket\n",
      "Tech / Startup Meeetings and Events\n",
      "Avalability\n",
      "Fitness Calendar\n",
      "Todoist\n",
      "webcal://www.trainingpeaks.com/ical/F2VHISIR72BH4.ics\n",
      "Personal Calendar\n",
      "Int3c Web Dev Appointments\n",
      "Moves Export\n",
      "Habits\n",
      "https://app.velohero.com/ical/workouts?private_key=wKBDat9VNOGQlI6CBcyNXtxvMC5q9W1ph5YUMzKG\n",
      "Family Birthdays\n",
      "Todoist\n",
      "SportTracks\n",
      "Theme Day\n",
      "Panda Half\n",
      "Contacts\n",
      "Holidays in China\n",
      "Week Numbers\n"
     ]
    }
   ],
   "source": [
    "calendars_list = service.calendarList().list().execute()\n",
    "calendars_dict = calendars_list.get('items', [])\n",
    "\n",
    "if not calendars_dict:\n",
    "    print('No calendars found.')\n",
    "\n",
    "print(\"Printing Calendar Names...\")\n",
    "\n",
    "calendar_ids = []\n",
    "\n",
    "for calendar in calendars_dict:\n",
    "    print(calendar['summary'])\n",
    "    # create a list of calendar ids\n",
    "    calendar_ids.append(calendar['id'])"
   ]
  },
  {
   "cell_type": "code",
   "execution_count": 8,
   "metadata": {},
   "outputs": [
    {
     "name": "stdout",
     "output_type": "stream",
     "text": [
      "You have 20 calendars in this account's Google Calendar\n"
     ]
    }
   ],
   "source": [
    "print(\"You have \" + str(len(calendar_ids)) + \" calendars in this account's Google Calendar\")"
   ]
  },
  {
   "cell_type": "code",
   "execution_count": 9,
   "metadata": {},
   "outputs": [],
   "source": [
    "# dataframing calendars data\n",
    "calendars = pd.DataFrame.from_dict(calendars_dict)"
   ]
  },
  {
   "cell_type": "code",
   "execution_count": 10,
   "metadata": {},
   "outputs": [],
   "source": [
    "calendars.to_csv('data/calendars_list.csv')"
   ]
  },
  {
   "cell_type": "markdown",
   "metadata": {},
   "source": [
    "----"
   ]
  },
  {
   "cell_type": "markdown",
   "metadata": {},
   "source": [
    "## Get Past Events from Calendar"
   ]
  },
  {
   "cell_type": "code",
   "execution_count": 11,
   "metadata": {},
   "outputs": [],
   "source": [
    "def get_calendar_events(calendar_id):\n",
    "    beginning_time = \"2004-01-01T00:00:00.356167Z\"\n",
    "    now = datetime.datetime.utcnow().isoformat() + 'Z' # 'Z' indicates UTC time\n",
    "\n",
    "    page_count = 0\n",
    "    events_list = []\n",
    "\n",
    "    print('Getting all of the past events')\n",
    "\n",
    "    events = service.events()\n",
    "    request = events.list(\n",
    "        #calendarId = 'primary',\n",
    "        calendarId = calendar_id,\n",
    "        timeMin=beginning_time,\n",
    "        timeMax=now,\n",
    "        maxResults=2500,\n",
    "        singleEvents=True,\n",
    "        # showDeleted=True,\n",
    "        orderBy='updated')\n",
    "\n",
    "    while request is not None:\n",
    "        \n",
    "      page_count = page_count + 1\n",
    "      print(\"Getting \" + str(page_count) + \" page of events...\")\n",
    "      eventsResult = request.execute()\n",
    "\n",
    "      # Do something with the activities\n",
    "      print(len(eventsResult.get('items', [])))\n",
    "      events_list = events_list + list(eventsResult.get('items', []))\n",
    "\n",
    "      request = events.list_next(request, eventsResult)\n",
    "    \n",
    "    return events_list"
   ]
  },
  {
   "cell_type": "code",
   "execution_count": 13,
   "metadata": {},
   "outputs": [
    {
     "name": "stdout",
     "output_type": "stream",
     "text": [
      "Printing events for calendar: 9u1e7p4lcnj7mlmfgps9adjj6s@group.calendar.google.com\n",
      "Getting all of the past events\n",
      "Getting 1 page of events...\n",
      "1284\n",
      "Creating CSV at data/9u1e7p4lcnj7mlmfgps9adjj6s@group.calendar.google.com.csv\n",
      "Printing events for calendar: 4n6mispi9os3t9kd1ec1ednp50@group.calendar.google.com\n",
      "Getting all of the past events\n",
      "Getting 1 page of events...\n",
      "1552\n",
      "Creating CSV at data/4n6mispi9os3t9kd1ec1ednp50@group.calendar.google.com.csv\n",
      "Printing events for calendar: int3c.com_svrm8irmhghrrbvamgit3q5qf4@group.calendar.google.com\n",
      "Getting all of the past events\n",
      "Getting 1 page of events...\n",
      "84\n",
      "Creating CSV at data/int3c.com_svrm8irmhghrrbvamgit3q5qf4@group.calendar.google.com.csv\n",
      "Printing events for calendar: n213rt5unu15rdmfibv81sf8ik@group.calendar.google.com\n",
      "Getting all of the past events\n",
      "Getting 1 page of events...\n",
      "30\n",
      "Creating CSV at data/n213rt5unu15rdmfibv81sf8ik@group.calendar.google.com.csv\n",
      "Printing events for calendar: clckbnn2qm0uiu67b18enbcr40@group.calendar.google.com\n",
      "Getting all of the past events\n",
      "Getting 1 page of events...\n",
      "487\n",
      "Creating CSV at data/clckbnn2qm0uiu67b18enbcr40@group.calendar.google.com.csv\n",
      "Printing events for calendar: e307tj7d8mkqn7091endn8uc5g@group.calendar.google.com\n",
      "Getting all of the past events\n",
      "Getting 1 page of events...\n",
      "2411\n",
      "Creating CSV at data/e307tj7d8mkqn7091endn8uc5g@group.calendar.google.com.csv\n",
      "Printing events for calendar: 4lfh4c9usb6b3ph4c7i5p51s0nmojd76@import.calendar.google.com\n",
      "Getting all of the past events\n",
      "Getting 1 page of events...\n",
      "1\n",
      "Creating CSV at data/4lfh4c9usb6b3ph4c7i5p51s0nmojd76@import.calendar.google.com.csv\n",
      "Printing events for calendar: markwkoester@gmail.com\n",
      "Getting all of the past events\n",
      "Getting 1 page of events...\n",
      "2500\n",
      "Getting 2 page of events...\n",
      "374\n",
      "Creating CSV at data/markwkoester@gmail.com.csv\n",
      "Printing events for calendar: mark@int3c.com\n",
      "Getting all of the past events\n",
      "Getting 1 page of events...\n",
      "1026\n",
      "Creating CSV at data/mark@int3c.com.csv\n",
      "Printing events for calendar: m84t17s3vb7impjqol753onleo@group.calendar.google.com\n",
      "Getting all of the past events\n",
      "Getting 1 page of events...\n",
      "2163\n",
      "Creating CSV at data/m84t17s3vb7impjqol753onleo@group.calendar.google.com.csv\n",
      "Printing events for calendar: u51rqv0r4qoa4c2m415rvgs344@group.calendar.google.com\n",
      "Getting all of the past events\n",
      "Getting 1 page of events...\n",
      "994\n",
      "Creating CSV at data/u51rqv0r4qoa4c2m415rvgs344@group.calendar.google.com.csv\n",
      "Printing events for calendar: ine0pkd4imjq0153l27nfubf4qqf4bcb@import.calendar.google.com\n",
      "Getting all of the past events\n",
      "Getting 1 page of events...\n",
      "0\n",
      "Creating CSV at data/ine0pkd4imjq0153l27nfubf4qqf4bcb@import.calendar.google.com.csv\n",
      "Printing events for calendar: tvg5s9um84prhu84j9tkib3k5o@group.calendar.google.com\n",
      "Getting all of the past events\n",
      "Getting 1 page of events...\n",
      "124\n",
      "Creating CSV at data/tvg5s9um84prhu84j9tkib3k5o@group.calendar.google.com.csv\n",
      "Printing events for calendar: f96ej5vf7jjt7kdap1k313bjt9fsajfe@import.calendar.google.com\n",
      "Getting all of the past events\n",
      "Getting 1 page of events...\n",
      "11\n",
      "Creating CSV at data/f96ej5vf7jjt7kdap1k313bjt9fsajfe@import.calendar.google.com.csv\n",
      "Printing events for calendar: 8vedrt8bhktem096t6qbdev729v9j068@import.calendar.google.com\n",
      "Getting all of the past events\n",
      "Getting 1 page of events...\n",
      "0\n",
      "Creating CSV at data/8vedrt8bhktem096t6qbdev729v9j068@import.calendar.google.com.csv\n",
      "Printing events for calendar: su5cu3a3qapnmk5797np94e66s@group.calendar.google.com\n",
      "Getting all of the past events\n",
      "Getting 1 page of events...\n",
      "53\n",
      "Creating CSV at data/su5cu3a3qapnmk5797np94e66s@group.calendar.google.com.csv\n",
      "Printing events for calendar: 5on0m472bmksaic4e0517cp4h0jpo03h@import.calendar.google.com\n",
      "Getting all of the past events\n",
      "Getting 1 page of events...\n",
      "831\n",
      "Creating CSV at data/5on0m472bmksaic4e0517cp4h0jpo03h@import.calendar.google.com.csv\n",
      "Printing events for calendar: #contacts@group.v.calendar.google.com\n",
      "Getting all of the past events\n",
      "Getting 1 page of events...\n",
      "44\n",
      "Creating CSV at data/#contacts@group.v.calendar.google.com.csv\n",
      "Printing events for calendar: en.china#holiday@group.v.calendar.google.com\n",
      "Getting all of the past events\n",
      "Getting 1 page of events...\n",
      "50\n",
      "Creating CSV at data/en.china#holiday@group.v.calendar.google.com.csv\n",
      "Printing events for calendar: p#weeknum@group.v.calendar.google.com\n",
      "Getting all of the past events\n",
      "Getting 1 page of events...\n",
      "104\n",
      "Creating CSV at data/p#weeknum@group.v.calendar.google.com.csv\n"
     ]
    }
   ],
   "source": [
    "# generate csv of all calendars in google calendar\n",
    "for i in calendar_ids:\n",
    "    print(\"Printing events for calendar: \" + str(i))\n",
    "    events_list = get_calendar_events(i)\n",
    "    event_df = pd.DataFrame(events_list)\n",
    "    filename = str(i) + \".csv\"\n",
    "    filepath = 'data/' + filename\n",
    "    print(\"Creating CSV at \" + filepath)\n",
    "    event_df.to_csv(filepath, index=False)"
   ]
  },
  {
   "cell_type": "code",
   "execution_count": null,
   "metadata": {},
   "outputs": [],
   "source": []
  }
 ],
 "metadata": {
  "kernelspec": {
   "display_name": "Python 3",
   "language": "python",
   "name": "python3"
  },
  "language_info": {
   "codemirror_mode": {
    "name": "ipython",
    "version": 3
   },
   "file_extension": ".py",
   "mimetype": "text/x-python",
   "name": "python",
   "nbconvert_exporter": "python",
   "pygments_lexer": "ipython3",
   "version": "3.6.2"
  }
 },
 "nbformat": 4,
 "nbformat_minor": 2
}
