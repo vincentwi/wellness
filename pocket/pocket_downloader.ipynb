{
 "cells": [
  {
   "cell_type": "markdown",
   "metadata": {},
   "source": [
    "# Pocket Article Downloader"
   ]
  },
  {
   "cell_type": "markdown",
   "metadata": {},
   "source": [
    "----"
   ]
  },
  {
   "cell_type": "markdown",
   "metadata": {},
   "source": [
    "Want to know how many articles you've read and have to read in Pocket? \n",
    "\n",
    "This code provides setup and authorization to Pocket's API. We then pull your read and unread articles and export them to CSV. \n",
    "\n",
    "For more info and additional configuration, See [Pocket API Documentation](https://getpocket.com/developer/docs/overview)."
   ]
  },
  {
   "cell_type": "markdown",
   "metadata": {},
   "source": [
    "-----"
   ]
  },
  {
   "cell_type": "markdown",
   "metadata": {},
   "source": [
    "# Authentication and Pocket Developer Setup"
   ]
  },
  {
   "cell_type": "markdown",
   "metadata": {},
   "source": [
    "Note: This setup may take a few minutes. Code is indebted to [What’s in your Pocket? Visualizing your Reading List with Python](https://www.twilio.com/blog/2017/09/whats-in-your-pocket-visualizing-your-reading-list-with-python.html). If any issues, refer to that article for screenshots and more details on setup. \n",
    "\n",
    "### Step 1: Intial Developer Setup \n",
    "\n",
    "* Create an app on Pocket's Developer API Portal: https://getpocket.com/developer/apps/new\n",
    "* Ensure you add retrieval permission\n",
    "* Copy your Consumer Key and add to either option 1 or 2\n",
    "* Option 1 (Easiest but less secure): Copy keys and store in notebook   \n",
    "* Option 2 (More Secure since not stored in notebook): Copy sample-credentials.json, create credentials and add keys"
   ]
  },
  {
   "cell_type": "code",
   "execution_count": 18,
   "metadata": {},
   "outputs": [],
   "source": [
    "# Option 1 (Easiest but less secure):  \n",
    "# Copy your keys here after each step\n",
    "\n",
    "# CONSUMERKEY = 'add code here'\n",
    "# REQUESTCODE = 'add code here'\n",
    "# ACCESSTOKEN = 'add code here'"
   ]
  },
  {
   "cell_type": "code",
   "execution_count": 19,
   "metadata": {},
   "outputs": [],
   "source": [
    "# Option 2 (More Secure since not stored in notebook): \n",
    "# Copy sample-credentials.json, create credentials \n",
    "\n",
    "# Uncomment lines below and add code after each step\n",
    "# Copy your keys here after each step\n",
    "\n",
    "# import json\n",
    "\n",
    "# with open(\"credentials.json\", \"r\") as file:\n",
    "#    credentials = json.load(file)\n",
    "#    pocket_cr = credentials['pocket']\n",
    "#    CONSUMERKEY = pocket_cr['CONSUMERKEY'] # step 1 your consumer key\n",
    "#    REQUESTCODE = pocket_cr['REQUESTCODE'] # step 2 your request token\n",
    "#    ACCESSTOKEN = pocket_cr['ACCESSTOKEN'] # step 4 your access token"
   ]
  },
  {
   "cell_type": "code",
   "execution_count": 20,
   "metadata": {},
   "outputs": [],
   "source": [
    "# Step 2\n",
    "\n",
    "# Uncomment lines below and add code after each step\n",
    "# Copy and update your keys after each step\n",
    "\n",
    "# import requests\n",
    "# pocket_api = requests.post('https://getpocket.com/v3/oauth/request', \n",
    "#                           data = {'consumer_key': CONSUMERKEY, \n",
    "#                                   'redirect_uri':'https://google.com'})\n",
    "\n",
    "# uncomment line below to see your request code\n",
    "# pocket_api.text"
   ]
  },
  {
   "cell_type": "code",
   "execution_count": 21,
   "metadata": {},
   "outputs": [],
   "source": [
    "# Step 3: \n",
    "\n",
    "# After modify URL to add your code and visit: \n",
    "# Visit: https://getpocket.com/auth/authorize?request_token=[Your-Request-Code]&redirect_uri=https://google.com\n",
    "\n",
    "# Copy your request code"
   ]
  },
  {
   "cell_type": "code",
   "execution_count": 22,
   "metadata": {},
   "outputs": [],
   "source": [
    "# Step 4:\n",
    "\n",
    "# Uncomment lines below and add code after each step\n",
    "# Copy and update your keys after each step\n",
    "\n",
    "#import requests\n",
    "#pocket_auth = requests.post('https://getpocket.com/v3/oauth/authorize', \n",
    "#                            data = {'consumer_key': CONSUMERKEY, \n",
    "#                                    'code': REQUESTCODE})\n",
    "\n",
    "# uncomment line below to see your access token code\n",
    "# pocket_auth.text"
   ]
  },
  {
   "cell_type": "markdown",
   "metadata": {},
   "source": [
    "------"
   ]
  },
  {
   "cell_type": "markdown",
   "metadata": {},
   "source": [
    "# Get and Export Current, Unread Articles"
   ]
  },
  {
   "cell_type": "code",
   "execution_count": 75,
   "metadata": {},
   "outputs": [],
   "source": [
    "from pocket import Pocket, PocketException\n",
    "import json\n",
    "import numpy as np\n",
    "import pandas as pd"
   ]
  },
  {
   "cell_type": "code",
   "execution_count": 3,
   "metadata": {},
   "outputs": [],
   "source": [
    "# If first time running script, please read \"Authentication and Pocket Developer Setup\" \n",
    "# and follow steps above to update your keys and tokens\n",
    "\n",
    "with open(\"credentials.json\", \"r\") as file:\n",
    "   credentials = json.load(file)\n",
    "   pocket_cr = credentials['pocket']\n",
    "   CONSUMERKEY = pocket_cr['CONSUMERKEY'] # step 1 your consumer key\n",
    "   REQUESTCODE = pocket_cr['REQUESTCODE'] # step 2 your request token\n",
    "   ACCESSTOKEN = pocket_cr['ACCESSTOKEN'] # step 4 your access token"
   ]
  },
  {
   "cell_type": "code",
   "execution_count": 4,
   "metadata": {},
   "outputs": [],
   "source": [
    "# Setup Pocket Object\n",
    "p = Pocket(\n",
    " consumer_key=CONSUMERKEY,\n",
    " access_token=ACCESSTOKEN\n",
    ")"
   ]
  },
  {
   "cell_type": "code",
   "execution_count": 111,
   "metadata": {},
   "outputs": [],
   "source": [
    "# Retrieve all unread\n",
    "articles_dict = {}\n",
    "more_articles = True\n",
    "offset = 0\n",
    "\n",
    "# Get initial 5000 articles \n",
    "lis = p.get(state=\"unread\", count=5000)\n",
    "articles_dict.update(lis[0]['list'])\n",
    "\n",
    "unread_articles = pd.DataFrame.from_dict(articles_dict, orient='index')"
   ]
  },
  {
   "cell_type": "code",
   "execution_count": 112,
   "metadata": {},
   "outputs": [],
   "source": [
    "# convert unix time to datetime\n",
    "unread_articles['time_added'] = pd.to_datetime(unread_articles['time_added'], unit='s')\n",
    "unread_articles['time_updated'] = pd.to_datetime(unread_articles['time_updated'], unit='s')\n",
    "\n",
    "# replace zeros with nan\n",
    "unread_articles.loc[unread_articles['time_favorited'] == '0','time_favorited'] = np.nan\n",
    "unread_articles['time_favorited'] = pd.to_datetime(unread_articles['time_favorited'], unit='s')"
   ]
  },
  {
   "cell_type": "code",
   "execution_count": 114,
   "metadata": {},
   "outputs": [
    {
     "data": {
      "text/plain": [
       "477"
      ]
     },
     "execution_count": 114,
     "metadata": {},
     "output_type": "execute_result"
    }
   ],
   "source": [
    "# unread count\n",
    "len(unread_articles)\n",
    "# unread_articles.head()"
   ]
  },
  {
   "cell_type": "code",
   "execution_count": 115,
   "metadata": {},
   "outputs": [],
   "source": [
    "# export to csv\n",
    "unread_articles.to_csv('data/pocket_unread_articles.csv', index=False)"
   ]
  },
  {
   "cell_type": "markdown",
   "metadata": {},
   "source": [
    "----"
   ]
  },
  {
   "cell_type": "markdown",
   "metadata": {},
   "source": [
    "# Get and Export Read Articles"
   ]
  },
  {
   "cell_type": "code",
   "execution_count": 116,
   "metadata": {},
   "outputs": [],
   "source": [
    "# Get Your Oldest Article in Pocket\n",
    "\n",
    "oldest_date = ''\n",
    "oldest_art = p.get(state=\"archive\", count=1, sort='oldest')\n",
    "oldest_article = oldest_art[0]['list']\n",
    "for i in oldest_article:\n",
    "    oldest_date = oldest_article[str(i)]['time_added']\n",
    "\n",
    "# print(oldest_date) \n",
    "# oldest_article"
   ]
  },
  {
   "cell_type": "code",
   "execution_count": 117,
   "metadata": {},
   "outputs": [
    {
     "name": "stdout",
     "output_type": "stream",
     "text": [
      "Getting first 1000 read articles in Pocket...\n",
      "Getting an additional 1000 read articles...\n",
      "Getting an additional 1000 read articles...\n",
      "Getting an additional 1000 read articles...\n",
      "Getting an additional 1000 read articles...\n",
      "Getting an additional 1000 read articles...\n",
      "Getting an additional 1000 read articles...\n",
      "Getting an additional 1000 read articles...\n",
      "Completed. No More Read Articles to pull.\n"
     ]
    }
   ],
   "source": [
    "# Retrieve all readings since oldest date\n",
    "\n",
    "articles_dict = {}\n",
    "more_articles = True\n",
    "offset = 0\n",
    "\n",
    "# Get initial 1000 articles \n",
    "print(\"Getting first 1000 read articles in Pocket...\")\n",
    "lis = p.get(since=oldest_date, state=\"archive\", count=1000, sort='oldest')\n",
    "articles_dict.update(lis[0]['list'])\n",
    "\n",
    "# Let's Loop through additional pocket articles\n",
    "while more_articles == True:\n",
    "    if lis[0]['list'] == []:\n",
    "        print(\"Completed. No More Read Articles to pull.\")\n",
    "        more_articles = False\n",
    "        break\n",
    "    else:\n",
    "        offset = offset + 1000\n",
    "        print(\"Getting an additional 1000 read articles...\")\n",
    "        lis = p.get(since=oldest_date, state=\"archive\", count=1000, sort='oldest', offset=offset)\n",
    "        articles_dict.update(lis[0]['list'])\n",
    "\n",
    "# create dataframe\n",
    "read_articles = pd.DataFrame.from_dict(articles_dict, orient='index')"
   ]
  },
  {
   "cell_type": "code",
   "execution_count": 43,
   "metadata": {},
   "outputs": [],
   "source": [
    "# read_articles.columns\n",
    "# read_articles.info()\n",
    "# read_articles.head()"
   ]
  },
  {
   "cell_type": "code",
   "execution_count": 118,
   "metadata": {},
   "outputs": [],
   "source": [
    "# convert unix time to datetime\n",
    "read_articles['time_added'] = pd.to_datetime(read_articles['time_added'], unit='s')\n",
    "read_articles['time_updated'] = pd.to_datetime(read_articles['time_updated'], unit='s')\n",
    "\n",
    "# replace zeros with nan\n",
    "read_articles.loc[read_articles['time_favorited'] == '0','time_favorited'] = np.nan\n",
    "read_articles['time_favorited'] = pd.to_datetime(read_articles['time_favorited'], unit='s')\n",
    "read_articles['time_read'] = pd.to_datetime(read_articles['time_read'], unit='s')"
   ]
  },
  {
   "cell_type": "code",
   "execution_count": 119,
   "metadata": {},
   "outputs": [
    {
     "data": {
      "text/plain": [
       "6080"
      ]
     },
     "execution_count": 119,
     "metadata": {},
     "output_type": "execute_result"
    }
   ],
   "source": [
    "# total  articles read\n",
    "len(read_articles)"
   ]
  },
  {
   "cell_type": "code",
   "execution_count": 120,
   "metadata": {},
   "outputs": [
    {
     "name": "stdout",
     "output_type": "stream",
     "text": [
      "Read Articles Exported to CSV\n"
     ]
    }
   ],
   "source": [
    "# save to csv\n",
    "read_articles.to_csv(\"data/pocket_read_articles.csv\", index=False, encoding='utf-8')\n",
    "print(\"Read Articles Exported to CSV\")"
   ]
  },
  {
   "cell_type": "code",
   "execution_count": null,
   "metadata": {},
   "outputs": [],
   "source": []
  }
 ],
 "metadata": {
  "kernelspec": {
   "display_name": "Python 3",
   "language": "python",
   "name": "python3"
  },
  "language_info": {
   "codemirror_mode": {
    "name": "ipython",
    "version": 3
   },
   "file_extension": ".py",
   "mimetype": "text/x-python",
   "name": "python",
   "nbconvert_exporter": "python",
   "pygments_lexer": "ipython3",
   "version": "3.6.2"
  }
 },
 "nbformat": 4,
 "nbformat_minor": 2
}
