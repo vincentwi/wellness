{
 "cells": [
  {
   "cell_type": "markdown",
   "metadata": {},
   "source": [
    "## Apple Health Data to Elastic Processor"
   ]
  },
  {
   "cell_type": "markdown",
   "metadata": {},
   "source": [
    "-----"
   ]
  },
  {
   "cell_type": "markdown",
   "metadata": {},
   "source": [
    "## Dependencies and Libraries"
   ]
  },
  {
   "cell_type": "code",
   "execution_count": 1,
   "metadata": {},
   "outputs": [],
   "source": [
    "from datetime import date, datetime, timedelta as td\n",
    "import pytz\n",
    "import numpy as np\n",
    "import pandas as pd\n",
    "\n",
    "import json\n",
    "\n",
    "from elasticsearch import Elasticsearch\n",
    "from elasticsearch import helpers\n",
    "from espandas import Espandas"
   ]
  },
  {
   "cell_type": "markdown",
   "metadata": {},
   "source": [
    "-----"
   ]
  },
  {
   "cell_type": "code",
   "execution_count": 2,
   "metadata": {},
   "outputs": [],
   "source": [
    "# instantiate elastic search\n",
    "es = Elasticsearch(http_compress=True)"
   ]
  },
  {
   "cell_type": "markdown",
   "metadata": {},
   "source": [
    "------"
   ]
  },
  {
   "cell_type": "markdown",
   "metadata": {},
   "source": [
    "## Functions for Processing Dates and Timezones"
   ]
  },
  {
   "cell_type": "code",
   "execution_count": 3,
   "metadata": {},
   "outputs": [],
   "source": [
    "# functions to convert UTC to Shanghai time zone and extract date/time elements\n",
    "convert_tz = lambda x: x.to_pydatetime().replace(tzinfo=pytz.utc).astimezone(pytz.timezone('America/Los_Angeles'))\n",
    "get_year = lambda x: convert_tz(x).year\n",
    "get_month = lambda x: '{}-{:02}'.format(convert_tz(x).year, convert_tz(x).month) #inefficient\n",
    "get_date = lambda x: '{}-{:02}-{:02}'.format(convert_tz(x).year, convert_tz(x).month, convert_tz(x).day) #inefficient\n",
    "get_day = lambda x: convert_tz(x).day\n",
    "get_hour = lambda x: convert_tz(x).hour\n",
    "get_minute = lambda x: convert_tz(x).minute\n",
    "get_day_of_week = lambda x: convert_tz(x).weekday()"
   ]
  },
  {
   "cell_type": "markdown",
   "metadata": {},
   "source": [
    "---"
   ]
  },
  {
   "cell_type": "markdown",
   "metadata": {},
   "source": [
    "## Import Steps into Elastic"
   ]
  },
  {
   "cell_type": "code",
   "execution_count": 4,
   "metadata": {},
   "outputs": [],
   "source": [
    "steps = pd.read_csv(\"data/StepCount.csv\")"
   ]
  },
  {
   "cell_type": "code",
   "execution_count": 5,
   "metadata": {},
   "outputs": [
    {
     "data": {
      "text/plain": [
       "193459"
      ]
     },
     "execution_count": 5,
     "metadata": {},
     "output_type": "execute_result"
    }
   ],
   "source": [
    "len(steps)"
   ]
  },
  {
   "cell_type": "code",
   "execution_count": 6,
   "metadata": {},
   "outputs": [],
   "source": [
    "# parse out date and time elements as local time\n",
    "steps['startDate'] = pd.to_datetime(steps['startDate'])\n",
    "# parse to unix seconds since epoch\n",
    "steps['timestamp'] = pd.to_datetime(steps['startDate']).astype(int) / 10**9\n",
    "\n",
    "steps['dow'] = steps['startDate'].map(get_day_of_week)\n",
    "steps['year'] = steps['startDate'].map(get_year)\n",
    "steps['month'] = steps['startDate'].map(get_month)\n",
    "steps['date'] = steps['startDate'].map(get_date)\n",
    "steps['day'] = steps['startDate'].map(get_day)\n",
    "steps['hour'] = steps['startDate'].map(get_hour)\n",
    "steps['dow'] = steps['startDate'].map(get_day_of_week)"
   ]
  },
  {
   "cell_type": "code",
   "execution_count": 7,
   "metadata": {},
   "outputs": [],
   "source": [
    "dayOfWeek={0:'Monday', 1:'Tuesday', 2:'Wednesday', 3:'Thursday', 4:'Friday', 5:'Saturday', 6:'Sunday'}\n",
    "steps['weekday'] = steps['startDate'].dt.dayofweek.map(dayOfWeek)"
   ]
  },
  {
   "cell_type": "code",
   "execution_count": 8,
   "metadata": {},
   "outputs": [],
   "source": [
    "steps['indexId'] = (steps.index + 100).astype(str)"
   ]
  },
  {
   "cell_type": "code",
   "execution_count": 9,
   "metadata": {},
   "outputs": [
    {
     "data": {
      "text/html": [
       "<div>\n",
       "<style scoped>\n",
       "    .dataframe tbody tr th:only-of-type {\n",
       "        vertical-align: middle;\n",
       "    }\n",
       "\n",
       "    .dataframe tbody tr th {\n",
       "        vertical-align: top;\n",
       "    }\n",
       "\n",
       "    .dataframe thead th {\n",
       "        text-align: right;\n",
       "    }\n",
       "</style>\n",
       "<table border=\"1\" class=\"dataframe\">\n",
       "  <thead>\n",
       "    <tr style=\"text-align: right;\">\n",
       "      <th></th>\n",
       "      <th>sourceName</th>\n",
       "      <th>sourceVersion</th>\n",
       "      <th>device</th>\n",
       "      <th>type</th>\n",
       "      <th>unit</th>\n",
       "      <th>creationDate</th>\n",
       "      <th>startDate</th>\n",
       "      <th>endDate</th>\n",
       "      <th>value</th>\n",
       "      <th>timestamp</th>\n",
       "      <th>dow</th>\n",
       "      <th>year</th>\n",
       "      <th>month</th>\n",
       "      <th>date</th>\n",
       "      <th>day</th>\n",
       "      <th>hour</th>\n",
       "      <th>weekday</th>\n",
       "      <th>indexId</th>\n",
       "    </tr>\n",
       "  </thead>\n",
       "  <tbody>\n",
       "    <tr>\n",
       "      <th>0</th>\n",
       "      <td>Mark’s Apple Watch</td>\n",
       "      <td>3.1.3</td>\n",
       "      <td>&lt;&lt;HKDevice: 0x280cc6080&gt;, name:Apple Watch, ma...</td>\n",
       "      <td>StepCount</td>\n",
       "      <td>count</td>\n",
       "      <td>2017-04-11 21:17:21 -0800</td>\n",
       "      <td>2017-04-11 20:59:26-08:00</td>\n",
       "      <td>2017-04-11 21:05:31 -0800</td>\n",
       "      <td>8</td>\n",
       "      <td>1.491973e+09</td>\n",
       "      <td>1</td>\n",
       "      <td>2017</td>\n",
       "      <td>2017-04</td>\n",
       "      <td>2017-04-11</td>\n",
       "      <td>11</td>\n",
       "      <td>13</td>\n",
       "      <td>Tuesday</td>\n",
       "      <td>100</td>\n",
       "    </tr>\n",
       "    <tr>\n",
       "      <th>1</th>\n",
       "      <td>Mark’s Apple Watch</td>\n",
       "      <td>3.1.3</td>\n",
       "      <td>&lt;&lt;HKDevice: 0x280cc6080&gt;, name:Apple Watch, ma...</td>\n",
       "      <td>StepCount</td>\n",
       "      <td>count</td>\n",
       "      <td>2017-04-11 21:50:23 -0800</td>\n",
       "      <td>2017-04-11 21:43:54-08:00</td>\n",
       "      <td>2017-04-11 21:44:55 -0800</td>\n",
       "      <td>29</td>\n",
       "      <td>1.491976e+09</td>\n",
       "      <td>1</td>\n",
       "      <td>2017</td>\n",
       "      <td>2017-04</td>\n",
       "      <td>2017-04-11</td>\n",
       "      <td>11</td>\n",
       "      <td>14</td>\n",
       "      <td>Tuesday</td>\n",
       "      <td>101</td>\n",
       "    </tr>\n",
       "    <tr>\n",
       "      <th>2</th>\n",
       "      <td>“马克\\的 iPhone\"</td>\n",
       "      <td>10.3.1</td>\n",
       "      <td>&lt;&lt;HKDevice: 0x280cc7d90&gt;, name:iPhone, manufac...</td>\n",
       "      <td>StepCount</td>\n",
       "      <td>count</td>\n",
       "      <td>2017-04-11 21:52:49 -0800</td>\n",
       "      <td>2017-04-11 21:43:54-08:00</td>\n",
       "      <td>2017-04-11 21:44:48 -0800</td>\n",
       "      <td>25</td>\n",
       "      <td>1.491976e+09</td>\n",
       "      <td>1</td>\n",
       "      <td>2017</td>\n",
       "      <td>2017-04</td>\n",
       "      <td>2017-04-11</td>\n",
       "      <td>11</td>\n",
       "      <td>14</td>\n",
       "      <td>Tuesday</td>\n",
       "      <td>102</td>\n",
       "    </tr>\n",
       "    <tr>\n",
       "      <th>3</th>\n",
       "      <td>“马克\\的 iPhone\"</td>\n",
       "      <td>10.3.1</td>\n",
       "      <td>&lt;&lt;HKDevice: 0x280cc7d90&gt;, name:iPhone, manufac...</td>\n",
       "      <td>StepCount</td>\n",
       "      <td>count</td>\n",
       "      <td>2017-04-11 21:52:49 -0800</td>\n",
       "      <td>2017-04-11 21:51:44-08:00</td>\n",
       "      <td>2017-04-11 21:52:21 -0800</td>\n",
       "      <td>37</td>\n",
       "      <td>1.491976e+09</td>\n",
       "      <td>1</td>\n",
       "      <td>2017</td>\n",
       "      <td>2017-04</td>\n",
       "      <td>2017-04-11</td>\n",
       "      <td>11</td>\n",
       "      <td>14</td>\n",
       "      <td>Tuesday</td>\n",
       "      <td>103</td>\n",
       "    </tr>\n",
       "    <tr>\n",
       "      <th>4</th>\n",
       "      <td>Mark’s Apple Watch</td>\n",
       "      <td>3.1.3</td>\n",
       "      <td>&lt;&lt;HKDevice: 0x280cc6080&gt;, name:Apple Watch, ma...</td>\n",
       "      <td>StepCount</td>\n",
       "      <td>count</td>\n",
       "      <td>2017-04-11 21:59:45 -0800</td>\n",
       "      <td>2017-04-11 21:50:01-08:00</td>\n",
       "      <td>2017-04-11 21:51:41 -0800</td>\n",
       "      <td>34</td>\n",
       "      <td>1.491976e+09</td>\n",
       "      <td>1</td>\n",
       "      <td>2017</td>\n",
       "      <td>2017-04</td>\n",
       "      <td>2017-04-11</td>\n",
       "      <td>11</td>\n",
       "      <td>14</td>\n",
       "      <td>Tuesday</td>\n",
       "      <td>104</td>\n",
       "    </tr>\n",
       "  </tbody>\n",
       "</table>\n",
       "</div>"
      ],
      "text/plain": [
       "           sourceName sourceVersion  \\\n",
       "0  Mark’s Apple Watch         3.1.3   \n",
       "1  Mark’s Apple Watch         3.1.3   \n",
       "2       “马克\\的 iPhone\"        10.3.1   \n",
       "3       “马克\\的 iPhone\"        10.3.1   \n",
       "4  Mark’s Apple Watch         3.1.3   \n",
       "\n",
       "                                              device       type   unit  \\\n",
       "0  <<HKDevice: 0x280cc6080>, name:Apple Watch, ma...  StepCount  count   \n",
       "1  <<HKDevice: 0x280cc6080>, name:Apple Watch, ma...  StepCount  count   \n",
       "2  <<HKDevice: 0x280cc7d90>, name:iPhone, manufac...  StepCount  count   \n",
       "3  <<HKDevice: 0x280cc7d90>, name:iPhone, manufac...  StepCount  count   \n",
       "4  <<HKDevice: 0x280cc6080>, name:Apple Watch, ma...  StepCount  count   \n",
       "\n",
       "                creationDate                 startDate  \\\n",
       "0  2017-04-11 21:17:21 -0800 2017-04-11 20:59:26-08:00   \n",
       "1  2017-04-11 21:50:23 -0800 2017-04-11 21:43:54-08:00   \n",
       "2  2017-04-11 21:52:49 -0800 2017-04-11 21:43:54-08:00   \n",
       "3  2017-04-11 21:52:49 -0800 2017-04-11 21:51:44-08:00   \n",
       "4  2017-04-11 21:59:45 -0800 2017-04-11 21:50:01-08:00   \n",
       "\n",
       "                     endDate  value     timestamp  dow  year    month  \\\n",
       "0  2017-04-11 21:05:31 -0800      8  1.491973e+09    1  2017  2017-04   \n",
       "1  2017-04-11 21:44:55 -0800     29  1.491976e+09    1  2017  2017-04   \n",
       "2  2017-04-11 21:44:48 -0800     25  1.491976e+09    1  2017  2017-04   \n",
       "3  2017-04-11 21:52:21 -0800     37  1.491976e+09    1  2017  2017-04   \n",
       "4  2017-04-11 21:51:41 -0800     34  1.491976e+09    1  2017  2017-04   \n",
       "\n",
       "         date  day  hour  weekday indexId  \n",
       "0  2017-04-11   11    13  Tuesday     100  \n",
       "1  2017-04-11   11    14  Tuesday     101  \n",
       "2  2017-04-11   11    14  Tuesday     102  \n",
       "3  2017-04-11   11    14  Tuesday     103  \n",
       "4  2017-04-11   11    14  Tuesday     104  "
      ]
     },
     "execution_count": 9,
     "metadata": {},
     "output_type": "execute_result"
    }
   ],
   "source": [
    "# steps.info()\n",
    "steps.head()"
   ]
  },
  {
   "cell_type": "code",
   "execution_count": 10,
   "metadata": {},
   "outputs": [],
   "source": [
    "steps = steps.fillna(value='')"
   ]
  },
  {
   "cell_type": "code",
   "execution_count": 11,
   "metadata": {},
   "outputs": [
    {
     "name": "stderr",
     "output_type": "stream",
     "text": [
      "/Users/markkoester/.virtualenvs/base/lib/python3.9/site-packages/elasticsearch/connection/base.py:193: ElasticsearchDeprecationWarning: [types removal] Using include_type_name in put mapping requests is deprecated. The parameter will be removed in the next major version.\n",
      "  warnings.warn(message, category=ElasticsearchDeprecationWarning)\n"
     ]
    },
    {
     "data": {
      "text/plain": [
       "{'acknowledged': True}"
      ]
     },
     "execution_count": 11,
     "metadata": {},
     "output_type": "execute_result"
    }
   ],
   "source": [
    "INDEX = 'steps'\n",
    "TYPE = 'record'\n",
    "\n",
    "# Delete if already exists\n",
    "if es.indices.exists(INDEX):\n",
    "    es.indices.delete(INDEX)\n",
    "\n",
    "# Create index\n",
    "es.indices.create(INDEX)    \n",
    "    \n",
    "# Add mapping\n",
    "with open('apple_health_elastic_mapping.json') as json_mapping:\n",
    "    d = json.load(json_mapping)\n",
    "\n",
    "# Create Customized Index Mappings     \n",
    "es.indices.put_mapping(index=INDEX, doc_type=TYPE, body=d, include_type_name=True)    "
   ]
  },
  {
   "cell_type": "code",
   "execution_count": 12,
   "metadata": {},
   "outputs": [
    {
     "name": "stderr",
     "output_type": "stream",
     "text": [
      "/Users/markkoester/.virtualenvs/base/lib/python3.9/site-packages/elasticsearch/connection/base.py:193: ElasticsearchDeprecationWarning: [types removal] Specifying types in bulk requests is deprecated.\n",
      "  warnings.warn(message, category=ElasticsearchDeprecationWarning)\n"
     ]
    }
   ],
   "source": [
    "esp = Espandas()\n",
    "esp.es_write(steps, INDEX, TYPE)"
   ]
  },
  {
   "cell_type": "code",
   "execution_count": null,
   "metadata": {},
   "outputs": [],
   "source": []
  },
  {
   "cell_type": "code",
   "execution_count": null,
   "metadata": {},
   "outputs": [],
   "source": []
  },
  {
   "cell_type": "markdown",
   "metadata": {},
   "source": [
    "## Import HR into Elastic"
   ]
  },
  {
   "cell_type": "code",
   "execution_count": 13,
   "metadata": {},
   "outputs": [
    {
     "data": {
      "text/plain": [
       "2003"
      ]
     },
     "execution_count": 13,
     "metadata": {},
     "output_type": "execute_result"
    }
   ],
   "source": [
    "resting = pd.read_csv(\"data/RestingHeartRate.csv\")\n",
    "len(resting)"
   ]
  },
  {
   "cell_type": "code",
   "execution_count": 14,
   "metadata": {},
   "outputs": [],
   "source": [
    "# parse out date and time elements as local time\n",
    "resting['startDate'] = pd.to_datetime(resting['startDate'])\n",
    "\n",
    "# parse to unix seconds since epoch\n",
    "resting['timestamp'] = pd.to_datetime(resting['startDate']).astype(int) / 10**9\n",
    "\n",
    "resting['dow'] = resting['startDate'].map(get_day_of_week)\n",
    "resting['year'] = resting['startDate'].map(get_year)\n",
    "resting['month'] = resting['startDate'].map(get_month)\n",
    "resting['date'] = resting['startDate'].map(get_date)\n",
    "resting['day'] = resting['startDate'].map(get_day)\n",
    "resting['hour'] = resting['startDate'].map(get_hour)\n",
    "resting['dow'] = resting['startDate'].map(get_day_of_week)"
   ]
  },
  {
   "cell_type": "code",
   "execution_count": 15,
   "metadata": {},
   "outputs": [],
   "source": [
    "dayOfWeek={0:'Monday', 1:'Tuesday', 2:'Wednesday', 3:'Thursday', 4:'Friday', 5:'Saturday', 6:'Sunday'}\n",
    "resting['weekday'] = resting['startDate'].dt.dayofweek.map(dayOfWeek)"
   ]
  },
  {
   "cell_type": "code",
   "execution_count": 16,
   "metadata": {},
   "outputs": [],
   "source": [
    "resting['indexId'] = (resting.index + 100).astype(str)"
   ]
  },
  {
   "cell_type": "code",
   "execution_count": 17,
   "metadata": {},
   "outputs": [],
   "source": [
    "resting = resting.fillna(value='')"
   ]
  },
  {
   "cell_type": "code",
   "execution_count": 18,
   "metadata": {},
   "outputs": [
    {
     "data": {
      "text/plain": [
       "{'acknowledged': True}"
      ]
     },
     "execution_count": 18,
     "metadata": {},
     "output_type": "execute_result"
    }
   ],
   "source": [
    "INDEX = 'resting_hr'\n",
    "TYPE = 'record'\n",
    "\n",
    "# Delete if already exists\n",
    "if es.indices.exists(INDEX):\n",
    "    es.indices.delete(INDEX)\n",
    "\n",
    "# Create index\n",
    "es.indices.create(INDEX)    \n",
    "    \n",
    "# Add mapping\n",
    "with open('apple_health_elastic_mapping.json') as json_mapping:\n",
    "    d = json.load(json_mapping)\n",
    "\n",
    "# Create Customized Index Mappings     \n",
    "es.indices.put_mapping(index=INDEX, doc_type=TYPE, body=d, include_type_name=True)    "
   ]
  },
  {
   "cell_type": "code",
   "execution_count": 19,
   "metadata": {},
   "outputs": [],
   "source": [
    "esp = Espandas()\n",
    "esp.es_write(resting, INDEX, TYPE)"
   ]
  },
  {
   "cell_type": "code",
   "execution_count": null,
   "metadata": {},
   "outputs": [],
   "source": []
  },
  {
   "cell_type": "code",
   "execution_count": 20,
   "metadata": {},
   "outputs": [
    {
     "data": {
      "text/plain": [
       "759321"
      ]
     },
     "execution_count": 20,
     "metadata": {},
     "output_type": "execute_result"
    }
   ],
   "source": [
    "hr = pd.read_csv(\"data/HeartRate.csv\")\n",
    "len(hr)"
   ]
  },
  {
   "cell_type": "code",
   "execution_count": 21,
   "metadata": {},
   "outputs": [],
   "source": [
    "# hr.tail(10)"
   ]
  },
  {
   "cell_type": "code",
   "execution_count": 22,
   "metadata": {},
   "outputs": [],
   "source": [
    "# parse out date and time elements as local time\n",
    "hr['startDate'] = pd.to_datetime(hr['startDate'])\n",
    "\n",
    "# parse to unix seconds since epoch\n",
    "hr['timestamp'] = pd.to_datetime(hr['startDate']).astype(int) / 10**9\n",
    "\n",
    "hr['dow'] = hr['startDate'].map(get_day_of_week)\n",
    "hr['year'] = hr['startDate'].map(get_year)\n",
    "hr['month'] = hr['startDate'].map(get_month)\n",
    "hr['date'] = hr['startDate'].map(get_date)\n",
    "hr['day'] = hr['startDate'].map(get_day)\n",
    "hr['hour'] = hr['startDate'].map(get_hour)\n",
    "hr['dow'] = hr['startDate'].map(get_day_of_week)"
   ]
  },
  {
   "cell_type": "code",
   "execution_count": 23,
   "metadata": {},
   "outputs": [],
   "source": [
    "dayOfWeek={0:'Monday', 1:'Tuesday', 2:'Wednesday', 3:'Thursday', 4:'Friday', 5:'Saturday', 6:'Sunday'}\n",
    "hr['weekday'] = hr['startDate'].dt.dayofweek.map(dayOfWeek)"
   ]
  },
  {
   "cell_type": "code",
   "execution_count": 24,
   "metadata": {},
   "outputs": [],
   "source": [
    "hr['indexId'] = (hr.index + 100).astype(str)"
   ]
  },
  {
   "cell_type": "code",
   "execution_count": 25,
   "metadata": {},
   "outputs": [],
   "source": [
    "hr = hr.fillna(value='')"
   ]
  },
  {
   "cell_type": "code",
   "execution_count": 26,
   "metadata": {},
   "outputs": [
    {
     "data": {
      "text/plain": [
       "{'acknowledged': True}"
      ]
     },
     "execution_count": 26,
     "metadata": {},
     "output_type": "execute_result"
    }
   ],
   "source": [
    "INDEX = 'hr'\n",
    "TYPE = 'record'\n",
    "\n",
    "# Delete if already exists\n",
    "if es.indices.exists(INDEX):\n",
    "    es.indices.delete(INDEX)\n",
    "\n",
    "# Create index\n",
    "es.indices.create(INDEX)    \n",
    "    \n",
    "# Add mapping\n",
    "with open('apple_health_elastic_mapping.json') as json_mapping:\n",
    "    d = json.load(json_mapping)\n",
    "\n",
    "# Create Customized Index Mappings     \n",
    "es.indices.put_mapping(index=INDEX, doc_type=TYPE, body=d, include_type_name=True)    "
   ]
  },
  {
   "cell_type": "code",
   "execution_count": 27,
   "metadata": {},
   "outputs": [],
   "source": [
    "esp = Espandas()\n",
    "esp.es_write(hr, INDEX, TYPE)"
   ]
  },
  {
   "cell_type": "code",
   "execution_count": null,
   "metadata": {},
   "outputs": [],
   "source": []
  }
 ],
 "metadata": {
  "kernelspec": {
   "display_name": "Python 3",
   "language": "python",
   "name": "python3"
  },
  "language_info": {
   "codemirror_mode": {
    "name": "ipython",
    "version": 3
   },
   "file_extension": ".py",
   "mimetype": "text/x-python",
   "name": "python",
   "nbconvert_exporter": "python",
   "pygments_lexer": "ipython3",
   "version": "3.9.0"
  }
 },
 "nbformat": 4,
 "nbformat_minor": 4
}
