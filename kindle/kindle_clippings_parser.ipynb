{
 "cells": [
  {
   "cell_type": "markdown",
   "metadata": {},
   "source": [
    "# Kindle Clippings Parser"
   ]
  },
  {
   "cell_type": "markdown",
   "metadata": {},
   "source": [
    "Simple Script to Parse Kindle Highlights. \n",
    "\n",
    "Configure path to your file. Script extracts highlights into a CSV export. \n",
    "\n",
    "For **data analysis and some data visualization** of your Amazon Kindle clippings, see: [kindle_clippings_data_analysis.ipynb](https://github.com/markwk/qs_ledger/blob/master/kindle/kindle_clippings_data_analysis.ipynb)"
   ]
  },
  {
   "cell_type": "markdown",
   "metadata": {},
   "source": [
    "---"
   ]
  },
  {
   "cell_type": "code",
   "execution_count": 1,
   "metadata": {},
   "outputs": [],
   "source": [
    "# set path to your clippings file\n",
    "my_path = \"data/My Clippings.txt\"\n",
    "# my_path = \"data/My Clippings - Kindle1.txt\""
   ]
  },
  {
   "cell_type": "markdown",
   "metadata": {},
   "source": [
    "-----"
   ]
  },
  {
   "cell_type": "code",
   "execution_count": 2,
   "metadata": {},
   "outputs": [],
   "source": [
    "# dependencies\n",
    "from datetime import date, datetime as dt, timedelta as td\n",
    "import numpy as np\n",
    "import pandas as pd\n",
    "\n",
    "import matplotlib.pyplot as plt\n",
    "%matplotlib inline"
   ]
  },
  {
   "cell_type": "markdown",
   "metadata": {},
   "source": [
    "----"
   ]
  },
  {
   "cell_type": "code",
   "execution_count": 3,
   "metadata": {},
   "outputs": [],
   "source": [
    "# function to parse and extract kindle highlights from clippings.txt file\n",
    "# TODO: Add Reference to Adapted Code\n",
    "def extract_clipping(data):\n",
    "\n",
    "    meta0 = data[0]\n",
    "    br_pts0 = [i for i, x in enumerate(meta0) if x == '(']\n",
    "    if len(br_pts0) == 0:\n",
    "        book_title = meta0\n",
    "        author = 'Unknown'\n",
    "    else:\n",
    "        br0 = br_pts0[-1]\n",
    "        book_title = meta0[:br0]\n",
    "        author = meta0[br0+1:-1]\n",
    "\n",
    "        if ',' in author:\n",
    "            parts = author.split(',')\n",
    "            author = parts[1][1:] + ' ' + parts[0]\n",
    "\n",
    "        if ';' in author:\n",
    "            author = author.split(';')\n",
    "\n",
    "    meta1 = data[1].split('|')\n",
    "    if len(meta1) == 3:\n",
    "        num_pages = meta1[0][meta1[0].find('p') + 5:-1]\n",
    "        location = meta1[1][1:-1]\n",
    "        br1 = meta1[2].find(',')\n",
    "        entry_date = dt.strptime(meta1[2][br1+2:], '%B %d, %Y %I:%M:%S %p').strftime(\"%Y-%m-%d %H:%M:%S\")\n",
    "    elif len(meta1) == 2:\n",
    "        num_pages = 'Unknown'\n",
    "        location = meta1[0][meta1[0].find('on') + 3:-1]\n",
    "        br1 = meta1[1].find(',')\n",
    "        entry_date = dt.strptime(meta1[1][br1+2:], '%B %d, %Y %I:%M:%S %p').strftime(\"%Y-%m-%d %H:%M:%S\")\n",
    "\n",
    "    highlight = data[3]\n",
    "        \n",
    "    return {\n",
    "            'book_title': book_title,\n",
    "            'author': author,\n",
    "            'num_pages': num_pages,\n",
    "            'location': location,\n",
    "            'entry_date': entry_date,\n",
    "            'highlight': highlight\n",
    "        }"
   ]
  },
  {
   "cell_type": "markdown",
   "metadata": {},
   "source": [
    "----"
   ]
  },
  {
   "cell_type": "markdown",
   "metadata": {},
   "source": [
    "## Parse and Export Kindle Clippings to CSV"
   ]
  },
  {
   "cell_type": "code",
   "execution_count": 4,
   "metadata": {},
   "outputs": [],
   "source": [
    "# split clippings.txt file into relevant sections\n",
    "with open(my_path, \"r\") as file:\n",
    "    everything = file.read()\n",
    "    everything = everything.replace('\\ufeff', '')\n",
    "    sections = everything.split('==========\\n')\n",
    "    \n",
    "# print(len(sections))\n",
    "    \n",
    "clippings_list = []\n",
    "for i, clip in enumerate(sections[:-1]):\n",
    "    data = clip.split('\\n')\n",
    "    extract = extract_clipping(data)\n",
    "    clippings_list.append(extract)\n",
    "\n",
    "# len(clippings_list)\n",
    "\n",
    "# create dataframe\n",
    "clippings = pd.DataFrame(clippings_list)"
   ]
  },
  {
   "cell_type": "code",
   "execution_count": 5,
   "metadata": {},
   "outputs": [],
   "source": [
    "# export to csv\n",
    "clippings.to_csv(\"data/clippings.csv\", index=None, encoding='utf-8')"
   ]
  },
  {
   "cell_type": "markdown",
   "metadata": {},
   "source": [
    "----"
   ]
  },
  {
   "cell_type": "markdown",
   "metadata": {},
   "source": [
    "## Export Notes from Specific Book"
   ]
  },
  {
   "cell_type": "code",
   "execution_count": 6,
   "metadata": {},
   "outputs": [],
   "source": [
    "my_clippings = pd.read_csv(\"data/clippings.csv\")"
   ]
  },
  {
   "cell_type": "code",
   "execution_count": 7,
   "metadata": {},
   "outputs": [
    {
     "name": "stdout",
     "output_type": "stream",
     "text": [
      "<class 'pandas.core.frame.DataFrame'>\n",
      "RangeIndex: 988 entries, 0 to 987\n",
      "Data columns (total 6 columns):\n",
      " #   Column      Non-Null Count  Dtype \n",
      "---  ------      --------------  ----- \n",
      " 0   book_title  988 non-null    object\n",
      " 1   author      988 non-null    object\n",
      " 2   num_pages   988 non-null    object\n",
      " 3   location    988 non-null    object\n",
      " 4   entry_date  988 non-null    object\n",
      " 5   highlight   983 non-null    object\n",
      "dtypes: object(6)\n",
      "memory usage: 46.4+ KB\n"
     ]
    }
   ],
   "source": [
    "my_clippings.info()"
   ]
  },
  {
   "cell_type": "code",
   "execution_count": 8,
   "metadata": {},
   "outputs": [],
   "source": [
    "my_clippings.columns = ['author', 'book_title', 'timestamp', 'highlight', 'location',\n",
    "       'num_pages']"
   ]
  },
  {
   "cell_type": "code",
   "execution_count": 9,
   "metadata": {},
   "outputs": [],
   "source": [
    "def print_book(title):\n",
    "    book_notes = my_clippings[my_clippings['book_title'] == title]\n",
    "    print(book_notes.iloc[0]['book_title'])\n",
    "    print(\"by \" + book_notes.iloc[0]['author'])\n",
    "    print(\"---------------------------\")\n",
    "    for index, row in book_notes.iterrows():\n",
    "        print(row['highlight'])\n",
    "        print(\"pg: \" + row['num_pages'] + \" | \" + row['location'] + \" | \" + str(row['timestamp']))\n",
    "        print(\"\")"
   ]
  },
  {
   "cell_type": "code",
   "execution_count": 10,
   "metadata": {},
   "outputs": [
    {
     "name": "stdout",
     "output_type": "stream",
     "text": [
      "Latest Books with Highlights: \n",
      "Unknown\n",
      "W.E.B. Du Bois\n",
      "Jonathan Weiner\n",
      "Justin Jackson\n",
      "Jon Meacham\n",
      "Safi Bahcall\n",
      "Eric Topol\n",
      "Dale Bredesen\n",
      "G. Polya\n",
      "['Robert Gottlieb', 'Simon Ng']\n",
      "Kai-Fu Lee\n",
      "Alex Hutchinson\n",
      "Susan Brownmiller\n",
      "Leonardo Gabrielli\n",
      "Matthew B. Crawford\n"
     ]
    }
   ],
   "source": [
    "book_titles = my_clippings['book_title'].unique()\n",
    "print(\"Latest Books with Highlights: \")\n",
    "for i in book_titles[-15:]:\n",
    "    print(i)"
   ]
  },
  {
   "cell_type": "code",
   "execution_count": 11,
   "metadata": {},
   "outputs": [],
   "source": [
    "# Display Individual Book's Clippings\n",
    "# Uncomment and configure to title of \n",
    "# print_book(\"Handmaid's Tale \")"
   ]
  },
  {
   "cell_type": "code",
   "execution_count": null,
   "metadata": {},
   "outputs": [],
   "source": []
  }
 ],
 "metadata": {
  "kernelspec": {
   "display_name": "Python 3",
   "language": "python",
   "name": "python3"
  },
  "language_info": {
   "codemirror_mode": {
    "name": "ipython",
    "version": 3
   },
   "file_extension": ".py",
   "mimetype": "text/x-python",
   "name": "python",
   "nbconvert_exporter": "python",
   "pygments_lexer": "ipython3",
   "version": "3.9.0"
  }
 },
 "nbformat": 4,
 "nbformat_minor": 4
}
