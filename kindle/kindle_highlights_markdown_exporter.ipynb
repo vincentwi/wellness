{
 "cells": [
  {
   "cell_type": "markdown",
   "metadata": {},
   "source": [
    "# Kindle Clippings Markdown Exporter"
   ]
  },
  {
   "cell_type": "markdown",
   "metadata": {},
   "source": [
    "This notebook will generate a separate markdown file for each your books with their clippings and highlightss. \n",
    "\n",
    "NOTE: To use, first run [kindle_clippings_parser.ipynb](https://github.com/markwk/qs_ledger/blob/master/kindle/kindle_clippings_parser.ipynb) to parse and collect your device's clippings.\n",
    "\n",
    "For **data analysis and some data visualization** of your Amazon Kindle clippings, see: [kindle_clippings_data_analysis.ipynb](https://github.com/markwk/qs_ledger/blob/master/kindle/kindle_clippings_data_analysis.ipynb)"
   ]
  },
  {
   "cell_type": "markdown",
   "metadata": {},
   "source": [
    "----"
   ]
  },
  {
   "cell_type": "markdown",
   "metadata": {},
   "source": [
    "## Configuration"
   ]
  },
  {
   "cell_type": "code",
   "execution_count": 2,
   "metadata": {},
   "outputs": [],
   "source": [
    "export_directory = '/Users/markkoester/Library/Mobile Documents/9CR7T2DMDG~com~ngocluu~onewriter/Documents/z_collected/cllppings_and_quotes/'"
   ]
  },
  {
   "cell_type": "markdown",
   "metadata": {},
   "source": [
    "----"
   ]
  },
  {
   "cell_type": "markdown",
   "metadata": {},
   "source": [
    "## Dependencies"
   ]
  },
  {
   "cell_type": "code",
   "execution_count": 3,
   "metadata": {},
   "outputs": [],
   "source": [
    "from datetime import date, datetime as dt, timedelta as td\n",
    "import pandas as pd"
   ]
  },
  {
   "cell_type": "markdown",
   "metadata": {},
   "source": [
    "----"
   ]
  },
  {
   "cell_type": "markdown",
   "metadata": {},
   "source": [
    "## Data Import and Data Preparations"
   ]
  },
  {
   "cell_type": "code",
   "execution_count": 14,
   "metadata": {},
   "outputs": [],
   "source": [
    "my_clippings = pd.read_csv(\"data/clippings.csv\")"
   ]
  },
  {
   "cell_type": "code",
   "execution_count": 17,
   "metadata": {},
   "outputs": [],
   "source": [
    "my_clippings.columns = ['book_title', 'author', 'num_pages', 'location', 'timestamp', 'highlight']"
   ]
  },
  {
   "cell_type": "code",
   "execution_count": 18,
   "metadata": {},
   "outputs": [
    {
     "data": {
      "text/html": [
       "<div>\n",
       "<style scoped>\n",
       "    .dataframe tbody tr th:only-of-type {\n",
       "        vertical-align: middle;\n",
       "    }\n",
       "\n",
       "    .dataframe tbody tr th {\n",
       "        vertical-align: top;\n",
       "    }\n",
       "\n",
       "    .dataframe thead th {\n",
       "        text-align: right;\n",
       "    }\n",
       "</style>\n",
       "<table border=\"1\" class=\"dataframe\">\n",
       "  <thead>\n",
       "    <tr style=\"text-align: right;\">\n",
       "      <th></th>\n",
       "      <th>book_title</th>\n",
       "      <th>author</th>\n",
       "      <th>num_pages</th>\n",
       "      <th>location</th>\n",
       "      <th>timestamp</th>\n",
       "      <th>highlight</th>\n",
       "    </tr>\n",
       "  </thead>\n",
       "  <tbody>\n",
       "    <tr>\n",
       "      <th>0</th>\n",
       "      <td>Ultralearning</td>\n",
       "      <td>Scott Young</td>\n",
       "      <td>4</td>\n",
       "      <td>Location 55-56</td>\n",
       "      <td>2020-06-26 19:23:22</td>\n",
       "      <td>Directness is the practice of learning by dire...</td>\n",
       "    </tr>\n",
       "    <tr>\n",
       "      <th>1</th>\n",
       "      <td>Ultralearning</td>\n",
       "      <td>Scott Young</td>\n",
       "      <td>4</td>\n",
       "      <td>Location 57-58</td>\n",
       "      <td>2020-06-26 19:25:44</td>\n",
       "      <td>Passive learning creates knowledge. Active pra...</td>\n",
       "    </tr>\n",
       "    <tr>\n",
       "      <th>2</th>\n",
       "      <td>Breath</td>\n",
       "      <td>['James Nestor', '']</td>\n",
       "      <td>108</td>\n",
       "      <td>Location 1654-1655</td>\n",
       "      <td>2020-06-26 23:24:31</td>\n",
       "      <td>In the 1730s, before the onset of industrializ...</td>\n",
       "    </tr>\n",
       "    <tr>\n",
       "      <th>3</th>\n",
       "      <td>Breath</td>\n",
       "      <td>['James Nestor', '']</td>\n",
       "      <td>110</td>\n",
       "      <td>Location 1680-1684</td>\n",
       "      <td>2020-06-27 11:29:04</td>\n",
       "      <td>Researchers have suspected that industrialized...</td>\n",
       "    </tr>\n",
       "    <tr>\n",
       "      <th>4</th>\n",
       "      <td>Breath</td>\n",
       "      <td>['James Nestor', '']</td>\n",
       "      <td>112</td>\n",
       "      <td>Location 1707-1708</td>\n",
       "      <td>2020-06-27 11:34:27</td>\n",
       "      <td>In 1939, Price published Nutrition and Physica...</td>\n",
       "    </tr>\n",
       "    <tr>\n",
       "      <th>...</th>\n",
       "      <td>...</td>\n",
       "      <td>...</td>\n",
       "      <td>...</td>\n",
       "      <td>...</td>\n",
       "      <td>...</td>\n",
       "      <td>...</td>\n",
       "    </tr>\n",
       "    <tr>\n",
       "      <th>983</th>\n",
       "      <td>Endure: Mind, Body, and the Curiously Elastic ...</td>\n",
       "      <td>Alex Hutchinson</td>\n",
       "      <td>235</td>\n",
       "      <td>Location 3603-3604</td>\n",
       "      <td>2020-12-13 14:14:47</td>\n",
       "      <td>reverse VO2max protocol</td>\n",
       "    </tr>\n",
       "    <tr>\n",
       "      <th>984</th>\n",
       "      <td>Endure: Mind, Body, and the Curiously Elastic ...</td>\n",
       "      <td>Alex Hutchinson</td>\n",
       "      <td>237</td>\n",
       "      <td>Location 3634-3635</td>\n",
       "      <td>2020-12-13 23:55:27</td>\n",
       "      <td>others have identified a cognitive trait calle...</td>\n",
       "    </tr>\n",
       "    <tr>\n",
       "      <th>985</th>\n",
       "      <td>Endure: Mind, Body, and the Curiously Elastic ...</td>\n",
       "      <td>Alex Hutchinson</td>\n",
       "      <td>239</td>\n",
       "      <td>Location 3660-3664</td>\n",
       "      <td>2020-12-13 23:57:53</td>\n",
       "      <td>he helped me devise a twelve-week routine, fiv...</td>\n",
       "    </tr>\n",
       "    <tr>\n",
       "      <th>986</th>\n",
       "      <td>Endure: Mind, Body, and the Curiously Elastic ...</td>\n",
       "      <td>Alex Hutchinson</td>\n",
       "      <td>243</td>\n",
       "      <td>Location 3723-3726</td>\n",
       "      <td>2020-12-14 00:03:51</td>\n",
       "      <td>In 2015, Staiano and Marcora presented recentl...</td>\n",
       "    </tr>\n",
       "    <tr>\n",
       "      <th>987</th>\n",
       "      <td>Endure: Mind, Body, and the Curiously Elastic ...</td>\n",
       "      <td>Alex Hutchinson</td>\n",
       "      <td>245</td>\n",
       "      <td>Location 3757-3758</td>\n",
       "      <td>2020-12-14 14:33:56</td>\n",
       "      <td>the role of interoception—the brain’s monitori...</td>\n",
       "    </tr>\n",
       "  </tbody>\n",
       "</table>\n",
       "<p>988 rows × 6 columns</p>\n",
       "</div>"
      ],
      "text/plain": [
       "                                            book_title                author  \\\n",
       "0                                       Ultralearning            Scott Young   \n",
       "1                                       Ultralearning            Scott Young   \n",
       "2                                              Breath   ['James Nestor', '']   \n",
       "3                                              Breath   ['James Nestor', '']   \n",
       "4                                              Breath   ['James Nestor', '']   \n",
       "..                                                 ...                   ...   \n",
       "983  Endure: Mind, Body, and the Curiously Elastic ...       Alex Hutchinson   \n",
       "984  Endure: Mind, Body, and the Curiously Elastic ...       Alex Hutchinson   \n",
       "985  Endure: Mind, Body, and the Curiously Elastic ...       Alex Hutchinson   \n",
       "986  Endure: Mind, Body, and the Curiously Elastic ...       Alex Hutchinson   \n",
       "987  Endure: Mind, Body, and the Curiously Elastic ...       Alex Hutchinson   \n",
       "\n",
       "    num_pages            location            timestamp  \\\n",
       "0           4      Location 55-56  2020-06-26 19:23:22   \n",
       "1           4      Location 57-58  2020-06-26 19:25:44   \n",
       "2         108  Location 1654-1655  2020-06-26 23:24:31   \n",
       "3         110  Location 1680-1684  2020-06-27 11:29:04   \n",
       "4         112  Location 1707-1708  2020-06-27 11:34:27   \n",
       "..        ...                 ...                  ...   \n",
       "983       235  Location 3603-3604  2020-12-13 14:14:47   \n",
       "984       237  Location 3634-3635  2020-12-13 23:55:27   \n",
       "985       239  Location 3660-3664  2020-12-13 23:57:53   \n",
       "986       243  Location 3723-3726  2020-12-14 00:03:51   \n",
       "987       245  Location 3757-3758  2020-12-14 14:33:56   \n",
       "\n",
       "                                             highlight  \n",
       "0    Directness is the practice of learning by dire...  \n",
       "1    Passive learning creates knowledge. Active pra...  \n",
       "2    In the 1730s, before the onset of industrializ...  \n",
       "3    Researchers have suspected that industrialized...  \n",
       "4    In 1939, Price published Nutrition and Physica...  \n",
       "..                                                 ...  \n",
       "983                            reverse VO2max protocol  \n",
       "984  others have identified a cognitive trait calle...  \n",
       "985  he helped me devise a twelve-week routine, fiv...  \n",
       "986  In 2015, Staiano and Marcora presented recentl...  \n",
       "987  the role of interoception—the brain’s monitori...  \n",
       "\n",
       "[988 rows x 6 columns]"
      ]
     },
     "execution_count": 18,
     "metadata": {},
     "output_type": "execute_result"
    }
   ],
   "source": [
    "my_clippings"
   ]
  },
  {
   "cell_type": "code",
   "execution_count": 19,
   "metadata": {},
   "outputs": [],
   "source": [
    "# date additions\n",
    "my_clippings['timestamp'] = pd.to_datetime(my_clippings['timestamp'])\n",
    "my_clippings['date'] = my_clippings['timestamp'].apply(lambda x: x.strftime('%Y-%m-%d')) # note: not very efficient\n",
    "my_clippings['year'] = my_clippings['timestamp'].dt.year\n",
    "my_clippings['month'] = my_clippings['timestamp'].dt.month\n",
    "my_clippings['mnth_yr'] = my_clippings['timestamp'].apply(lambda x: x.strftime('%Y-%m')) # note: not very efficient\n",
    "my_clippings['day'] = my_clippings['timestamp'].dt.day\n",
    "my_clippings['dow'] = my_clippings['timestamp'].dt.dayofweek\n",
    "my_clippings['hour'] = my_clippings['timestamp'].dt.hour"
   ]
  },
  {
   "cell_type": "markdown",
   "metadata": {},
   "source": [
    "----"
   ]
  },
  {
   "cell_type": "markdown",
   "metadata": {},
   "source": [
    "# Kindle Book Clippings Markdown Exporter"
   ]
  },
  {
   "cell_type": "code",
   "execution_count": 21,
   "metadata": {},
   "outputs": [
    {
     "name": "stdout",
     "output_type": "stream",
     "text": [
      "38 total books\n"
     ]
    }
   ],
   "source": [
    "book_titles = my_clippings['book_title'].unique()\n",
    "print('{:,} total books'.format(len(book_titles)))"
   ]
  },
  {
   "cell_type": "code",
   "execution_count": 22,
   "metadata": {},
   "outputs": [],
   "source": [
    "def generate_book_file(book_title, directory=export_directory):\n",
    "    book_notes = my_clippings[my_clippings['book_title'] == book_title]\n",
    "    title = (book_notes.iloc[0]['book_title']).rstrip()\n",
    "    author = (book_notes.iloc[0]['author']).rstrip()\n",
    "    title_stripped = (title.rstrip()\n",
    "                      .replace(\" \", \"_\")\n",
    "                      .replace(\":\", \"\")\n",
    "                      .replace(\",\", \"\")\n",
    "                      .replace(\"/\", \"\")\n",
    "                      .replace(\"(\", \"\")\n",
    "                      .replace(\")\", \"\")\n",
    "                      .replace(\"?\", \"\")\n",
    "                      .lower())\n",
    "    filename=(book_notes.iloc[0]['timestamp'].strftime('%Y%m%d%H%M') + \"_\" + title_stripped+\".md\")\n",
    "    filepath= directory+filename\n",
    "    \n",
    "    if author == 'Blinkist':\n",
    "        pass\n",
    "    else: \n",
    "        print(\"Printing... \" + filename)\n",
    "        file = open(filepath,\"w\") \n",
    "        file.write(\"# \" + title + \" by \" + author + \" \\n\")\n",
    "        file.write(\"### Clippings \\n\")\n",
    "        file.write(\"tags: #BookClippings #BookRead \\n\")\n",
    "        file.write(\" \\n\") \n",
    "        for index, row in book_notes.iterrows():\n",
    "            file.write(str(row['highlight']) + \" \\n\")\n",
    "            file.write(\"p \" + str(row['num_pages']) + \" | \" + row['location'] + \" | \" + str(row['timestamp']) + \" \\n\")\n",
    "            file.write(\" \\n\")\n",
    "        file.close() "
   ]
  },
  {
   "cell_type": "code",
   "execution_count": 23,
   "metadata": {},
   "outputs": [
    {
     "data": {
      "text/plain": [
       "'World Beyond Your Head : On Becoming an Individual in an Age of Distraction (9780374708443) '"
      ]
     },
     "execution_count": 23,
     "metadata": {},
     "output_type": "execute_result"
    }
   ],
   "source": [
    "# Get a Test Book Title\n",
    "book_titles[-1]"
   ]
  },
  {
   "cell_type": "code",
   "execution_count": null,
   "metadata": {},
   "outputs": [],
   "source": [
    "# Test Individual Book Export\n",
    "# generate_book_file(\"Buddha's Brain \")"
   ]
  },
  {
   "cell_type": "code",
   "execution_count": 24,
   "metadata": {},
   "outputs": [
    {
     "name": "stdout",
     "output_type": "stream",
     "text": [
      "Printing... 202006261923_ultralearning.md\n",
      "Printing... 202006262324_breath.md\n",
      "Printing... 202006300017_secrets_of_sand_hill_road.md\n",
      "Printing... 202007021858_this_is_marketing.md\n",
      "Printing... 202007110145_handmaid's_tale.md\n",
      "Printing... 202007122308_the_soul_of_an_octopus_a_surprising_exploration_into_the_wonder_of_consciousness.md\n",
      "Printing... 202008011648_the_wizard_of_menlo_park.md\n",
      "Printing... 202008041722_the_invention_of_nature.md\n",
      "Printing... 202008142135_california_bones_daniel_blackland.md\n",
      "Printing... 202008221437_messy_how_to_be_creative_and_resilient_in_a_tidy-minded_world.md\n",
      "Printing... 202008280025_los_angeles_in_the_1970s.md\n",
      "Printing... 202008280039_city_of_segregation.md\n",
      "Printing... 202008280042_the_founding_of_los_angeles_before_the_birth_of_hollywood.md\n",
      "Printing... 202008280044_death_is_a_lonely_business.md\n",
      "Printing... 202008281943_disunited_nations.md\n",
      "Printing... 202009081052_hidden_history_of_transportation_in_los_angeles.md\n",
      "Printing... 202009110012_less_medicine_more_health.md\n",
      "Printing... 202009110956_can_it_happen_here.md\n",
      "Printing... 202009111600_homo_deus_a_brief_history_of_tomorrow.md\n",
      "Printing... 202009122333_the_art_of_stillness_adventures_in_going_nowhere.md\n",
      "Printing... 202009191022_an_indigenous_peoples'_history_of_the_united_states.md\n",
      "Printing... 202009251344_the_prophet.md\n",
      "Printing... 202009272008_business_model_generation.md\n",
      "Printing... 202009280029_how_emotions_are_made_-_unknown.md\n",
      "Printing... 202010041557_the_souls_of_black_folk_original_classic_edition.md\n",
      "Printing... 202010122233_time_love__memory.md\n",
      "Printing... 202011012040_marketing_for_product_people.md\n",
      "Printing... 202011082303_destiny_and_power.md\n",
      "Printing... 202011090902_loonshots__how_to_nurture_the_crazy_ideas_that_win_wars_cure_diseases_and_transform_industries_9781250185976.md\n",
      "Printing... 202011092310_deep_medicine.md\n",
      "Printing... 202011110036_the_end_of_alzheimer's.md\n",
      "Printing... 202011130024_how_to_solve_it_princeton_science_library.md\n",
      "Printing... 202011130036_the_global_cities.md\n",
      "Printing... 202011131155_ai_superpowers.md\n",
      "Printing... 202011131517_endure_mind_body_and_the_curiously_elastic_limits_of_human_performance.md\n",
      "Printing... 202011141412_in_our_time_memoir_of_a_revolution.md\n",
      "Printing... 202011252211_developing_virtual_synthesizers_with_vcv_rack.md\n",
      "Printing... 202012022048_world_beyond_your_head__on_becoming_an_individual_in_an_age_of_distraction_9780374708443.md\n"
     ]
    }
   ],
   "source": [
    "# loop through all books\n",
    "for i in book_titles:\n",
    "    generate_book_file(i)"
   ]
  },
  {
   "cell_type": "code",
   "execution_count": null,
   "metadata": {},
   "outputs": [],
   "source": []
  }
 ],
 "metadata": {
  "kernelspec": {
   "display_name": "Python 3",
   "language": "python",
   "name": "python3"
  },
  "language_info": {
   "codemirror_mode": {
    "name": "ipython",
    "version": 3
   },
   "file_extension": ".py",
   "mimetype": "text/x-python",
   "name": "python",
   "nbconvert_exporter": "python",
   "pygments_lexer": "ipython3",
   "version": "3.9.0"
  }
 },
 "nbformat": 4,
 "nbformat_minor": 4
}
