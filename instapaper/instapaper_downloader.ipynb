{
 "cells": [
  {
   "cell_type": "markdown",
   "metadata": {},
   "source": [
    "# Instapaper Downloader\n",
    "\n",
    "Want to know how many articles you've read and have to read in Instaspaper? Want to collect your highlighted passages? Get your Bookmarks, Articles, and Highlights Data from Instapaper!\n",
    "\n",
    "This code integrates with [Instapaper's API](https://www.instapaper.com/api). See [Instapaper's API Terms](https://www.instapaper.com/api/terms) for more info on terms of usage.  It's part of [QS Ledger](https://github.com/markwk/qs_ledger). "
   ]
  },
  {
   "cell_type": "markdown",
   "metadata": {},
   "source": [
    "-----"
   ]
  },
  {
   "cell_type": "markdown",
   "metadata": {},
   "source": [
    "## Requirements:\n",
    "\n",
    "* Pandas. Install with command: `$ pip install pandas`\n",
    "* [PyInstapaper](https://github.com/mdorn/pyinstapaper): Install with command: `$ pip install pyinstapaper`"
   ]
  },
  {
   "cell_type": "code",
   "execution_count": 1,
   "metadata": {},
   "outputs": [],
   "source": [
    "# dependencies\n",
    "import pandas as pd\n",
    "from pyinstapaper.instapaper import Instapaper, Folder"
   ]
  },
  {
   "cell_type": "markdown",
   "metadata": {},
   "source": [
    "-----"
   ]
  },
  {
   "cell_type": "markdown",
   "metadata": {},
   "source": [
    "## Instapaper Developer Setup and Authentification"
   ]
  },
  {
   "cell_type": "markdown",
   "metadata": {},
   "source": [
    "Note: Once you get your app approved by Instapaper, this actual setup should only take a few minutes. \n",
    "\n",
    "### Step 1: Request Developer Access \n",
    "\n",
    "* Create an app and request Oauth Consumer token on Instapaper's Developer API: https://www.instapaper.com/main/request_oauth_consumer_token. \n",
    "* NOTE: This may take a day or more depending on human review. \n",
    "\n",
    "### Step 2: Add Credentials to credentials.json\n",
    "\n",
    "* Clone sample-credentials.json and save as credentials.json\n",
    "* Copy your Consumer ID and Consumer Secret to credentials.json\n",
    "* Copy your login and password to credentials.json."
   ]
  },
  {
   "cell_type": "code",
   "execution_count": 2,
   "metadata": {},
   "outputs": [],
   "source": [
    "# get stored credentials\n",
    "import json\n",
    "\n",
    "with open(\"credentials.json\", \"r\") as file:\n",
    "   credentials = json.load(file)\n",
    "   instapaper_cr = credentials['instapaper']\n",
    "   CONSUMERID = instapaper_cr['CONSUMERID'] # step 1 your consumer key\n",
    "   CONSUMERSECRET = instapaper_cr['CONSUMERSECRET'] # step 1 your consumer key\n",
    "   INSTAPAPER_LOGIN = instapaper_cr['LOGIN']\n",
    "   INSTAPAPER_PASSWORD = instapaper_cr['PASSWORD']"
   ]
  },
  {
   "cell_type": "code",
   "execution_count": 3,
   "metadata": {},
   "outputs": [],
   "source": [
    "# api login \n",
    "instapaper = Instapaper(CONSUMERID, CONSUMERSECRET)\n",
    "instapaper.login(INSTAPAPER_LOGIN, INSTAPAPER_PASSWORD)"
   ]
  },
  {
   "cell_type": "markdown",
   "metadata": {},
   "source": [
    "-----"
   ]
  },
  {
   "cell_type": "markdown",
   "metadata": {},
   "source": [
    "## Get Unread Articles "
   ]
  },
  {
   "cell_type": "code",
   "execution_count": 4,
   "metadata": {},
   "outputs": [
    {
     "name": "stdout",
     "output_type": "stream",
     "text": [
      "Getting unread bookmarks from Instapaper\n",
      "219 unread articles in Instapaper\n",
      "Exported to CSV\n"
     ]
    }
   ],
   "source": [
    "# get unread\n",
    "(print(\"Getting unread bookmarks from Instapaper\"))\n",
    "unread = instapaper.get_bookmarks('unread', limit=500)\n",
    "\n",
    "unread_list = []\n",
    "for i in unread:\n",
    "    unread_dict = {\n",
    "        'bookmark_id': i.bookmark_id,\n",
    "        'title': i.title,\n",
    "        'url': i.url,\n",
    "        'progress_timestamp': i.progress_timestamp,\n",
    "        'time': i.time,\n",
    "        'progress': i.progress,\n",
    "        'starred': i.starred,\n",
    "        'type': i.type,\n",
    "        'private_source': i.private_source,\n",
    "        'read_status': 'unread'\n",
    "    }\n",
    "    unread_list.append(unread_dict)\n",
    "\n",
    "# total unread\n",
    "print(\"{} unread articles in Instapaper\".format(len(unread_list)))\n",
    "\n",
    "# create df and export \n",
    "unread_df = pd.DataFrame(unread_list)\n",
    "unread_df.to_csv(\"data/instapaper_unread.csv\", index=False)\n",
    "print(\"Exported to CSV\")"
   ]
  },
  {
   "cell_type": "markdown",
   "metadata": {},
   "source": [
    "-----"
   ]
  },
  {
   "cell_type": "markdown",
   "metadata": {},
   "source": [
    "## Get Read Articles "
   ]
  },
  {
   "cell_type": "code",
   "execution_count": 5,
   "metadata": {},
   "outputs": [
    {
     "name": "stdout",
     "output_type": "stream",
     "text": [
      "Getting read bookmarks from Instapaper\n",
      "Exported 500 read articles from Instapaper\n"
     ]
    }
   ],
   "source": [
    "# get read\n",
    "(print(\"Getting read bookmarks from Instapaper\"))\n",
    "read = instapaper.get_bookmarks('archive', limit=500)\n",
    "\n",
    "read_list = []\n",
    "for i in read:\n",
    "    read_dict = {\n",
    "        'bookmark_id': i.bookmark_id,\n",
    "        'title': i.title,\n",
    "        'url': i.url,\n",
    "        'progress_timestamp': i.progress_timestamp,\n",
    "        'time': i.time,\n",
    "        'progress': i.progress,\n",
    "        'starred': i.starred,\n",
    "        'type': i.type, \n",
    "        'private_source': i.private_source,\n",
    "        'read_status': 'read'\n",
    "    }\n",
    "    read_list.append(read_dict)\n",
    "\n",
    "# create df and export \n",
    "read_df = pd.DataFrame(read_list)\n",
    "read_df.to_csv(\"data/instapaper_read.csv\", index=False)\n",
    "print(\"Exported {} read articles from Instapaper\".format(len(read_list)))"
   ]
  },
  {
   "cell_type": "markdown",
   "metadata": {},
   "source": [
    "------"
   ]
  },
  {
   "cell_type": "markdown",
   "metadata": {},
   "source": [
    "## Get Highlights"
   ]
  },
  {
   "cell_type": "code",
   "execution_count": 6,
   "metadata": {},
   "outputs": [
    {
     "name": "stdout",
     "output_type": "stream",
     "text": [
      "Checking for Highlights from each bookmark...\n",
      "This might take some time.\n",
      "Exported 285 Highlights from Instapaper\n"
     ]
    }
   ],
   "source": [
    "# NOTE: Unfortunately there is no direct method to get just the highlights \n",
    "# So we are looping through each archived bookmark item and running get_highlights()\n",
    "\n",
    "print(\"Checking for Highlights from each bookmark...\")\n",
    "print(\"This might take some time.\")\n",
    "\n",
    "highlights_list = []\n",
    "\n",
    "for bm in read:\n",
    "    highlights = bm.get_highlights()\n",
    "    for i in highlights:\n",
    "        highlight_dict = {\n",
    "            'highlight_id': i.highlight_id,\n",
    "            'text': i.text,\n",
    "            'note': i.note,\n",
    "            'time': i.time,\n",
    "            'position': i.position,\n",
    "            'bookmark_id': i.bookmark_id,\n",
    "            'type': i.type,\n",
    "            'slug': i.slug,\n",
    "        }\n",
    "        highlights_list.append(highlight_dict)\n",
    "\n",
    "higlights_df = pd.DataFrame(highlights_list)\n",
    "higlights_df.to_csv(\"data/instapaper_highlights.csv\", index=False)\n",
    "print(\"Exported {} Highlights from Instapaper\".format(len(higlights_df)))"
   ]
  },
  {
   "cell_type": "code",
   "execution_count": null,
   "metadata": {},
   "outputs": [],
   "source": []
  }
 ],
 "metadata": {
  "kernelspec": {
   "display_name": "Python 3",
   "language": "python",
   "name": "python3"
  },
  "language_info": {
   "codemirror_mode": {
    "name": "ipython",
    "version": 3
   },
   "file_extension": ".py",
   "mimetype": "text/x-python",
   "name": "python",
   "nbconvert_exporter": "python",
   "pygments_lexer": "ipython3",
   "version": "3.6.2"
  }
 },
 "nbformat": 4,
 "nbformat_minor": 2
}
