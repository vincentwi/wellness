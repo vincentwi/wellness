{
 "cells": [
  {
   "cell_type": "markdown",
   "metadata": {},
   "source": [
    "# Strava Activities Downloader"
   ]
  },
  {
   "cell_type": "markdown",
   "metadata": {},
   "source": [
    "Download all of your Strava Activites and Export to CSV\n",
    "\n",
    "SEE: [strava_data_analysis.ipynb](https://github.com/markwk/qs_ledger/blob/master/strava/strava_data_analysis.ipynb) for Strava Data Analysis and Data Visualization of Running, Cycling and Other Activities"
   ]
  },
  {
   "cell_type": "markdown",
   "metadata": {},
   "source": [
    "-----"
   ]
  },
  {
   "cell_type": "markdown",
   "metadata": {},
   "source": [
    "## References: \n",
    "\n",
    "* https://developers.strava.com/docs/\n",
    "* Alternative Library: https://github.com/hozn/stravalib/"
   ]
  },
  {
   "cell_type": "markdown",
   "metadata": {},
   "source": [
    "------"
   ]
  },
  {
   "cell_type": "markdown",
   "metadata": {},
   "source": [
    "## Dependencies and Libraries"
   ]
  },
  {
   "cell_type": "code",
   "execution_count": 1,
   "metadata": {
    "collapsed": true
   },
   "outputs": [],
   "source": [
    "import requests\n",
    "import time\n",
    "import datetime\n",
    "from datetime import date\n",
    "import collections\n",
    "import json"
   ]
  },
  {
   "cell_type": "code",
   "execution_count": 2,
   "metadata": {
    "collapsed": true
   },
   "outputs": [],
   "source": [
    "import numpy as np, string, re, pytz\n",
    "import pandas as pd\n",
    "\n",
    "import matplotlib.pyplot as plt\n",
    "from datetime import datetime\n",
    "%matplotlib inline"
   ]
  },
  {
   "cell_type": "markdown",
   "metadata": {},
   "source": [
    "------"
   ]
  },
  {
   "cell_type": "markdown",
   "metadata": {},
   "source": [
    "## Authorization / Credentials"
   ]
  },
  {
   "cell_type": "code",
   "execution_count": 3,
   "metadata": {
    "collapsed": true
   },
   "outputs": [],
   "source": [
    "import json\n",
    "\n",
    "with open(\"credentials.json\", \"r\") as file:\n",
    "    credentials = json.load(file)\n",
    "    strava_cr = credentials['strava']\n",
    "    ACCESS_TOKEN = strava_cr['ACCESS_TOKEN']"
   ]
  },
  {
   "cell_type": "markdown",
   "metadata": {},
   "source": [
    "-----"
   ]
  },
  {
   "cell_type": "markdown",
   "metadata": {},
   "source": [
    "# Athlete Info\n",
    "\n",
    "SEE: https://developers.strava.com/docs/reference/#api-Athletes"
   ]
  },
  {
   "cell_type": "code",
   "execution_count": 4,
   "metadata": {
    "collapsed": true
   },
   "outputs": [],
   "source": [
    "def get_strava_athlete():\n",
    "    url = 'https://www.strava.com/api/v3/athlete/'\n",
    "    header = {'Authorization': 'Bearer '+ACCESS_TOKEN}\n",
    "    param = {'per_page':200, 'page':1}\n",
    "    dataset = requests.get(url, headers=header, params=param).json()\n",
    "    return dataset"
   ]
  },
  {
   "cell_type": "code",
   "execution_count": 5,
   "metadata": {
    "collapsed": true
   },
   "outputs": [],
   "source": [
    "athlete = get_strava_athlete()"
   ]
  },
  {
   "cell_type": "code",
   "execution_count": 6,
   "metadata": {},
   "outputs": [
    {
     "name": "stdout",
     "output_type": "stream",
     "text": [
      "Hi, Mark (ID: 13740897)\n"
     ]
    }
   ],
   "source": [
    "firstname = athlete.get('firstname')\n",
    "athlete_id = athlete.get('id')\n",
    "print(f\"Hi, {firstname} (ID: {athlete_id})\")"
   ]
  },
  {
   "cell_type": "markdown",
   "metadata": {},
   "source": [
    "----"
   ]
  },
  {
   "cell_type": "markdown",
   "metadata": {},
   "source": [
    "# Athlete Stats\n",
    "\n",
    "SEE: https://developers.strava.com/docs/reference/#api-Athletes-getStats"
   ]
  },
  {
   "cell_type": "code",
   "execution_count": 7,
   "metadata": {
    "collapsed": true
   },
   "outputs": [],
   "source": [
    "def get_strava_athlete_stats(athlete_id):\n",
    "    url = 'https://www.strava.com/api/v3/athletes/' + str(athlete_id) + '/stats/'\n",
    "    header = {'Authorization': 'Bearer '+ACCESS_TOKEN}\n",
    "    param = {'per_page':200, 'page':1}\n",
    "    dataset = requests.get(url, headers=header, params=param).json()\n",
    "    return dataset"
   ]
  },
  {
   "cell_type": "code",
   "execution_count": 8,
   "metadata": {
    "collapsed": true
   },
   "outputs": [],
   "source": [
    "athlete_stats_dict = get_strava_athlete_stats(athlete_id)"
   ]
  },
  {
   "cell_type": "code",
   "execution_count": 9,
   "metadata": {},
   "outputs": [],
   "source": [
    "# print(athlete_stats_dict)"
   ]
  },
  {
   "cell_type": "markdown",
   "metadata": {},
   "source": [
    "----"
   ]
  },
  {
   "cell_type": "markdown",
   "metadata": {},
   "source": [
    "# Get Basic Activities from Strava\n",
    "\n",
    "Get Basic Activites Summaries from Strava and Export to CSV. \n",
    "\n",
    "SEE: https://developers.strava.com/docs/reference/#api-Activities"
   ]
  },
  {
   "cell_type": "code",
   "execution_count": 10,
   "metadata": {
    "collapsed": true
   },
   "outputs": [],
   "source": [
    "def convert_timestamp(i):\n",
    "    return datetime.strptime(i, \"%Y-%m-%dT%H:%M:%SZ\")\n",
    "\n",
    "def event_timestamp(i):\n",
    "    return convert_timestamp(i['start_date_local'])"
   ]
  },
  {
   "cell_type": "code",
   "execution_count": 11,
   "metadata": {
    "collapsed": true
   },
   "outputs": [],
   "source": [
    "def get_strava_activites():\n",
    "    url = 'https://www.strava.com/api/v3/athlete/activities'\n",
    "    header = {'Authorization': 'Bearer '+ACCESS_TOKEN}\n",
    "    param = {'per_page':200, 'page':1}\n",
    "    dataset = requests.get(url, headers=header, params=param).json()\n",
    "    count = len(dataset)\n",
    "    if count == 200: #if 200 results come back\n",
    "        loop_count = 1 #we've already done one loop\n",
    "        while count == 200: #while it keeps returning 200 results\n",
    "            loop_count = loop_count + 1 #increase loop_count or page number\n",
    "            param = {'per_page':200, 'page':loop_count} #reset params\n",
    "            sub_dataset = requests.get(url, headers=header, params=param).json() #pull new data with sub_dataset name\n",
    "            dataset = dataset + sub_dataset #combine (Json files, not dictionaries thank jesus)\n",
    "            count = len(sub_dataset) #count results to see if we need to loop again\n",
    "    # return {event_timestamp(i): clean_event(i) for i in dataset if wanted_event(i)} #return as normal\n",
    "    return {event_timestamp(i): i for i in dataset}"
   ]
  },
  {
   "cell_type": "code",
   "execution_count": 12,
   "metadata": {},
   "outputs": [
    {
     "name": "stdout",
     "output_type": "stream",
     "text": [
      "Extracted 833 activities from Strava.\n"
     ]
    }
   ],
   "source": [
    "# Get Activties Data from Strava\n",
    "strava_dict = get_strava_activites()\n",
    "print(f\"Extracted {len(strava_dict)} activities from Strava.\")"
   ]
  },
  {
   "cell_type": "code",
   "execution_count": 13,
   "metadata": {
    "collapsed": true
   },
   "outputs": [],
   "source": [
    "# Create DF and Export to CSV\n",
    "strava_activities = pd.DataFrame.from_dict(strava_dict, orient='index')"
   ]
  },
  {
   "cell_type": "code",
   "execution_count": 14,
   "metadata": {},
   "outputs": [],
   "source": [
    "strava_activities.to_csv('data/strava-activities-raw.csv')"
   ]
  },
  {
   "cell_type": "code",
   "execution_count": 17,
   "metadata": {},
   "outputs": [
    {
     "data": {
      "text/html": [
       "<div>\n",
       "<style scoped>\n",
       "    .dataframe tbody tr th:only-of-type {\n",
       "        vertical-align: middle;\n",
       "    }\n",
       "\n",
       "    .dataframe tbody tr th {\n",
       "        vertical-align: top;\n",
       "    }\n",
       "\n",
       "    .dataframe thead th {\n",
       "        text-align: right;\n",
       "    }\n",
       "</style>\n",
       "<table border=\"1\" class=\"dataframe\">\n",
       "  <thead>\n",
       "    <tr style=\"text-align: right;\">\n",
       "      <th></th>\n",
       "      <th>resource_state</th>\n",
       "      <th>athlete</th>\n",
       "      <th>name</th>\n",
       "      <th>distance</th>\n",
       "      <th>moving_time</th>\n",
       "      <th>elapsed_time</th>\n",
       "      <th>total_elevation_gain</th>\n",
       "      <th>type</th>\n",
       "      <th>workout_type</th>\n",
       "      <th>id</th>\n",
       "      <th>...</th>\n",
       "      <th>display_hide_heartrate_option</th>\n",
       "      <th>elev_high</th>\n",
       "      <th>elev_low</th>\n",
       "      <th>pr_count</th>\n",
       "      <th>total_photo_count</th>\n",
       "      <th>has_kudoed</th>\n",
       "      <th>average_watts</th>\n",
       "      <th>kilojoules</th>\n",
       "      <th>device_watts</th>\n",
       "      <th>average_cadence</th>\n",
       "    </tr>\n",
       "  </thead>\n",
       "  <tbody>\n",
       "    <tr>\n",
       "      <th>2018-12-28 14:51:33</th>\n",
       "      <td>2</td>\n",
       "      <td>{'id': 13740897, 'resource_state': 1}</td>\n",
       "      <td>Afternoon Run</td>\n",
       "      <td>4245.7</td>\n",
       "      <td>1807</td>\n",
       "      <td>1807</td>\n",
       "      <td>0.0</td>\n",
       "      <td>Run</td>\n",
       "      <td>0.0</td>\n",
       "      <td>2039524530</td>\n",
       "      <td>...</td>\n",
       "      <td>False</td>\n",
       "      <td>NaN</td>\n",
       "      <td>NaN</td>\n",
       "      <td>0</td>\n",
       "      <td>0</td>\n",
       "      <td>False</td>\n",
       "      <td>NaN</td>\n",
       "      <td>NaN</td>\n",
       "      <td>NaN</td>\n",
       "      <td>NaN</td>\n",
       "    </tr>\n",
       "    <tr>\n",
       "      <th>2018-12-28 15:31:32</th>\n",
       "      <td>2</td>\n",
       "      <td>{'id': 13740897, 'resource_state': 1}</td>\n",
       "      <td>Fitbod - Quadriceps, Hamstrings, Shoulders, Ab...</td>\n",
       "      <td>0.0</td>\n",
       "      <td>1222</td>\n",
       "      <td>1222</td>\n",
       "      <td>0.0</td>\n",
       "      <td>WeightTraining</td>\n",
       "      <td>NaN</td>\n",
       "      <td>2039545103</td>\n",
       "      <td>...</td>\n",
       "      <td>False</td>\n",
       "      <td>NaN</td>\n",
       "      <td>NaN</td>\n",
       "      <td>0</td>\n",
       "      <td>1</td>\n",
       "      <td>False</td>\n",
       "      <td>NaN</td>\n",
       "      <td>NaN</td>\n",
       "      <td>NaN</td>\n",
       "      <td>NaN</td>\n",
       "    </tr>\n",
       "    <tr>\n",
       "      <th>2018-12-29 17:21:41</th>\n",
       "      <td>2</td>\n",
       "      <td>{'id': 13740897, 'resource_state': 1}</td>\n",
       "      <td>Afternoon Run</td>\n",
       "      <td>5018.0</td>\n",
       "      <td>1886</td>\n",
       "      <td>1973</td>\n",
       "      <td>49.9</td>\n",
       "      <td>Run</td>\n",
       "      <td>0.0</td>\n",
       "      <td>2041694063</td>\n",
       "      <td>...</td>\n",
       "      <td>False</td>\n",
       "      <td>36.9</td>\n",
       "      <td>12.8</td>\n",
       "      <td>0</td>\n",
       "      <td>0</td>\n",
       "      <td>False</td>\n",
       "      <td>NaN</td>\n",
       "      <td>NaN</td>\n",
       "      <td>NaN</td>\n",
       "      <td>NaN</td>\n",
       "    </tr>\n",
       "    <tr>\n",
       "      <th>2018-12-31 17:37:04</th>\n",
       "      <td>2</td>\n",
       "      <td>{'id': 13740897, 'resource_state': 1}</td>\n",
       "      <td>Afternoon Run</td>\n",
       "      <td>4014.0</td>\n",
       "      <td>1413</td>\n",
       "      <td>1424</td>\n",
       "      <td>26.5</td>\n",
       "      <td>Run</td>\n",
       "      <td>0.0</td>\n",
       "      <td>2046222812</td>\n",
       "      <td>...</td>\n",
       "      <td>False</td>\n",
       "      <td>20.6</td>\n",
       "      <td>2.7</td>\n",
       "      <td>0</td>\n",
       "      <td>0</td>\n",
       "      <td>False</td>\n",
       "      <td>NaN</td>\n",
       "      <td>NaN</td>\n",
       "      <td>NaN</td>\n",
       "      <td>NaN</td>\n",
       "    </tr>\n",
       "    <tr>\n",
       "      <th>2018-12-31 18:26:27</th>\n",
       "      <td>2</td>\n",
       "      <td>{'id': 13740897, 'resource_state': 1}</td>\n",
       "      <td>Evening Run</td>\n",
       "      <td>2282.4</td>\n",
       "      <td>788</td>\n",
       "      <td>791</td>\n",
       "      <td>19.8</td>\n",
       "      <td>Run</td>\n",
       "      <td>0.0</td>\n",
       "      <td>2046222800</td>\n",
       "      <td>...</td>\n",
       "      <td>False</td>\n",
       "      <td>13.1</td>\n",
       "      <td>3.8</td>\n",
       "      <td>0</td>\n",
       "      <td>0</td>\n",
       "      <td>False</td>\n",
       "      <td>NaN</td>\n",
       "      <td>NaN</td>\n",
       "      <td>NaN</td>\n",
       "      <td>NaN</td>\n",
       "    </tr>\n",
       "  </tbody>\n",
       "</table>\n",
       "<p>5 rows × 53 columns</p>\n",
       "</div>"
      ],
      "text/plain": [
       "                     resource_state                                athlete  \\\n",
       "2018-12-28 14:51:33               2  {'id': 13740897, 'resource_state': 1}   \n",
       "2018-12-28 15:31:32               2  {'id': 13740897, 'resource_state': 1}   \n",
       "2018-12-29 17:21:41               2  {'id': 13740897, 'resource_state': 1}   \n",
       "2018-12-31 17:37:04               2  {'id': 13740897, 'resource_state': 1}   \n",
       "2018-12-31 18:26:27               2  {'id': 13740897, 'resource_state': 1}   \n",
       "\n",
       "                                                                  name  \\\n",
       "2018-12-28 14:51:33                                      Afternoon Run   \n",
       "2018-12-28 15:31:32  Fitbod - Quadriceps, Hamstrings, Shoulders, Ab...   \n",
       "2018-12-29 17:21:41                                      Afternoon Run   \n",
       "2018-12-31 17:37:04                                      Afternoon Run   \n",
       "2018-12-31 18:26:27                                        Evening Run   \n",
       "\n",
       "                     distance  moving_time  elapsed_time  \\\n",
       "2018-12-28 14:51:33    4245.7         1807          1807   \n",
       "2018-12-28 15:31:32       0.0         1222          1222   \n",
       "2018-12-29 17:21:41    5018.0         1886          1973   \n",
       "2018-12-31 17:37:04    4014.0         1413          1424   \n",
       "2018-12-31 18:26:27    2282.4          788           791   \n",
       "\n",
       "                     total_elevation_gain            type  workout_type  \\\n",
       "2018-12-28 14:51:33                   0.0             Run           0.0   \n",
       "2018-12-28 15:31:32                   0.0  WeightTraining           NaN   \n",
       "2018-12-29 17:21:41                  49.9             Run           0.0   \n",
       "2018-12-31 17:37:04                  26.5             Run           0.0   \n",
       "2018-12-31 18:26:27                  19.8             Run           0.0   \n",
       "\n",
       "                             id       ...       display_hide_heartrate_option  \\\n",
       "2018-12-28 14:51:33  2039524530       ...                               False   \n",
       "2018-12-28 15:31:32  2039545103       ...                               False   \n",
       "2018-12-29 17:21:41  2041694063       ...                               False   \n",
       "2018-12-31 17:37:04  2046222812       ...                               False   \n",
       "2018-12-31 18:26:27  2046222800       ...                               False   \n",
       "\n",
       "                     elev_high elev_low pr_count total_photo_count  \\\n",
       "2018-12-28 14:51:33        NaN      NaN        0                 0   \n",
       "2018-12-28 15:31:32        NaN      NaN        0                 1   \n",
       "2018-12-29 17:21:41       36.9     12.8        0                 0   \n",
       "2018-12-31 17:37:04       20.6      2.7        0                 0   \n",
       "2018-12-31 18:26:27       13.1      3.8        0                 0   \n",
       "\n",
       "                     has_kudoed average_watts kilojoules device_watts  \\\n",
       "2018-12-28 14:51:33       False           NaN        NaN          NaN   \n",
       "2018-12-28 15:31:32       False           NaN        NaN          NaN   \n",
       "2018-12-29 17:21:41       False           NaN        NaN          NaN   \n",
       "2018-12-31 17:37:04       False           NaN        NaN          NaN   \n",
       "2018-12-31 18:26:27       False           NaN        NaN          NaN   \n",
       "\n",
       "                    average_cadence  \n",
       "2018-12-28 14:51:33             NaN  \n",
       "2018-12-28 15:31:32             NaN  \n",
       "2018-12-29 17:21:41             NaN  \n",
       "2018-12-31 17:37:04             NaN  \n",
       "2018-12-31 18:26:27             NaN  \n",
       "\n",
       "[5 rows x 53 columns]"
      ]
     },
     "execution_count": 17,
     "metadata": {},
     "output_type": "execute_result"
    }
   ],
   "source": [
    "strava_activities.tail()"
   ]
  },
  {
   "cell_type": "markdown",
   "metadata": {},
   "source": [
    "-----"
   ]
  },
  {
   "cell_type": "markdown",
   "metadata": {},
   "source": [
    "# Get Detailed Activity from Strava\n",
    "\n",
    "SEE: https://developers.strava.com/docs/reference/#api-Activities-getActivityById"
   ]
  },
  {
   "cell_type": "code",
   "execution_count": 18,
   "metadata": {
    "collapsed": true
   },
   "outputs": [],
   "source": [
    "test_activity_id = strava_activities.tail(1).iloc[0]['id']"
   ]
  },
  {
   "cell_type": "code",
   "execution_count": 19,
   "metadata": {
    "collapsed": true
   },
   "outputs": [],
   "source": [
    "def get_strava_activity(id):\n",
    "    url = 'https://www.strava.com/api/v3/activities/' + str(id)\n",
    "    header = {'Authorization': 'Bearer '+ACCESS_TOKEN}\n",
    "    param = {'per_page':200, 'page':1}\n",
    "    dataset = requests.get(url, headers=header, params=param).json()\n",
    "    return dataset"
   ]
  },
  {
   "cell_type": "code",
   "execution_count": 22,
   "metadata": {
    "collapsed": true
   },
   "outputs": [],
   "source": [
    "activity = get_strava_activity(1970837949)\n",
    "# activity"
   ]
  },
  {
   "cell_type": "code",
   "execution_count": 24,
   "metadata": {},
   "outputs": [],
   "source": [
    "# activity"
   ]
  },
  {
   "cell_type": "code",
   "execution_count": null,
   "metadata": {},
   "outputs": [],
   "source": []
  }
 ],
 "metadata": {
  "kernelspec": {
   "display_name": "Python 3",
   "language": "python",
   "name": "python3"
  },
  "language_info": {
   "codemirror_mode": {
    "name": "ipython",
    "version": 3
   },
   "file_extension": ".py",
   "mimetype": "text/x-python",
   "name": "python",
   "nbconvert_exporter": "python",
   "pygments_lexer": "ipython3",
   "version": "3.6.2"
  }
 },
 "nbformat": 4,
 "nbformat_minor": 2
}
