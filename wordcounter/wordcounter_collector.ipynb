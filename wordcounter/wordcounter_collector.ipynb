{
 "cells": [
  {
   "cell_type": "markdown",
   "metadata": {},
   "source": [
    "# Word Counter Data Collector and Parser`"
   ]
  },
  {
   "cell_type": "markdown",
   "metadata": {},
   "source": [
    "**Extract all of your raw writing stats from WordCounter, broken down by date, app, hour and word count**. \n",
    "\n",
    "For some basic data analysis and data visualization, see: [wordcounter_data_analysis.ipynb](https://github.com/markwk/qs_ledger/tree/master/wordcounter/WordCounter_data_analysis.ipynb)\n",
    "\n",
    "NOTE: In order to use this code you'll need to have installed and been tracking your word count typing with [WordCounter App](https://wordcounterapp.com/) for Mac. \n",
    "\n",
    "For additional Mac integration and reports checkout, [Alfred Integration for Word Counter App](https://github.com/markwk/alfred-workflow-wordcounterapp)"
   ]
  },
  {
   "cell_type": "markdown",
   "metadata": {},
   "source": [
    "------"
   ]
  },
  {
   "cell_type": "markdown",
   "metadata": {},
   "source": [
    "## Collect, Extract and Process Stats"
   ]
  },
  {
   "cell_type": "markdown",
   "metadata": {},
   "source": [
    "### Parse and Extract to Hourly Stats"
   ]
  },
  {
   "cell_type": "code",
   "execution_count": 4,
   "metadata": {},
   "outputs": [],
   "source": [
    "import os\n",
    "import plistlib\n",
    "from datetime import datetime as dt\n",
    "import numpy as np\n",
    "import pandas as pd"
   ]
  },
  {
   "cell_type": "code",
   "execution_count": 5,
   "metadata": {},
   "outputs": [],
   "source": [
    "import warnings\n",
    "warnings.filterwarnings('ignore')"
   ]
  },
  {
   "cell_type": "code",
   "execution_count": 9,
   "metadata": {},
   "outputs": [],
   "source": [
    "# read PLIST for WordCounter Tracking Logs\n",
    "records = os.path.expanduser('~/Library/Application Support/WordCounter/app_records.plist')\n",
    "# data = plistlib.load(records) \n",
    "# Python3 depreciation fix:\n",
    "with open(records, 'rb') as f:\n",
    "    data = plistlib.load(f)"
   ]
  },
  {
   "cell_type": "code",
   "execution_count": 11,
   "metadata": {},
   "outputs": [
    {
     "name": "stdout",
     "output_type": "stream",
     "text": [
      "Extracting and Parsing WordCounter History\n",
      "NOTE: This Process May Take Several Minutes, especially if you have a lot past data\n"
     ]
    }
   ],
   "source": [
    "# Extract Single Row for Each Date, App and Hourly Count\n",
    "print(\"Extracting and Parsing WordCounter History\")\n",
    "print(\"NOTE: This Process May Take Several Minutes, especially if you have a lot past data\")\n",
    "\n",
    "# create blank df\n",
    "df_wordcounter = pd.DataFrame(columns=['date','app','hour','count'])\n",
    "\n",
    "for date in data.keys():\n",
    "        apps = data[date]\n",
    "        for app in apps:\n",
    "            app_name = app['id']\n",
    "            items = app['counts']\n",
    "            hour = 0\n",
    "            for i in items:\n",
    "                df_wordcounter = df_wordcounter.append({\n",
    "                    'date' : date, \n",
    "                    'app' : app_name,\n",
    "                    'hour': hour,\n",
    "                    'count': i\n",
    "                    } , ignore_index=True)\n",
    "                hour = hour + 1"
   ]
  },
  {
   "cell_type": "code",
   "execution_count": 12,
   "metadata": {},
   "outputs": [
    {
     "data": {
      "text/plain": [
       "66000"
      ]
     },
     "execution_count": 12,
     "metadata": {},
     "output_type": "execute_result"
    }
   ],
   "source": [
    "len(df_wordcounter)"
   ]
  },
  {
   "cell_type": "markdown",
   "metadata": {},
   "source": [
    "### Data Processing"
   ]
  },
  {
   "cell_type": "code",
   "execution_count": 13,
   "metadata": {},
   "outputs": [],
   "source": [
    "df_wordcounter['date'] = pd.to_datetime(df_wordcounter['date'])\n",
    "\n",
    "# extract date dimensions\n",
    "df_wordcounter['year'] = df_wordcounter['date'].dt.year\n",
    "get_month = lambda x: '{}-{:02}'.format(x.year, x.month)\n",
    "df_wordcounter['month'] = df_wordcounter['date'].map(get_month)\n",
    "df_wordcounter['dow'] = df_wordcounter['date'].dt.weekday"
   ]
  },
  {
   "cell_type": "markdown",
   "metadata": {},
   "source": [
    "### Export to csv"
   ]
  },
  {
   "cell_type": "code",
   "execution_count": 14,
   "metadata": {},
   "outputs": [],
   "source": [
    "df_wordcounter.to_csv(\"data/wordcounter_hourly.csv\")"
   ]
  },
  {
   "cell_type": "code",
   "execution_count": null,
   "metadata": {},
   "outputs": [],
   "source": []
  }
 ],
 "metadata": {
  "kernelspec": {
   "display_name": "Python 3",
   "language": "python",
   "name": "python3"
  },
  "language_info": {
   "codemirror_mode": {
    "name": "ipython",
    "version": 3
   },
   "file_extension": ".py",
   "mimetype": "text/x-python",
   "name": "python",
   "nbconvert_exporter": "python",
   "pygments_lexer": "ipython3",
   "version": "3.9.0"
  }
 },
 "nbformat": 4,
 "nbformat_minor": 4
}
