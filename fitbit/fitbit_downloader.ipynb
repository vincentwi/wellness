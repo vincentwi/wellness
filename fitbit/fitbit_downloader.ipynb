{
 "cells": [
  {
   "cell_type": "markdown",
   "metadata": {},
   "source": [
    "# Fitbit Downloader"
   ]
  },
  {
   "cell_type": "markdown",
   "metadata": {},
   "source": [
    "### About Fitbit Data Downloader: \n",
    "\n",
    "File file provides a way to download your fitbit data to CSV, including heart rate, sleep, sleeps and weight. Some simple visualizations are used to check numbers. See fitbit data analysis file for more in-depth data visualizations."
   ]
  },
  {
   "cell_type": "markdown",
   "metadata": {},
   "source": [
    "### Setup and Installation Steps\n",
    "\n",
    "Getting the Credentials setup for FitBit integration is a bit annoying, but if you fall these steps, it should work. \n",
    "\n",
    "* Create a developer application at https://dev.fitbit.com/ \n",
    "* Set your callback URL as http://127.0.0.1:8080/\n",
    "* From your Fitbit application, copy your \"OAuth 2.0 Client ID\" and \"Client Secret\" \n",
    "* Install Python Fitbit: `$ pip install fitbit`\n",
    "* Clone or Download https://github.com/orcasgit/python-fitbit\n",
    "* Navigate to python-fitbit directory and install the dependencies with `$ sudo pip install -r requirements/base.txt`\n",
    "* Inside python-fitbit directory run this command `$ python gather_keys_oauth2.py <client-id> <client-secret>`\n",
    "* This should redirect you to fitbit website where you you will signin and authorize your user. \n",
    "* After you will be redirected to your localhost url. Inside the terminal, you will receive a message that includes your token info. Copy all the info. \n",
    "* Copy credentials-sample.json to credentials.json\n",
    "* Inside credentials-sample.json add your info. \n"
   ]
  },
  {
   "cell_type": "markdown",
   "metadata": {},
   "source": [
    "## Acknowledgements and Helpful Resources\n",
    "\n",
    "* [Collect Your Own Fitbit Data with Python](https://towardsdatascience.com/collect-your-own-fitbit-data-with-python-ff145fa10873) and [Code](https://github.com/stephenjhsu/fitbit) by Stephen Hsu"
   ]
  },
  {
   "cell_type": "markdown",
   "metadata": {},
   "source": [
    "### Libraries and Dependencies"
   ]
  },
  {
   "cell_type": "code",
   "execution_count": 1,
   "metadata": {
    "collapsed": true
   },
   "outputs": [],
   "source": [
    "import fitbit\n",
    "# import gather_keys_oauth2 as Oauth2"
   ]
  },
  {
   "cell_type": "code",
   "execution_count": 2,
   "metadata": {
    "collapsed": true
   },
   "outputs": [],
   "source": [
    "import numpy as np\n",
    "import pandas as pd \n",
    "import datetime\n",
    "import dateutil.parser\n",
    "import seaborn\n",
    "import time\n",
    "%matplotlib inline"
   ]
  },
  {
   "cell_type": "markdown",
   "metadata": {},
   "source": [
    "### Credentials and Authentification"
   ]
  },
  {
   "cell_type": "code",
   "execution_count": 3,
   "metadata": {
    "collapsed": true
   },
   "outputs": [],
   "source": [
    "import json\n",
    "\n",
    "with open(\"credentials.json\", \"r\") as file:\n",
    "    credentials = json.load(file)\n",
    "    fitbit_cr = credentials['fitbit']\n",
    "    CLIENT_SECRET = fitbit_cr['CLIENT_SECRET']\n",
    "    CLIENT_ID = fitbit_cr['CLIENT_ID']\n",
    "    USER_ID = fitbit_cr['USER_ID']\n",
    "    ACCESS_TOKEN = fitbit_cr['ACCESS_TOKEN']\n",
    "    REFRESH_TOKEN = fitbit_cr['REFRESH_TOKEN']"
   ]
  },
  {
   "cell_type": "code",
   "execution_count": 4,
   "metadata": {
    "collapsed": true
   },
   "outputs": [],
   "source": [
    "#Authorization info\n",
    "auth2_client = fitbit.Fitbit(USER_ID, CLIENT_SECRET, oauth2=True, access_token=ACCESS_TOKEN, refresh_token=REFRESH_TOKEN)"
   ]
  },
  {
   "cell_type": "markdown",
   "metadata": {},
   "source": [
    "### Current Day Today and Yesterday"
   ]
  },
  {
   "cell_type": "code",
   "execution_count": 5,
   "metadata": {},
   "outputs": [
    {
     "data": {
      "text/plain": [
       "'2019-08-14'"
      ]
     },
     "execution_count": 5,
     "metadata": {},
     "output_type": "execute_result"
    }
   ],
   "source": [
    "# Get Today and Yesterday Dates in FitBit Ready Formats\n",
    "yesterday = str((datetime.datetime.now() - datetime.timedelta(days=1)).strftime(\"%Y%m%d\"))\n",
    "yesterday = str((datetime.datetime.now() - datetime.timedelta(days=1)).strftime(\"%Y-%m-%d\"))\n",
    "today = str(datetime.datetime.now().strftime(\"%Y-%m-%d\"))\n",
    "today"
   ]
  },
  {
   "cell_type": "markdown",
   "metadata": {},
   "source": [
    "### Customizable Date Range "
   ]
  },
  {
   "cell_type": "code",
   "execution_count": 6,
   "metadata": {
    "collapsed": true
   },
   "outputs": [],
   "source": [
    "# list of dates to check\n",
    "dates_list = []\n",
    "date1 = '2019-07-01' # Got Fitbit Device 2018-04-17 or since last data update\n",
    "date2 = today\n",
    "start = datetime.datetime.strptime(date1, '%Y-%m-%d')\n",
    "end = datetime.datetime.strptime(date2, '%Y-%m-%d')\n",
    "step = datetime.timedelta(days=1)\n",
    "\n",
    "while start <= end:\n",
    "    dates_list.append(start.date().strftime(\"%Y-%m-%d\"))\n",
    "    start += step"
   ]
  },
  {
   "cell_type": "markdown",
   "metadata": {},
   "source": [
    "# Download Daily Steps Data"
   ]
  },
  {
   "cell_type": "code",
   "execution_count": 7,
   "metadata": {},
   "outputs": [],
   "source": [
    "# Get Steps Data in JSON from Last Year\n",
    "steps_ts = auth2_client.time_series('activities/steps', period='1y')\n",
    "\n",
    "# base-date: The range start date, in the format yyyy-MM-dd or today.\n",
    "# end-date: The end date of the range.\n",
    "# date: The end date of the period specified in the format yyyy-MM-dd or today.\n",
    "# period: The range for which data will be returned. Options are 1d, 7d, 30d, 1w, 1m, 3m, 6m, 1y"
   ]
  },
  {
   "cell_type": "code",
   "execution_count": 8,
   "metadata": {},
   "outputs": [
    {
     "data": {
      "text/plain": [
       "{'dateTime': '2019-08-12', 'value': '7701'}"
      ]
     },
     "execution_count": 8,
     "metadata": {},
     "output_type": "execute_result"
    }
   ],
   "source": [
    "steps_ts['activities-steps'][-2]"
   ]
  },
  {
   "cell_type": "code",
   "execution_count": 9,
   "metadata": {},
   "outputs": [
    {
     "data": {
      "text/plain": [
       "(datetime.datetime(2019, 8, 12, 0, 0), 7701)"
      ]
     },
     "execution_count": 9,
     "metadata": {},
     "output_type": "execute_result"
    }
   ],
   "source": [
    "date_steps_list = [(dateutil.parser.parse(date_steps_dict['dateTime']), int(date_steps_dict['value']))\n",
    "              for date_steps_dict in steps_ts['activities-steps']]\n",
    "date_steps_list[-2]"
   ]
  },
  {
   "cell_type": "code",
   "execution_count": 10,
   "metadata": {},
   "outputs": [
    {
     "data": {
      "text/plain": [
       "365"
      ]
     },
     "execution_count": 10,
     "metadata": {},
     "output_type": "execute_result"
    }
   ],
   "source": [
    "len(date_steps_list) # 365 days"
   ]
  },
  {
   "cell_type": "code",
   "execution_count": 11,
   "metadata": {
    "collapsed": true
   },
   "outputs": [],
   "source": [
    "# convert to data frame\n",
    "date_steps = pd.DataFrame(date_steps_list, columns=('Date', 'Steps'))"
   ]
  },
  {
   "cell_type": "code",
   "execution_count": 12,
   "metadata": {},
   "outputs": [
    {
     "data": {
      "text/html": [
       "<div>\n",
       "<style scoped>\n",
       "    .dataframe tbody tr th:only-of-type {\n",
       "        vertical-align: middle;\n",
       "    }\n",
       "\n",
       "    .dataframe tbody tr th {\n",
       "        vertical-align: top;\n",
       "    }\n",
       "\n",
       "    .dataframe thead th {\n",
       "        text-align: right;\n",
       "    }\n",
       "</style>\n",
       "<table border=\"1\" class=\"dataframe\">\n",
       "  <thead>\n",
       "    <tr style=\"text-align: right;\">\n",
       "      <th></th>\n",
       "      <th>Date</th>\n",
       "      <th>Steps</th>\n",
       "    </tr>\n",
       "  </thead>\n",
       "  <tbody>\n",
       "    <tr>\n",
       "      <th>360</th>\n",
       "      <td>2019-08-09</td>\n",
       "      <td>3706</td>\n",
       "    </tr>\n",
       "    <tr>\n",
       "      <th>361</th>\n",
       "      <td>2019-08-10</td>\n",
       "      <td>5962</td>\n",
       "    </tr>\n",
       "    <tr>\n",
       "      <th>362</th>\n",
       "      <td>2019-08-11</td>\n",
       "      <td>3091</td>\n",
       "    </tr>\n",
       "    <tr>\n",
       "      <th>363</th>\n",
       "      <td>2019-08-12</td>\n",
       "      <td>7701</td>\n",
       "    </tr>\n",
       "    <tr>\n",
       "      <th>364</th>\n",
       "      <td>2019-08-13</td>\n",
       "      <td>3260</td>\n",
       "    </tr>\n",
       "  </tbody>\n",
       "</table>\n",
       "</div>"
      ],
      "text/plain": [
       "          Date  Steps\n",
       "360 2019-08-09   3706\n",
       "361 2019-08-10   5962\n",
       "362 2019-08-11   3091\n",
       "363 2019-08-12   7701\n",
       "364 2019-08-13   3260"
      ]
     },
     "execution_count": 12,
     "metadata": {},
     "output_type": "execute_result"
    }
   ],
   "source": [
    "date_steps.tail()"
   ]
  },
  {
   "cell_type": "code",
   "execution_count": 13,
   "metadata": {},
   "outputs": [
    {
     "data": {
      "text/plain": [
       "365"
      ]
     },
     "execution_count": 13,
     "metadata": {},
     "output_type": "execute_result"
    }
   ],
   "source": [
    "# days with steps\n",
    "len(date_steps[date_steps.Steps > 0])"
   ]
  },
  {
   "cell_type": "code",
   "execution_count": 14,
   "metadata": {},
   "outputs": [
    {
     "data": {
      "text/plain": [
       "<matplotlib.axes._subplots.AxesSubplot at 0x125583400>"
      ]
     },
     "execution_count": 14,
     "metadata": {},
     "output_type": "execute_result"
    },
    {
     "data": {
      "image/png": "[encoded data removed]",
      "text/plain": [
       "<Figure size 432x288 with 1 Axes>"
      ]
     },
     "metadata": {
      "needs_background": "light"
     },
     "output_type": "display_data"
    }
   ],
   "source": [
    "# Days with Steps Visualization\n",
    "date_steps.plot(x='Date', y='Steps')"
   ]
  },
  {
   "cell_type": "code",
   "execution_count": 15,
   "metadata": {
    "collapsed": true
   },
   "outputs": [],
   "source": [
    "# save to csv\n",
    "date_steps.to_csv('data/daily_steps.csv', index=None, encoding='utf-8')"
   ]
  },
  {
   "cell_type": "markdown",
   "metadata": {},
   "source": [
    "# Download Additional Activity Data"
   ]
  },
  {
   "cell_type": "markdown",
   "metadata": {},
   "source": [
    "### All Options\n",
    "\n",
    "SEE: https://dev.fitbit.com/build/reference/web-api/activity/#activity-time-series\n",
    "\n",
    "- activities/calories\n",
    "- activities/caloriesBMR\n",
    "- activities/steps\n",
    "- activities/distance\n",
    "- activities/floors\n",
    "- activities/elevation\n",
    "- activities/minutesSedentary\n",
    "- activities/minutesLightlyActive\n",
    "- activities/minutesFairlyActive\n",
    "- activities/minutesVeryActive\n",
    "- activities/activityCalories"
   ]
  },
  {
   "cell_type": "code",
   "execution_count": 16,
   "metadata": {},
   "outputs": [],
   "source": [
    "# example: minutesSedentary \n",
    "activity_ts = auth2_client.time_series('activities/minutesSedentary', period='1y')\n",
    "date_act_list = [(dateutil.parser.parse(date_act_dict['dateTime']), int(date_act_dict['value']))\n",
    "              for date_act_dict in activity_ts[list(activity_ts.keys())[0]]]\n",
    "minutesSedentary = pd.DataFrame(date_act_list, columns=('Date', 'minutesSedentary'))\n",
    "minutesSedentary.to_csv('data/minutesSedentary.csv', index=None, encoding='utf-8')"
   ]
  },
  {
   "cell_type": "code",
   "execution_count": 17,
   "metadata": {},
   "outputs": [
    {
     "data": {
      "text/plain": [
       "<matplotlib.axes._subplots.AxesSubplot at 0x128760e80>"
      ]
     },
     "execution_count": 17,
     "metadata": {},
     "output_type": "execute_result"
    },
    {
     "data": {
      "image/png": "[encoded data removed]",
      "text/plain": [
       "<Figure size 432x288 with 1 Axes>"
      ]
     },
     "metadata": {
      "needs_background": "light"
     },
     "output_type": "display_data"
    }
   ],
   "source": [
    "minutesSedentary.plot(x='Date', y='minutesSedentary')"
   ]
  },
  {
   "cell_type": "code",
   "execution_count": 18,
   "metadata": {},
   "outputs": [],
   "source": [
    "# example: minutesLightlyActive \n",
    "activity_ts = auth2_client.time_series('activities/minutesLightlyActive', period='1y')\n",
    "date_act_list = [(dateutil.parser.parse(date_act_dict['dateTime']), int(date_act_dict['value']))\n",
    "              for date_act_dict in activity_ts[list(activity_ts.keys())[0]]]\n",
    "minutesLightlyActive = pd.DataFrame(date_act_list, columns=('Date', 'minutesLightlyActive'))\n",
    "minutesLightlyActive.to_csv('data/minutesLightlyActive.csv', index=None, encoding='utf-8')"
   ]
  },
  {
   "cell_type": "code",
   "execution_count": 19,
   "metadata": {},
   "outputs": [
    {
     "data": {
      "text/plain": [
       "<matplotlib.axes._subplots.AxesSubplot at 0x12880c780>"
      ]
     },
     "execution_count": 19,
     "metadata": {},
     "output_type": "execute_result"
    },
    {
     "data": {
      "image/png": "[encoded data removed]",
      "text/plain": [
       "<Figure size 432x288 with 1 Axes>"
      ]
     },
     "metadata": {
      "needs_background": "light"
     },
     "output_type": "display_data"
    }
   ],
   "source": [
    "minutesSedentary.plot(x='Date', y='minutesSedentary')"
   ]
  },
  {
   "cell_type": "code",
   "execution_count": 20,
   "metadata": {},
   "outputs": [],
   "source": [
    "# activities/minutesFairlyActive\n",
    "activity_ts = auth2_client.time_series('activities/minutesFairlyActive', period='1y')\n",
    "date_act_list = [(dateutil.parser.parse(date_act_dict['dateTime']), int(date_act_dict['value']))\n",
    "              for date_act_dict in activity_ts[list(activity_ts.keys())[0]]]\n",
    "minutesFairlyActive = pd.DataFrame(date_act_list, columns=('Date', 'minutesFairlyActive'))\n",
    "minutesFairlyActive.to_csv('data/minutesFairlyActive.csv', index=None, encoding='utf-8')"
   ]
  },
  {
   "cell_type": "code",
   "execution_count": 21,
   "metadata": {},
   "outputs": [],
   "source": [
    "# activities/minutesVeryActive\n",
    "activity_ts = auth2_client.time_series('activities/minutesVeryActive', period='1y')\n",
    "date_act_list = [(dateutil.parser.parse(date_act_dict['dateTime']), int(date_act_dict['value']))\n",
    "              for date_act_dict in activity_ts[list(activity_ts.keys())[0]]]\n",
    "minutesVeryActive = pd.DataFrame(date_act_list, columns=('Date', 'minutesVeryActive'))\n",
    "minutesVeryActive.to_csv('data/minutesVeryActive.csv', index=None, encoding='utf-8')"
   ]
  },
  {
   "cell_type": "markdown",
   "metadata": {},
   "source": [
    "------"
   ]
  },
  {
   "cell_type": "markdown",
   "metadata": {},
   "source": [
    "# Weight "
   ]
  },
  {
   "cell_type": "code",
   "execution_count": 22,
   "metadata": {
    "collapsed": true
   },
   "outputs": [],
   "source": [
    "# TODO: https://dev.fitbit.com/build/reference/web-api/body/"
   ]
  },
  {
   "cell_type": "code",
   "execution_count": 23,
   "metadata": {},
   "outputs": [],
   "source": [
    "# Get Current Body Measurements\n",
    "# body = auth2_client.body()\n",
    "# body"
   ]
  },
  {
   "cell_type": "code",
   "execution_count": 24,
   "metadata": {},
   "outputs": [],
   "source": [
    "# Get Weight Data in JSON from Last Year\n",
    "weight_raw = auth2_client.time_series('body/weight', period='1y')\n",
    "\n",
    "# base-date: The range start date, in the format yyyy-MM-dd or today.\n",
    "# end-date: The end date of the range.\n",
    "# date: The end date of the period specified in the format yyyy-MM-dd or today.\n",
    "# period: The range for which data will be returned. Options are 1d, 7d, 30d, 1w, 1m, 3m, 6m, 1y\n",
    "\n",
    "# weight['body-weight']\n",
    "\n",
    "# convert to list of dict\n",
    "weight_list = [(dateutil.parser.parse(date_weight_dict['dateTime']), float(date_weight_dict['value']))\n",
    "              for date_weight_dict in weight_raw['body-weight']]\n",
    "weight_list[-2]\n",
    "\n",
    "# convert to data frame\n",
    "weight = pd.DataFrame(weight_list, columns=('Date', 'Weight'))\n",
    "\n",
    "#save to csv\n",
    "weight.to_csv(\"data/daily-weight.csv\")"
   ]
  },
  {
   "cell_type": "code",
   "execution_count": 25,
   "metadata": {},
   "outputs": [],
   "source": [
    "# Get BMI Data in JSON from Last Year\n",
    "bmi_raw = auth2_client.time_series('body/bmi', period='1y')\n",
    "\n",
    "# bmi_raw['body-bmi']\n",
    "\n",
    "# convert to list of dict\n",
    "bmi_list = [(dateutil.parser.parse(date_bmi_dict['dateTime']), float(date_bmi_dict['value']))\n",
    "              for date_bmi_dict in bmi_raw['body-bmi']]\n",
    "bmi_list[-2]\n",
    "\n",
    "# convert to data frame\n",
    "bmi = pd.DataFrame(bmi_list, columns=('Date', 'BMI'))\n",
    "\n",
    "#save to csv\n",
    "bmi.to_csv(\"data/daily-bmi.csv\")"
   ]
  },
  {
   "cell_type": "code",
   "execution_count": 26,
   "metadata": {},
   "outputs": [],
   "source": [
    "# Get Fat Data in JSON from Last Year\n",
    "fat_raw = auth2_client.time_series('body/fat', period='1y')\n",
    "\n",
    "fat_raw['body-fat']\n",
    "\n",
    "# convert to list of dict\n",
    "fat_list = [(dateutil.parser.parse(date_fat_dict['dateTime']), float(date_fat_dict['value']))\n",
    "              for date_fat_dict in fat_raw['body-fat']]\n",
    "fat_list[-2]\n",
    "\n",
    "# convert to data frame\n",
    "fat = pd.DataFrame(fat_list, columns=('Date', 'Fat'))\n",
    "\n",
    "#save to csv\n",
    "fat.to_csv(\"data/daily-fat.csv\")"
   ]
  },
  {
   "cell_type": "code",
   "execution_count": 27,
   "metadata": {},
   "outputs": [
    {
     "data": {
      "text/html": [
       "<div>\n",
       "<style scoped>\n",
       "    .dataframe tbody tr th:only-of-type {\n",
       "        vertical-align: middle;\n",
       "    }\n",
       "\n",
       "    .dataframe tbody tr th {\n",
       "        vertical-align: top;\n",
       "    }\n",
       "\n",
       "    .dataframe thead th {\n",
       "        text-align: right;\n",
       "    }\n",
       "</style>\n",
       "<table border=\"1\" class=\"dataframe\">\n",
       "  <thead>\n",
       "    <tr style=\"text-align: right;\">\n",
       "      <th></th>\n",
       "      <th>Date</th>\n",
       "      <th>Weight</th>\n",
       "    </tr>\n",
       "  </thead>\n",
       "  <tbody>\n",
       "    <tr>\n",
       "      <th>355</th>\n",
       "      <td>2019-08-04</td>\n",
       "      <td>168.82</td>\n",
       "    </tr>\n",
       "    <tr>\n",
       "      <th>356</th>\n",
       "      <td>2019-08-05</td>\n",
       "      <td>168.82</td>\n",
       "    </tr>\n",
       "    <tr>\n",
       "      <th>357</th>\n",
       "      <td>2019-08-06</td>\n",
       "      <td>168.82</td>\n",
       "    </tr>\n",
       "    <tr>\n",
       "      <th>358</th>\n",
       "      <td>2019-08-07</td>\n",
       "      <td>168.82</td>\n",
       "    </tr>\n",
       "    <tr>\n",
       "      <th>359</th>\n",
       "      <td>2019-08-08</td>\n",
       "      <td>168.82</td>\n",
       "    </tr>\n",
       "    <tr>\n",
       "      <th>360</th>\n",
       "      <td>2019-08-09</td>\n",
       "      <td>168.82</td>\n",
       "    </tr>\n",
       "    <tr>\n",
       "      <th>361</th>\n",
       "      <td>2019-08-10</td>\n",
       "      <td>168.82</td>\n",
       "    </tr>\n",
       "    <tr>\n",
       "      <th>362</th>\n",
       "      <td>2019-08-11</td>\n",
       "      <td>168.82</td>\n",
       "    </tr>\n",
       "    <tr>\n",
       "      <th>363</th>\n",
       "      <td>2019-08-12</td>\n",
       "      <td>168.82</td>\n",
       "    </tr>\n",
       "    <tr>\n",
       "      <th>364</th>\n",
       "      <td>2019-08-13</td>\n",
       "      <td>168.82</td>\n",
       "    </tr>\n",
       "  </tbody>\n",
       "</table>\n",
       "</div>"
      ],
      "text/plain": [
       "          Date  Weight\n",
       "355 2019-08-04  168.82\n",
       "356 2019-08-05  168.82\n",
       "357 2019-08-06  168.82\n",
       "358 2019-08-07  168.82\n",
       "359 2019-08-08  168.82\n",
       "360 2019-08-09  168.82\n",
       "361 2019-08-10  168.82\n",
       "362 2019-08-11  168.82\n",
       "363 2019-08-12  168.82\n",
       "364 2019-08-13  168.82"
      ]
     },
     "execution_count": 27,
     "metadata": {},
     "output_type": "execute_result"
    }
   ],
   "source": [
    "weight.tail(10)"
   ]
  },
  {
   "cell_type": "markdown",
   "metadata": {},
   "source": [
    "--------"
   ]
  },
  {
   "cell_type": "markdown",
   "metadata": {},
   "source": [
    "# Download Daily Sleep Log in Minutes"
   ]
  },
  {
   "cell_type": "code",
   "execution_count": 28,
   "metadata": {
    "collapsed": true
   },
   "outputs": [],
   "source": [
    "sleep_ts = auth2_client.time_series('sleep/minutesAsleep', period='1y')"
   ]
  },
  {
   "cell_type": "code",
   "execution_count": 29,
   "metadata": {},
   "outputs": [
    {
     "data": {
      "text/plain": [
       "{'dateTime': '2019-08-07', 'value': '348'}"
      ]
     },
     "execution_count": 29,
     "metadata": {},
     "output_type": "execute_result"
    }
   ],
   "source": [
    "sleep_ts['sleep-minutesAsleep'][-7] # check sleep froma  week ago"
   ]
  },
  {
   "cell_type": "code",
   "execution_count": 30,
   "metadata": {
    "collapsed": true
   },
   "outputs": [],
   "source": [
    "date_sleep_list = [(dateutil.parser.parse(date_sleep_dict['dateTime']), int(date_sleep_dict['value']))\n",
    "              for date_sleep_dict in sleep_ts['sleep-minutesAsleep']]\n",
    "date_sleep = pd.DataFrame(date_sleep_list, columns=('Date', 'Sleep'))"
   ]
  },
  {
   "cell_type": "code",
   "execution_count": 31,
   "metadata": {
    "collapsed": true
   },
   "outputs": [],
   "source": [
    "date_sleep['Hours'] = round((date_sleep.Sleep / 60), 2)"
   ]
  },
  {
   "cell_type": "code",
   "execution_count": null,
   "metadata": {},
   "outputs": [],
   "source": [
    "# date_sleep.tail()"
   ]
  },
  {
   "cell_type": "code",
   "execution_count": 33,
   "metadata": {},
   "outputs": [
    {
     "data": {
      "text/plain": [
       "338"
      ]
     },
     "execution_count": 33,
     "metadata": {},
     "output_type": "execute_result"
    }
   ],
   "source": [
    "# days with sleep\n",
    "len(date_sleep[date_sleep.Sleep > 0])"
   ]
  },
  {
   "cell_type": "code",
   "execution_count": 34,
   "metadata": {},
   "outputs": [
    {
     "data": {
      "text/plain": [
       "<matplotlib.axes._subplots.AxesSubplot at 0x10b200048>"
      ]
     },
     "execution_count": 34,
     "metadata": {},
     "output_type": "execute_result"
    },
    {
     "data": {
      "image/png": "[encoded data removed]",
      "text/plain": [
       "<Figure size 432x288 with 1 Axes>"
      ]
     },
     "metadata": {
      "needs_background": "light"
     },
     "output_type": "display_data"
    }
   ],
   "source": [
    "date_sleep[date_sleep.Sleep > 0].plot(x='Date', y='Sleep')"
   ]
  },
  {
   "cell_type": "code",
   "execution_count": 35,
   "metadata": {
    "collapsed": true
   },
   "outputs": [],
   "source": [
    "# save to csv\n",
    "date_sleep.to_csv('data/daily_sleep.csv', index=None, encoding='utf-8')"
   ]
  },
  {
   "cell_type": "markdown",
   "metadata": {},
   "source": [
    "# Download Daily InBed Log in Minutes"
   ]
  },
  {
   "cell_type": "code",
   "execution_count": 36,
   "metadata": {},
   "outputs": [],
   "source": [
    "inbed_ts = auth2_client.time_series('sleep/timeInBed', period='1y')"
   ]
  },
  {
   "cell_type": "code",
   "execution_count": 37,
   "metadata": {},
   "outputs": [],
   "source": [
    "date_inbed_list = [(dateutil.parser.parse(date_sleep_dict['dateTime']), int(date_sleep_dict['value']))\n",
    "              for date_sleep_dict in inbed_ts['sleep-timeInBed']]\n",
    "date_inbed = pd.DataFrame(date_inbed_list, columns=('Date', 'InBed'))"
   ]
  },
  {
   "cell_type": "code",
   "execution_count": 38,
   "metadata": {},
   "outputs": [
    {
     "data": {
      "text/html": [
       "<div>\n",
       "<style scoped>\n",
       "    .dataframe tbody tr th:only-of-type {\n",
       "        vertical-align: middle;\n",
       "    }\n",
       "\n",
       "    .dataframe tbody tr th {\n",
       "        vertical-align: top;\n",
       "    }\n",
       "\n",
       "    .dataframe thead th {\n",
       "        text-align: right;\n",
       "    }\n",
       "</style>\n",
       "<table border=\"1\" class=\"dataframe\">\n",
       "  <thead>\n",
       "    <tr style=\"text-align: right;\">\n",
       "      <th></th>\n",
       "      <th>Date</th>\n",
       "      <th>InBed</th>\n",
       "    </tr>\n",
       "  </thead>\n",
       "  <tbody>\n",
       "    <tr>\n",
       "      <th>360</th>\n",
       "      <td>2019-08-09</td>\n",
       "      <td>375</td>\n",
       "    </tr>\n",
       "    <tr>\n",
       "      <th>361</th>\n",
       "      <td>2019-08-10</td>\n",
       "      <td>475</td>\n",
       "    </tr>\n",
       "    <tr>\n",
       "      <th>362</th>\n",
       "      <td>2019-08-11</td>\n",
       "      <td>567</td>\n",
       "    </tr>\n",
       "    <tr>\n",
       "      <th>363</th>\n",
       "      <td>2019-08-12</td>\n",
       "      <td>472</td>\n",
       "    </tr>\n",
       "    <tr>\n",
       "      <th>364</th>\n",
       "      <td>2019-08-13</td>\n",
       "      <td>600</td>\n",
       "    </tr>\n",
       "  </tbody>\n",
       "</table>\n",
       "</div>"
      ],
      "text/plain": [
       "          Date  InBed\n",
       "360 2019-08-09    375\n",
       "361 2019-08-10    475\n",
       "362 2019-08-11    567\n",
       "363 2019-08-12    472\n",
       "364 2019-08-13    600"
      ]
     },
     "execution_count": 38,
     "metadata": {},
     "output_type": "execute_result"
    }
   ],
   "source": [
    "date_inbed.tail()"
   ]
  },
  {
   "cell_type": "code",
   "execution_count": 39,
   "metadata": {},
   "outputs": [
    {
     "data": {
      "text/plain": [
       "<matplotlib.axes._subplots.AxesSubplot at 0x128bf0b70>"
      ]
     },
     "execution_count": 39,
     "metadata": {},
     "output_type": "execute_result"
    },
    {
     "data": {
      "image/png": "[encoded data removed]",
      "text/plain": [
       "<Figure size 432x288 with 1 Axes>"
      ]
     },
     "metadata": {
      "needs_background": "light"
     },
     "output_type": "display_data"
    }
   ],
   "source": [
    "date_inbed[date_inbed.InBed > 0].plot(x='Date', y='InBed')"
   ]
  },
  {
   "cell_type": "code",
   "execution_count": 40,
   "metadata": {},
   "outputs": [],
   "source": [
    "# save to csv\n",
    "date_inbed.to_csv('data/daily_inbed.csv', index=None, encoding='utf-8')"
   ]
  },
  {
   "cell_type": "markdown",
   "metadata": {},
   "source": [
    "----------"
   ]
  },
  {
   "cell_type": "markdown",
   "metadata": {},
   "source": [
    "# Download Steps Per 15min via Intraday API"
   ]
  },
  {
   "cell_type": "code",
   "execution_count": 41,
   "metadata": {
    "collapsed": true
   },
   "outputs": [],
   "source": [
    "# get all Steps stats for a single date\n",
    "def fitbit_intraday_steps(date):\n",
    "    fitbit_intra_steps = auth2_client.intraday_time_series('activities/steps', base_date=date, detail_level='15min')\n",
    "    time_list = []\n",
    "    val_list = []\n",
    "    for i in fitbit_intra_steps['activities-steps-intraday']['dataset']:\n",
    "        val_list.append(i['value'])\n",
    "        time_list.append(i['time'])\n",
    "    heartdf = pd.DataFrame({'Steps':val_list,'Time':time_list})\n",
    "    # add date column\n",
    "    heartdf['Date'] = date\n",
    "    # create csv\n",
    "    heartdf.to_csv('data/steps/steps'+ \\\n",
    "               date+'.csv', \\\n",
    "               columns=['Date', 'Time','Steps'], header=True, \\\n",
    "               index = False)\n",
    "    print(\"Generated Steps CSV for %s\" % date)"
   ]
  },
  {
   "cell_type": "code",
   "execution_count": 42,
   "metadata": {
    "collapsed": true
   },
   "outputs": [],
   "source": [
    "# get multiple date HR data\n",
    "def fitbit_multidates_steps(datelist):\n",
    "    for i in datelist[:]:\n",
    "        fitbit_intraday_steps(i)\n",
    "        # add a 5 second daily\n",
    "        # time.sleep(5)"
   ]
  },
  {
   "cell_type": "code",
   "execution_count": 43,
   "metadata": {},
   "outputs": [],
   "source": [
    "# fitbit_intraday_steps(today)"
   ]
  },
  {
   "cell_type": "code",
   "execution_count": 44,
   "metadata": {},
   "outputs": [],
   "source": [
    "# fitbit_intraday_steps(yesterday)"
   ]
  },
  {
   "cell_type": "code",
   "execution_count": 45,
   "metadata": {},
   "outputs": [],
   "source": [
    "# fitbit_multidates_steps(dates_list)"
   ]
  },
  {
   "cell_type": "markdown",
   "metadata": {},
   "source": [
    "--------"
   ]
  },
  {
   "cell_type": "markdown",
   "metadata": {},
   "source": [
    "# NEED FIXES: Download Daily Detailed Sleep Log"
   ]
  },
  {
   "cell_type": "code",
   "execution_count": 46,
   "metadata": {
    "collapsed": true
   },
   "outputs": [],
   "source": [
    "# sleep_daily = [auth2_client.sleep(date) for date in dates_list]"
   ]
  },
  {
   "cell_type": "code",
   "execution_count": 47,
   "metadata": {},
   "outputs": [],
   "source": [
    "# check raw log of previous day\n",
    "# sleep_daily[-2]"
   ]
  },
  {
   "cell_type": "code",
   "execution_count": 48,
   "metadata": {
    "collapsed": true
   },
   "outputs": [],
   "source": [
    "# sleep minutes\n",
    "# sleep_minutes = [sleep_entry['summary']['totalMinutesAsleep'] for sleep_entry in sleep_daily]\n",
    "\n",
    "# in-bed minutes\n",
    "# inbed_minutes = [sleep_entry['summary']['totalTimeInBed'] for sleep_entry in sleep_daily]\n",
    "\n",
    "# sleep_minutes[-3]\n",
    "# date_sleep = pd.DataFrame({'Date': dates_list, 'Sleep': sleep_minutes, 'InBed': inbed_minutes})"
   ]
  },
  {
   "cell_type": "code",
   "execution_count": 49,
   "metadata": {
    "collapsed": true
   },
   "outputs": [],
   "source": [
    "# in bed minutes\n",
    "# inbed_minutes = [sleep_entry['summary']['totalTimeInBed'] for sleep_entry in sleep_daily]\n",
    "# inbed_minutes[-3]\n",
    "# date_inbed = pd.DataFrame({'Date': dates_list, 'InBed': inbed_minutes})"
   ]
  },
  {
   "cell_type": "code",
   "execution_count": 50,
   "metadata": {
    "collapsed": true
   },
   "outputs": [],
   "source": [
    "# save to csv\n",
    "# date_inbed.to_csv('data/daily_inbed.csv', index=None, encoding='utf-8')"
   ]
  },
  {
   "cell_type": "code",
   "execution_count": 51,
   "metadata": {},
   "outputs": [],
   "source": [
    "# date_sleep[date_sleep.Sleep > 0].plot(x='Date', y=\"Sleep\")\n",
    "# date_inbed[date_inbed.InBed > 0].plot(x='Date', y=\"InBed\")"
   ]
  },
  {
   "cell_type": "markdown",
   "metadata": {},
   "source": [
    "----------"
   ]
  },
  {
   "cell_type": "markdown",
   "metadata": {},
   "source": [
    "# TODO: Download Daily Resting HR and Other HR Zone Data"
   ]
  },
  {
   "cell_type": "code",
   "execution_count": 52,
   "metadata": {
    "collapsed": true
   },
   "outputs": [],
   "source": [
    "# hr_ts = auth2_client.time_series('activities/heart', period='30d')"
   ]
  },
  {
   "cell_type": "code",
   "execution_count": 53,
   "metadata": {},
   "outputs": [],
   "source": [
    "# hr_ts['activities-heart'][-7] # check  from a week ago"
   ]
  },
  {
   "cell_type": "code",
   "execution_count": 54,
   "metadata": {},
   "outputs": [],
   "source": [
    "# resting hr\n",
    "# hr_ts['activities-heart'][-7]['value']['restingHeartRate'] # check from a week ago"
   ]
  },
  {
   "cell_type": "code",
   "execution_count": 55,
   "metadata": {},
   "outputs": [],
   "source": [
    "# Out of Range data\n",
    "# hr_ts['activities-heart'][-7]['value']['heartRateZones']\\\n",
    "#        ['name' == 'Out of Range'] # check  from a week ago"
   ]
  },
  {
   "cell_type": "code",
   "execution_count": 56,
   "metadata": {},
   "outputs": [],
   "source": [
    "# Out of Range data = Calories Out\n",
    "#hr_ts['activities-heart'][-7]['value']['heartRateZones']\\\n",
    "#        ['name' == 'Out of Range']['caloriesOut'] "
   ]
  },
  {
   "cell_type": "code",
   "execution_count": 57,
   "metadata": {
    "collapsed": true
   },
   "outputs": [],
   "source": [
    "# Fat Burn"
   ]
  },
  {
   "cell_type": "code",
   "execution_count": 58,
   "metadata": {
    "collapsed": true
   },
   "outputs": [],
   "source": [
    "# Cardio"
   ]
  },
  {
   "cell_type": "code",
   "execution_count": 59,
   "metadata": {
    "collapsed": true
   },
   "outputs": [],
   "source": [
    "# Peak"
   ]
  },
  {
   "cell_type": "code",
   "execution_count": 60,
   "metadata": {
    "collapsed": true
   },
   "outputs": [],
   "source": [
    "# trying to parse into a list with date and resting heart rate\n",
    "#date_hr_list = [(dateutil.parser.parse(date_hr_dict['dateTime']), \\\n",
    "#                (date_hr_dict['value')) \\\n",
    "#                for date_hr_dict in hr_ts['activities-heart']]"
   ]
  },
  {
   "cell_type": "code",
   "execution_count": 61,
   "metadata": {
    "collapsed": true
   },
   "outputs": [],
   "source": [
    "# type(date_hr_list)"
   ]
  },
  {
   "cell_type": "code",
   "execution_count": 62,
   "metadata": {
    "collapsed": true
   },
   "outputs": [],
   "source": [
    "# type(date_hr_list[-1])"
   ]
  },
  {
   "cell_type": "code",
   "execution_count": null,
   "metadata": {
    "collapsed": true
   },
   "outputs": [],
   "source": []
  },
  {
   "cell_type": "markdown",
   "metadata": {},
   "source": [
    "# Download A Full Day Record of Heart Rate"
   ]
  },
  {
   "cell_type": "code",
   "execution_count": 63,
   "metadata": {
    "collapsed": true
   },
   "outputs": [],
   "source": [
    "# get all HR stats for a single date\n",
    "def fitbit_HR_stats(date):\n",
    "    fitbit_intra_HR = auth2_client.intraday_time_series('activities/heart', base_date=date, detail_level='1sec')\n",
    "    time_list = []\n",
    "    val_list = []\n",
    "    for i in fitbit_intra_HR['activities-heart-intraday']['dataset']:\n",
    "        val_list.append(i['value'])\n",
    "        time_list.append(i['time'])\n",
    "    heartdf = pd.DataFrame({'Heart_Rate':val_list,'Time':time_list})\n",
    "    # add date column\n",
    "    heartdf['Date'] = date\n",
    "    # create csv\n",
    "    heartdf.to_csv('data/hr/heart'+ \\\n",
    "               date+'.csv', \\\n",
    "               columns=['Date', 'Time','Heart_Rate'], header=True, \\\n",
    "               index = False)\n",
    "    print(\"Generated CSV for %s\" % date)"
   ]
  },
  {
   "cell_type": "code",
   "execution_count": 64,
   "metadata": {
    "collapsed": true
   },
   "outputs": [],
   "source": [
    "# get multiple date HR data\n",
    "def fitbit_multidates_hr(datelist):\n",
    "    for i in datelist[:]:\n",
    "        fitbit_HR_stats(i)\n",
    "        # add a 5 second daily\n",
    "        # time.sleep(5)"
   ]
  },
  {
   "cell_type": "code",
   "execution_count": 65,
   "metadata": {},
   "outputs": [],
   "source": [
    "# today's hr data\n",
    "# fitbit_HR_stats(today)"
   ]
  },
  {
   "cell_type": "code",
   "execution_count": 66,
   "metadata": {},
   "outputs": [],
   "source": [
    "# yesterday's data\n",
    "# fitbit_HR_stats(yesterday)"
   ]
  },
  {
   "cell_type": "code",
   "execution_count": 67,
   "metadata": {},
   "outputs": [],
   "source": [
    "# get data for multiple days\n",
    "# fitbit_multidates_hr(dates_list)"
   ]
  },
  {
   "cell_type": "code",
   "execution_count": null,
   "metadata": {
    "collapsed": true
   },
   "outputs": [],
   "source": []
  },
  {
   "cell_type": "code",
   "execution_count": null,
   "metadata": {
    "collapsed": true
   },
   "outputs": [],
   "source": []
  }
 ],
 "metadata": {
  "kernelspec": {
   "display_name": "Python 3",
   "language": "python",
   "name": "python3"
  },
  "language_info": {
   "codemirror_mode": {
    "name": "ipython",
    "version": 3
   },
   "file_extension": ".py",
   "mimetype": "text/x-python",
   "name": "python",
   "nbconvert_exporter": "python",
   "pygments_lexer": "ipython3",
   "version": "3.7.3"
  }
 },
 "nbformat": 4,
 "nbformat_minor": 2
}
