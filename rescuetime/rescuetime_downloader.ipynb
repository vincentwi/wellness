{
 "cells": [
  {
   "cell_type": "markdown",
   "metadata": {},
   "source": [
    "# RescueTime Downloader"
   ]
  },
  {
   "cell_type": "markdown",
   "metadata": {},
   "source": [
    "Code to collect and export RescueTime Activity Logs, includes options to collect in hourly or minute bins. Default is hourly.\n",
    "\n",
    "**NOTE:** Collecting Full History takes some time, depending how many years of data you have. I recommend you configure the script below to pull data in yearly chunks, though it should work if you attempt to export full history. "
   ]
  },
  {
   "cell_type": "markdown",
   "metadata": {},
   "source": [
    "------"
   ]
  },
  {
   "cell_type": "markdown",
   "metadata": {},
   "source": [
    "## Setup and Installation"
   ]
  },
  {
   "cell_type": "markdown",
   "metadata": {},
   "source": [
    "* Go to [RescueTime API](https://www.rescuetime.com/anapi/manage) and copy an API Key \n",
    "* Copy credentials-sample.json to create credentials.json and add your RescueTime Key.\n",
    "* This project depends on no additional code besides standard python libraries and Pandas. "
   ]
  },
  {
   "cell_type": "markdown",
   "metadata": {},
   "source": [
    "-----"
   ]
  },
  {
   "cell_type": "markdown",
   "metadata": {},
   "source": [
    "## Dependencies"
   ]
  },
  {
   "cell_type": "code",
   "execution_count": 1,
   "metadata": {
    "collapsed": true
   },
   "outputs": [],
   "source": [
    "import requests\n",
    "import os\n",
    "from datetime import date, datetime, timedelta as td\n",
    "import pandas as pd"
   ]
  },
  {
   "cell_type": "markdown",
   "metadata": {},
   "source": [
    "----"
   ]
  },
  {
   "cell_type": "markdown",
   "metadata": {},
   "source": [
    "## Credentials"
   ]
  },
  {
   "cell_type": "code",
   "execution_count": 2,
   "metadata": {},
   "outputs": [],
   "source": [
    "import json\n",
    "\n",
    "with open(\"credentials.json\", \"r\") as file:\n",
    "    credentials = json.load(file)\n",
    "    rescuetime_cr = credentials['rescuetime']\n",
    "    KEY = rescuetime_cr['KEY']"
   ]
  },
  {
   "cell_type": "code",
   "execution_count": 3,
   "metadata": {
    "collapsed": true
   },
   "outputs": [],
   "source": [
    "baseurl = 'https://www.rescuetime.com/anapi/data?key='"
   ]
  },
  {
   "cell_type": "code",
   "execution_count": 4,
   "metadata": {
    "collapsed": true
   },
   "outputs": [],
   "source": [
    "url =  baseurl + KEY"
   ]
  },
  {
   "cell_type": "markdown",
   "metadata": {},
   "source": [
    "----"
   ]
  },
  {
   "cell_type": "markdown",
   "metadata": {},
   "source": [
    "## Export Dates Configuration"
   ]
  },
  {
   "cell_type": "code",
   "execution_count": 5,
   "metadata": {
    "tags": [
     "parameters"
    ]
   },
   "outputs": [],
   "source": [
    "# Configure These to Your Preferred Dates\n",
    "start_date = '2019-06-10'  # Start date for additional data export\n",
    "end_date   = '2019-06-12'  # End date for data"
   ]
  },
  {
   "cell_type": "markdown",
   "metadata": {},
   "source": [
    "------"
   ]
  },
  {
   "cell_type": "markdown",
   "metadata": {},
   "source": [
    "## Function to Get RescueTime Activities"
   ]
  },
  {
   "cell_type": "code",
   "execution_count": 6,
   "metadata": {
    "collapsed": true
   },
   "outputs": [],
   "source": [
    "# Adjustable by Time Period\n",
    "def rescuetime_get_activities(start_date, end_date, resolution='hour'):\n",
    "    # Configuration for Query\n",
    "    # SEE: https://www.rescuetime.com/apidoc\n",
    "    payload = {\n",
    "        'perspective':'interval',\n",
    "        'resolution_time': resolution, #1 of \"month\", \"week\", \"day\", \"hour\", \"minute\"\n",
    "        'restrict_kind':'document',\n",
    "        'restrict_begin': start_date,\n",
    "        'restrict_end': end_date,\n",
    "        'format':'json' #csv\n",
    "    }\n",
    "    \n",
    "    # Setup Iteration - by Day\n",
    "    d1 = datetime.strptime(payload['restrict_begin'], \"%Y-%m-%d\").date()\n",
    "    d2 = datetime.strptime(payload['restrict_end'], \"%Y-%m-%d\").date()\n",
    "    delta = d2 - d1\n",
    "    \n",
    "    activities_list = []\n",
    "    \n",
    "    # Iterate through the days, making a request per day\n",
    "    for i in range(delta.days + 1):\n",
    "        # Find iter date and set begin and end values to this to extract at once.\n",
    "        d3 = d1 + td(days=i) # Add a day\n",
    "        if d3.day == 1: print('Pulling Monthly Data for ', d3)\n",
    "\n",
    "        # Update the Payload\n",
    "        payload['restrict_begin'] = str(d3) # Set payload days to current\n",
    "        payload['restrict_end'] = str(d3)   # Set payload days to current\n",
    "\n",
    "        # Request\n",
    "        try: \n",
    "            r = requests.get(url, payload) # Make Request\n",
    "            iter_result = r.json() # Parse result\n",
    "            # print(\"Collecting Activities for \" + str(d3))\n",
    "        except: \n",
    "            print(\"Error collecting data for \" + str(d3))\n",
    "    \n",
    "        if len(iter_result) != 0:\n",
    "            for i in iter_result['rows']:\n",
    "                activities_list.append(i)\n",
    "        else:\n",
    "            print(\"Appears there is no RescueTime data for \" + str(d3))\n",
    "        \n",
    "    return activities_list"
   ]
  },
  {
   "cell_type": "markdown",
   "metadata": {},
   "source": [
    "---"
   ]
  },
  {
   "cell_type": "markdown",
   "metadata": {},
   "source": [
    "## Collect Report of Activites By Day"
   ]
  },
  {
   "cell_type": "code",
   "execution_count": 7,
   "metadata": {},
   "outputs": [],
   "source": [
    "# activities_day_log = rescuetime_get_activities(start_date, end_date, 'day')"
   ]
  },
  {
   "cell_type": "code",
   "execution_count": 8,
   "metadata": {},
   "outputs": [],
   "source": [
    "# activities_daily = pd.DataFrame.from_dict(activities_day_log)"
   ]
  },
  {
   "cell_type": "code",
   "execution_count": 9,
   "metadata": {},
   "outputs": [],
   "source": [
    "# activities_daily.info()"
   ]
  },
  {
   "cell_type": "code",
   "execution_count": 10,
   "metadata": {},
   "outputs": [],
   "source": [
    "# activities_daily.describe()"
   ]
  },
  {
   "cell_type": "code",
   "execution_count": 11,
   "metadata": {},
   "outputs": [],
   "source": [
    "# activities_daily.tail()"
   ]
  },
  {
   "cell_type": "markdown",
   "metadata": {},
   "source": [
    "----"
   ]
  },
  {
   "cell_type": "markdown",
   "metadata": {},
   "source": [
    "## Collect Report of Activites By Hour"
   ]
  },
  {
   "cell_type": "code",
   "execution_count": 12,
   "metadata": {},
   "outputs": [],
   "source": [
    "activities_hour_log = rescuetime_get_activities(start_date, end_date, 'hour')"
   ]
  },
  {
   "cell_type": "code",
   "execution_count": 13,
   "metadata": {},
   "outputs": [],
   "source": [
    "activities_hourly = pd.DataFrame.from_dict(activities_hour_log)"
   ]
  },
  {
   "cell_type": "code",
   "execution_count": 14,
   "metadata": {
    "collapsed": true
   },
   "outputs": [],
   "source": [
    "activities_hourly.columns = ['Date', 'Seconds', 'NumberPeople', 'Actitivity', 'Document', 'Category', 'Productivity']"
   ]
  },
  {
   "cell_type": "code",
   "execution_count": 15,
   "metadata": {},
   "outputs": [
    {
     "name": "stdout",
     "output_type": "stream",
     "text": [
      "<class 'pandas.core.frame.DataFrame'>\n",
      "RangeIndex: 635 entries, 0 to 634\n",
      "Data columns (total 7 columns):\n",
      "Date            635 non-null object\n",
      "Seconds         635 non-null int64\n",
      "NumberPeople    635 non-null int64\n",
      "Actitivity      635 non-null object\n",
      "Document        635 non-null object\n",
      "Category        635 non-null object\n",
      "Productivity    635 non-null int64\n",
      "dtypes: int64(3), object(4)\n",
      "memory usage: 34.8+ KB\n"
     ]
    }
   ],
   "source": [
    "activities_hourly.info()"
   ]
  },
  {
   "cell_type": "code",
   "execution_count": 16,
   "metadata": {},
   "outputs": [
    {
     "data": {
      "text/html": [
       "<div>\n",
       "<style scoped>\n",
       "    .dataframe tbody tr th:only-of-type {\n",
       "        vertical-align: middle;\n",
       "    }\n",
       "\n",
       "    .dataframe tbody tr th {\n",
       "        vertical-align: top;\n",
       "    }\n",
       "\n",
       "    .dataframe thead th {\n",
       "        text-align: right;\n",
       "    }\n",
       "</style>\n",
       "<table border=\"1\" class=\"dataframe\">\n",
       "  <thead>\n",
       "    <tr style=\"text-align: right;\">\n",
       "      <th></th>\n",
       "      <th>Seconds</th>\n",
       "      <th>NumberPeople</th>\n",
       "      <th>Productivity</th>\n",
       "    </tr>\n",
       "  </thead>\n",
       "  <tbody>\n",
       "    <tr>\n",
       "      <th>count</th>\n",
       "      <td>635.000000</td>\n",
       "      <td>635.0</td>\n",
       "      <td>635.000000</td>\n",
       "    </tr>\n",
       "    <tr>\n",
       "      <th>mean</th>\n",
       "      <td>48.579528</td>\n",
       "      <td>1.0</td>\n",
       "      <td>1.029921</td>\n",
       "    </tr>\n",
       "    <tr>\n",
       "      <th>std</th>\n",
       "      <td>117.375901</td>\n",
       "      <td>0.0</td>\n",
       "      <td>0.940192</td>\n",
       "    </tr>\n",
       "    <tr>\n",
       "      <th>min</th>\n",
       "      <td>1.000000</td>\n",
       "      <td>1.0</td>\n",
       "      <td>-2.000000</td>\n",
       "    </tr>\n",
       "    <tr>\n",
       "      <th>25%</th>\n",
       "      <td>3.000000</td>\n",
       "      <td>1.0</td>\n",
       "      <td>0.000000</td>\n",
       "    </tr>\n",
       "    <tr>\n",
       "      <th>50%</th>\n",
       "      <td>11.000000</td>\n",
       "      <td>1.0</td>\n",
       "      <td>1.000000</td>\n",
       "    </tr>\n",
       "    <tr>\n",
       "      <th>75%</th>\n",
       "      <td>36.500000</td>\n",
       "      <td>1.0</td>\n",
       "      <td>2.000000</td>\n",
       "    </tr>\n",
       "    <tr>\n",
       "      <th>max</th>\n",
       "      <td>1271.000000</td>\n",
       "      <td>1.0</td>\n",
       "      <td>2.000000</td>\n",
       "    </tr>\n",
       "  </tbody>\n",
       "</table>\n",
       "</div>"
      ],
      "text/plain": [
       "           Seconds  NumberPeople  Productivity\n",
       "count   635.000000         635.0    635.000000\n",
       "mean     48.579528           1.0      1.029921\n",
       "std     117.375901           0.0      0.940192\n",
       "min       1.000000           1.0     -2.000000\n",
       "25%       3.000000           1.0      0.000000\n",
       "50%      11.000000           1.0      1.000000\n",
       "75%      36.500000           1.0      2.000000\n",
       "max    1271.000000           1.0      2.000000"
      ]
     },
     "execution_count": 16,
     "metadata": {},
     "output_type": "execute_result"
    }
   ],
   "source": [
    "activities_hourly.describe()"
   ]
  },
  {
   "cell_type": "code",
   "execution_count": 17,
   "metadata": {},
   "outputs": [
    {
     "data": {
      "text/html": [
       "<div>\n",
       "<style scoped>\n",
       "    .dataframe tbody tr th:only-of-type {\n",
       "        vertical-align: middle;\n",
       "    }\n",
       "\n",
       "    .dataframe tbody tr th {\n",
       "        vertical-align: top;\n",
       "    }\n",
       "\n",
       "    .dataframe thead th {\n",
       "        text-align: right;\n",
       "    }\n",
       "</style>\n",
       "<table border=\"1\" class=\"dataframe\">\n",
       "  <thead>\n",
       "    <tr style=\"text-align: right;\">\n",
       "      <th></th>\n",
       "      <th>Date</th>\n",
       "      <th>Seconds</th>\n",
       "      <th>NumberPeople</th>\n",
       "      <th>Actitivity</th>\n",
       "      <th>Document</th>\n",
       "      <th>Category</th>\n",
       "      <th>Productivity</th>\n",
       "    </tr>\n",
       "  </thead>\n",
       "  <tbody>\n",
       "    <tr>\n",
       "      <th>630</th>\n",
       "      <td>2019-06-12T23:00:00</td>\n",
       "      <td>1</td>\n",
       "      <td>1</td>\n",
       "      <td>google.com</td>\n",
       "      <td>Untitled - Google Chrome</td>\n",
       "      <td>Search</td>\n",
       "      <td>0</td>\n",
       "    </tr>\n",
       "    <tr>\n",
       "      <th>631</th>\n",
       "      <td>2019-06-12T23:00:00</td>\n",
       "      <td>1</td>\n",
       "      <td>1</td>\n",
       "      <td>stackoverflow.com</td>\n",
       "      <td>git add - Git add only all new files, not modi...</td>\n",
       "      <td>General Software Development</td>\n",
       "      <td>2</td>\n",
       "    </tr>\n",
       "    <tr>\n",
       "      <th>632</th>\n",
       "      <td>2019-06-12T23:00:00</td>\n",
       "      <td>1</td>\n",
       "      <td>1</td>\n",
       "      <td>en.wikipedia.org</td>\n",
       "      <td>Tachisme - Wikipedia - Google Chrome</td>\n",
       "      <td>General Reference &amp; Learning</td>\n",
       "      <td>1</td>\n",
       "    </tr>\n",
       "    <tr>\n",
       "      <th>633</th>\n",
       "      <td>2019-06-12T23:00:00</td>\n",
       "      <td>1</td>\n",
       "      <td>1</td>\n",
       "      <td>en.wikipedia.org</td>\n",
       "      <td>Find in page\\n    Pop art - Wikipedia</td>\n",
       "      <td>General Reference &amp; Learning</td>\n",
       "      <td>1</td>\n",
       "    </tr>\n",
       "    <tr>\n",
       "      <th>634</th>\n",
       "      <td>2019-06-12T23:00:00</td>\n",
       "      <td>1</td>\n",
       "      <td>1</td>\n",
       "      <td>google.com</td>\n",
       "      <td>most famous abstract artist - Google Search - ...</td>\n",
       "      <td>Search</td>\n",
       "      <td>0</td>\n",
       "    </tr>\n",
       "  </tbody>\n",
       "</table>\n",
       "</div>"
      ],
      "text/plain": [
       "                    Date  Seconds  NumberPeople         Actitivity  \\\n",
       "630  2019-06-12T23:00:00        1             1         google.com   \n",
       "631  2019-06-12T23:00:00        1             1  stackoverflow.com   \n",
       "632  2019-06-12T23:00:00        1             1   en.wikipedia.org   \n",
       "633  2019-06-12T23:00:00        1             1   en.wikipedia.org   \n",
       "634  2019-06-12T23:00:00        1             1         google.com   \n",
       "\n",
       "                                              Document  \\\n",
       "630                           Untitled - Google Chrome   \n",
       "631  git add - Git add only all new files, not modi...   \n",
       "632               Tachisme - Wikipedia - Google Chrome   \n",
       "633              Find in page\\n    Pop art - Wikipedia   \n",
       "634  most famous abstract artist - Google Search - ...   \n",
       "\n",
       "                         Category  Productivity  \n",
       "630                        Search             0  \n",
       "631  General Software Development             2  \n",
       "632  General Reference & Learning             1  \n",
       "633  General Reference & Learning             1  \n",
       "634                        Search             0  "
      ]
     },
     "execution_count": 17,
     "metadata": {},
     "output_type": "execute_result"
    }
   ],
   "source": [
    "activities_hourly.tail()"
   ]
  },
  {
   "cell_type": "code",
   "execution_count": 18,
   "metadata": {},
   "outputs": [],
   "source": [
    "activities_hourly.to_csv('data/rescuetime-hourly-' + start_date + '-to-' + end_date + '.csv')"
   ]
  },
  {
   "cell_type": "markdown",
   "metadata": {},
   "source": [
    "## Collect Report of Activites By Minute"
   ]
  },
  {
   "cell_type": "code",
   "execution_count": 19,
   "metadata": {},
   "outputs": [],
   "source": [
    "# activities_minute_log = rescuetime_get_activities(start_date, end_date, 'minute')"
   ]
  },
  {
   "cell_type": "code",
   "execution_count": 20,
   "metadata": {
    "collapsed": true
   },
   "outputs": [],
   "source": [
    "# activities_per_minute = pd.DataFrame.from_dict(activities_minute_log)"
   ]
  },
  {
   "cell_type": "code",
   "execution_count": 21,
   "metadata": {
    "collapsed": true
   },
   "outputs": [],
   "source": [
    "# Date', u'Time Spent (seconds)', u'Number of People', u'Activity', u'Document', u'Category', u'Productivity'\n",
    "# activities_per_minute.columns = ['Date', 'Seconds', 'NumberPeople', 'Actitivity', 'Document', 'Category', 'Productivity']"
   ]
  },
  {
   "cell_type": "code",
   "execution_count": 22,
   "metadata": {},
   "outputs": [],
   "source": [
    "# activities_per_minute.head()"
   ]
  },
  {
   "cell_type": "code",
   "execution_count": 23,
   "metadata": {},
   "outputs": [],
   "source": [
    "# activities_per_minute.info()"
   ]
  },
  {
   "cell_type": "code",
   "execution_count": 24,
   "metadata": {},
   "outputs": [],
   "source": [
    "# activities_per_minute.describe()"
   ]
  },
  {
   "cell_type": "code",
   "execution_count": 25,
   "metadata": {
    "collapsed": true
   },
   "outputs": [],
   "source": [
    "# activities_per_minute.to_csv('data/rescuetime-by-minute' + start_date + '-to-' + end_date + '.csv')"
   ]
  },
  {
   "cell_type": "markdown",
   "metadata": {},
   "source": [
    "-----"
   ]
  },
  {
   "cell_type": "markdown",
   "metadata": {},
   "source": [
    "## Simple Analysis (Using Exported Logs)"
   ]
  },
  {
   "cell_type": "code",
   "execution_count": 26,
   "metadata": {
    "collapsed": true
   },
   "outputs": [],
   "source": [
    "import glob\n",
    "import os"
   ]
  },
  {
   "cell_type": "code",
   "execution_count": 27,
   "metadata": {
    "collapsed": true
   },
   "outputs": [],
   "source": [
    "# import hourly data exports and create a single data frame\n",
    "path = 'data/'\n",
    "allFiles = glob.glob(path + \"/rescuetime-hourly*.csv\")\n",
    "timelogs = pd.DataFrame()\n",
    "list_ = []\n",
    "for file_ in allFiles:\n",
    "    df = pd.read_csv(file_,index_col=None, header=0)\n",
    "    list_.append(df)\n",
    "activities = pd.concat(list_)"
   ]
  },
  {
   "cell_type": "code",
   "execution_count": 28,
   "metadata": {},
   "outputs": [],
   "source": [
    "activities = activities.reset_index(drop=True)"
   ]
  },
  {
   "cell_type": "code",
   "execution_count": 29,
   "metadata": {},
   "outputs": [
    {
     "data": {
      "text/plain": [
       "Index(['Date', 'Seconds', 'NumberPeople', 'Actitivity', 'Document', 'Category',\n",
       "       'Productivity'],\n",
       "      dtype='object')"
      ]
     },
     "execution_count": 29,
     "metadata": {},
     "output_type": "execute_result"
    }
   ],
   "source": [
    "# drop old index column\n",
    "activities = activities.drop(\"Unnamed: 0\", 1)\n",
    "activities.columns"
   ]
  },
  {
   "cell_type": "code",
   "execution_count": 30,
   "metadata": {},
   "outputs": [],
   "source": [
    "# drop any duplicates\n",
    "activities = activities.drop_duplicates()"
   ]
  },
  {
   "cell_type": "code",
   "execution_count": 31,
   "metadata": {},
   "outputs": [
    {
     "data": {
      "text/plain": [
       "935822"
      ]
     },
     "execution_count": 31,
     "metadata": {},
     "output_type": "execute_result"
    }
   ],
   "source": [
    "len(activities) # 795418"
   ]
  },
  {
   "cell_type": "code",
   "execution_count": 32,
   "metadata": {},
   "outputs": [
    {
     "data": {
      "text/plain": [
       "16133.543611111112"
      ]
     },
     "execution_count": 32,
     "metadata": {},
     "output_type": "execute_result"
    }
   ],
   "source": [
    "# total hours\n",
    "activities.Seconds.sum() / 60 / 60"
   ]
  },
  {
   "cell_type": "code",
   "execution_count": 33,
   "metadata": {},
   "outputs": [
    {
     "data": {
      "text/plain": [
       "672.2309837962963"
      ]
     },
     "execution_count": 33,
     "metadata": {},
     "output_type": "execute_result"
    }
   ],
   "source": [
    "# total days\n",
    "activities.Seconds.sum() / 60 / 60 / 24"
   ]
  },
  {
   "cell_type": "code",
   "execution_count": 34,
   "metadata": {},
   "outputs": [
    {
     "data": {
      "text/html": [
       "<div>\n",
       "<style scoped>\n",
       "    .dataframe tbody tr th:only-of-type {\n",
       "        vertical-align: middle;\n",
       "    }\n",
       "\n",
       "    .dataframe tbody tr th {\n",
       "        vertical-align: top;\n",
       "    }\n",
       "\n",
       "    .dataframe thead th {\n",
       "        text-align: right;\n",
       "    }\n",
       "</style>\n",
       "<table border=\"1\" class=\"dataframe\">\n",
       "  <thead>\n",
       "    <tr style=\"text-align: right;\">\n",
       "      <th></th>\n",
       "      <th>Date</th>\n",
       "      <th>Seconds</th>\n",
       "      <th>NumberPeople</th>\n",
       "      <th>Actitivity</th>\n",
       "      <th>Document</th>\n",
       "      <th>Category</th>\n",
       "      <th>Productivity</th>\n",
       "    </tr>\n",
       "  </thead>\n",
       "  <tbody>\n",
       "    <tr>\n",
       "      <th>940474</th>\n",
       "      <td>2019-10-13T23:00:00</td>\n",
       "      <td>2</td>\n",
       "      <td>1</td>\n",
       "      <td>sublime text</td>\n",
       "      <td>index.js — Header — increment</td>\n",
       "      <td>Editing &amp; IDEs</td>\n",
       "      <td>2</td>\n",
       "    </tr>\n",
       "    <tr>\n",
       "      <th>940475</th>\n",
       "      <td>2019-10-13T23:00:00</td>\n",
       "      <td>2</td>\n",
       "      <td>1</td>\n",
       "      <td>Gmail</td>\n",
       "      <td>FW: I tried to hack my insomnia with technolog...</td>\n",
       "      <td>Email</td>\n",
       "      <td>1</td>\n",
       "    </tr>\n",
       "    <tr>\n",
       "      <th>940476</th>\n",
       "      <td>2019-10-13T23:00:00</td>\n",
       "      <td>2</td>\n",
       "      <td>1</td>\n",
       "      <td>Gmail</td>\n",
       "      <td>Useful Article: Can I Safely Exercise with Hyp...</td>\n",
       "      <td>Email</td>\n",
       "      <td>1</td>\n",
       "    </tr>\n",
       "    <tr>\n",
       "      <th>940477</th>\n",
       "      <td>2019-10-13T23:00:00</td>\n",
       "      <td>1</td>\n",
       "      <td>1</td>\n",
       "      <td>Google Forms</td>\n",
       "      <td>Untitled - Google Chrome</td>\n",
       "      <td>General Business</td>\n",
       "      <td>2</td>\n",
       "    </tr>\n",
       "    <tr>\n",
       "      <th>940478</th>\n",
       "      <td>2019-10-13T23:00:00</td>\n",
       "      <td>1</td>\n",
       "      <td>1</td>\n",
       "      <td>idealistla2019.eventbrite.com</td>\n",
       "      <td>No Details</td>\n",
       "      <td>Calendars</td>\n",
       "      <td>0</td>\n",
       "    </tr>\n",
       "  </tbody>\n",
       "</table>\n",
       "</div>"
      ],
      "text/plain": [
       "                       Date  Seconds  NumberPeople  \\\n",
       "940474  2019-10-13T23:00:00        2             1   \n",
       "940475  2019-10-13T23:00:00        2             1   \n",
       "940476  2019-10-13T23:00:00        2             1   \n",
       "940477  2019-10-13T23:00:00        1             1   \n",
       "940478  2019-10-13T23:00:00        1             1   \n",
       "\n",
       "                           Actitivity  \\\n",
       "940474                   sublime text   \n",
       "940475                          Gmail   \n",
       "940476                          Gmail   \n",
       "940477                   Google Forms   \n",
       "940478  idealistla2019.eventbrite.com   \n",
       "\n",
       "                                                 Document          Category  \\\n",
       "940474                      index.js — Header — increment    Editing & IDEs   \n",
       "940475  FW: I tried to hack my insomnia with technolog...             Email   \n",
       "940476  Useful Article: Can I Safely Exercise with Hyp...             Email   \n",
       "940477                           Untitled - Google Chrome  General Business   \n",
       "940478                                         No Details         Calendars   \n",
       "\n",
       "        Productivity  \n",
       "940474             2  \n",
       "940475             1  \n",
       "940476             1  \n",
       "940477             2  \n",
       "940478             0  "
      ]
     },
     "execution_count": 34,
     "metadata": {},
     "output_type": "execute_result"
    }
   ],
   "source": [
    "activities.tail()"
   ]
  },
  {
   "cell_type": "code",
   "execution_count": 35,
   "metadata": {},
   "outputs": [
    {
     "name": "stdout",
     "output_type": "stream",
     "text": [
      "<class 'pandas.core.frame.DataFrame'>\n",
      "Int64Index: 935822 entries, 0 to 940478\n",
      "Data columns (total 7 columns):\n",
      "Date            935822 non-null object\n",
      "Seconds         935822 non-null int64\n",
      "NumberPeople    935822 non-null int64\n",
      "Actitivity      935822 non-null object\n",
      "Document        935812 non-null object\n",
      "Category        935822 non-null object\n",
      "Productivity    935822 non-null int64\n",
      "dtypes: int64(3), object(4)\n",
      "memory usage: 57.1+ MB\n"
     ]
    }
   ],
   "source": [
    "activities.info()"
   ]
  },
  {
   "cell_type": "code",
   "execution_count": 36,
   "metadata": {},
   "outputs": [
    {
     "data": {
      "text/html": [
       "<div>\n",
       "<style scoped>\n",
       "    .dataframe tbody tr th:only-of-type {\n",
       "        vertical-align: middle;\n",
       "    }\n",
       "\n",
       "    .dataframe tbody tr th {\n",
       "        vertical-align: top;\n",
       "    }\n",
       "\n",
       "    .dataframe thead th {\n",
       "        text-align: right;\n",
       "    }\n",
       "</style>\n",
       "<table border=\"1\" class=\"dataframe\">\n",
       "  <thead>\n",
       "    <tr style=\"text-align: right;\">\n",
       "      <th></th>\n",
       "      <th>Seconds</th>\n",
       "      <th>NumberPeople</th>\n",
       "      <th>Productivity</th>\n",
       "    </tr>\n",
       "  </thead>\n",
       "  <tbody>\n",
       "    <tr>\n",
       "      <th>count</th>\n",
       "      <td>935822.000000</td>\n",
       "      <td>935822.0</td>\n",
       "      <td>935822.000000</td>\n",
       "    </tr>\n",
       "    <tr>\n",
       "      <th>mean</th>\n",
       "      <td>62.063894</td>\n",
       "      <td>1.0</td>\n",
       "      <td>0.905027</td>\n",
       "    </tr>\n",
       "    <tr>\n",
       "      <th>std</th>\n",
       "      <td>196.560130</td>\n",
       "      <td>0.0</td>\n",
       "      <td>1.243194</td>\n",
       "    </tr>\n",
       "    <tr>\n",
       "      <th>min</th>\n",
       "      <td>1.000000</td>\n",
       "      <td>1.0</td>\n",
       "      <td>-2.000000</td>\n",
       "    </tr>\n",
       "    <tr>\n",
       "      <th>25%</th>\n",
       "      <td>2.000000</td>\n",
       "      <td>1.0</td>\n",
       "      <td>0.000000</td>\n",
       "    </tr>\n",
       "    <tr>\n",
       "      <th>50%</th>\n",
       "      <td>9.000000</td>\n",
       "      <td>1.0</td>\n",
       "      <td>1.000000</td>\n",
       "    </tr>\n",
       "    <tr>\n",
       "      <th>75%</th>\n",
       "      <td>38.000000</td>\n",
       "      <td>1.0</td>\n",
       "      <td>2.000000</td>\n",
       "    </tr>\n",
       "    <tr>\n",
       "      <th>max</th>\n",
       "      <td>7428.000000</td>\n",
       "      <td>1.0</td>\n",
       "      <td>2.000000</td>\n",
       "    </tr>\n",
       "  </tbody>\n",
       "</table>\n",
       "</div>"
      ],
      "text/plain": [
       "             Seconds  NumberPeople   Productivity\n",
       "count  935822.000000      935822.0  935822.000000\n",
       "mean       62.063894           1.0       0.905027\n",
       "std       196.560130           0.0       1.243194\n",
       "min         1.000000           1.0      -2.000000\n",
       "25%         2.000000           1.0       0.000000\n",
       "50%         9.000000           1.0       1.000000\n",
       "75%        38.000000           1.0       2.000000\n",
       "max      7428.000000           1.0       2.000000"
      ]
     },
     "execution_count": 36,
     "metadata": {},
     "output_type": "execute_result"
    }
   ],
   "source": [
    "activities.describe()"
   ]
  },
  {
   "cell_type": "code",
   "execution_count": 37,
   "metadata": {},
   "outputs": [],
   "source": [
    "# pivot table \n",
    "# activities.pivot(index='Date', columns='Category', values='Seconds')\n",
    "# temp.pivot(columns='Category', values='Seconds')"
   ]
  },
  {
   "cell_type": "code",
   "execution_count": 38,
   "metadata": {},
   "outputs": [],
   "source": [
    "activities.to_csv(\"data/rescuetime-full-data-export.csv\")"
   ]
  }
 ],
 "metadata": {
  "kernelspec": {
   "display_name": "Python 3",
   "language": "python",
   "name": "python3"
  },
  "language_info": {
   "codemirror_mode": {
    "name": "ipython",
    "version": 3
   },
   "file_extension": ".py",
   "mimetype": "text/x-python",
   "name": "python",
   "nbconvert_exporter": "python",
   "pygments_lexer": "ipython3",
   "version": "3.7.4"
  }
 },
 "nbformat": 4,
 "nbformat_minor": 2
}
