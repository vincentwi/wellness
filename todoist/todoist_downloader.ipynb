{
 "cells": [
  {
   "cell_type": "markdown",
   "metadata": {},
   "source": [
    "# Todoist Completed Tasks Downloader"
   ]
  },
  {
   "cell_type": "markdown",
   "metadata": {},
   "source": [
    "This project will collect and aggregate all of your completed task data from Todoist. \n",
    "\n",
    "For a simple data analysis of your completed tasks, see [todoist_data_analysis.ipynb](https://github.com/markwk/qs_ledger/blob/master/todoist/todoist_data_analysis.ipynb). "
   ]
  },
  {
   "cell_type": "markdown",
   "metadata": {},
   "source": [
    "-------"
   ]
  },
  {
   "cell_type": "markdown",
   "metadata": {},
   "source": [
    "## Installation and Setup\n",
    "\n",
    "#### Download and Install Todoist Python Library\n",
    "\n",
    "`$ pip install todoist-python`\n",
    "\n",
    "#### Signup and Create a Todoist App\n",
    "\n",
    "* Signup at https://developer.todoist.com/appconsole.html\n",
    "* Once app is created, generate and copy a \"Test token,\" which provides access to API as your user.\n",
    "* Copy sample-credentials.json and create credentials.json\n",
    "* Add and Save your Test Token to credentials.json\n"
   ]
  },
  {
   "cell_type": "markdown",
   "metadata": {},
   "source": [
    "-----"
   ]
  },
  {
   "cell_type": "markdown",
   "metadata": {},
   "source": [
    "## Dependencies"
   ]
  },
  {
   "cell_type": "code",
   "execution_count": 1,
   "metadata": {
    "collapsed": true
   },
   "outputs": [],
   "source": [
    "from todoist.api import TodoistAPI\n",
    "import numpy as np, string, re, pytz\n",
    "import pandas as pd\n",
    "from datetime import datetime"
   ]
  },
  {
   "cell_type": "markdown",
   "metadata": {},
   "source": [
    "### Credentials and Authentification"
   ]
  },
  {
   "cell_type": "code",
   "execution_count": 2,
   "metadata": {
    "collapsed": true
   },
   "outputs": [],
   "source": [
    "import json\n",
    "\n",
    "with open(\"credentials.json\", \"r\") as file:\n",
    "    credentials = json.load(file)\n",
    "    todoist_cr = credentials['todoist']\n",
    "    TOKEN = todoist_cr['TOKEN']"
   ]
  },
  {
   "cell_type": "code",
   "execution_count": 3,
   "metadata": {
    "collapsed": true
   },
   "outputs": [],
   "source": [
    "api = TodoistAPI(TOKEN)\n",
    "#api.sync() # uncomment to use"
   ]
  },
  {
   "cell_type": "markdown",
   "metadata": {},
   "source": [
    "----------"
   ]
  },
  {
   "cell_type": "markdown",
   "metadata": {},
   "source": [
    "## Check Basic User Info"
   ]
  },
  {
   "cell_type": "code",
   "execution_count": 4,
   "metadata": {
    "collapsed": true
   },
   "outputs": [],
   "source": [
    "user = api.state['user']"
   ]
  },
  {
   "cell_type": "code",
   "execution_count": 5,
   "metadata": {},
   "outputs": [],
   "source": [
    "# user"
   ]
  },
  {
   "cell_type": "code",
   "execution_count": 6,
   "metadata": {},
   "outputs": [
    {
     "data": {
      "text/plain": [
       "'Mark Koester'"
      ]
     },
     "execution_count": 6,
     "metadata": {},
     "output_type": "execute_result"
    }
   ],
   "source": [
    "user['full_name']"
   ]
  },
  {
   "cell_type": "code",
   "execution_count": 7,
   "metadata": {},
   "outputs": [
    {
     "data": {
      "text/plain": [
       "1"
      ]
     },
     "execution_count": 7,
     "metadata": {},
     "output_type": "execute_result"
    }
   ],
   "source": [
    "# Tasks Completed Today\n",
    "user['completed_today']"
   ]
  },
  {
   "cell_type": "code",
   "execution_count": 8,
   "metadata": {},
   "outputs": [
    {
     "data": {
      "text/plain": [
       "4698"
      ]
     },
     "execution_count": 8,
     "metadata": {},
     "output_type": "execute_result"
    }
   ],
   "source": [
    "# total completed tasks\n",
    "user_completed_count = user['completed_count']\n",
    "user_completed_count"
   ]
  },
  {
   "cell_type": "markdown",
   "metadata": {},
   "source": [
    "-------"
   ]
  },
  {
   "cell_type": "markdown",
   "metadata": {},
   "source": [
    "# List and Export of Current Projects"
   ]
  },
  {
   "cell_type": "markdown",
   "metadata": {},
   "source": [
    "### API Call: api.state['projects']\n",
    "\n",
    "https://developer.todoist.com/sync/v7/#get-all-projects\n",
    "\n",
    "NOTE: This only gets info on your existing projects and exludes archived projects. "
   ]
  },
  {
   "cell_type": "code",
   "execution_count": 9,
   "metadata": {
    "collapsed": true
   },
   "outputs": [],
   "source": [
    "user_projects  = api.state['projects']"
   ]
  },
  {
   "cell_type": "code",
   "execution_count": 10,
   "metadata": {
    "collapsed": true
   },
   "outputs": [],
   "source": [
    "# user_projects"
   ]
  },
  {
   "cell_type": "code",
   "execution_count": 11,
   "metadata": {},
   "outputs": [
    {
     "data": {
      "text/plain": [
       "41"
      ]
     },
     "execution_count": 11,
     "metadata": {},
     "output_type": "execute_result"
    }
   ],
   "source": [
    "len(user_projects)"
   ]
  },
  {
   "cell_type": "code",
   "execution_count": 12,
   "metadata": {
    "collapsed": true
   },
   "outputs": [],
   "source": [
    "with open('data/todoist-projects.csv', 'w') as file:\n",
    "    file.write(\"Id\" + \",\" + \"Project\" + \"\\n\")\n",
    "    for i in range(0, len(user_projects)):\n",
    "        file.write('\\\"' + str(user_projects[i]['id']) + '\\\"' + \",\" + '\\\"' + str(user_projects[i]['name']) + '\\\"' + \"\\n\")"
   ]
  },
  {
   "cell_type": "code",
   "execution_count": 13,
   "metadata": {
    "collapsed": true
   },
   "outputs": [],
   "source": [
    "projects = pd.read_csv(\"data/todoist-projects.csv\")"
   ]
  },
  {
   "cell_type": "code",
   "execution_count": 14,
   "metadata": {
    "collapsed": true
   },
   "outputs": [],
   "source": [
    "# projects"
   ]
  },
  {
   "cell_type": "markdown",
   "metadata": {},
   "source": [
    "-----"
   ]
  },
  {
   "cell_type": "markdown",
   "metadata": {},
   "source": [
    "## User Completed Tasks Stats Info"
   ]
  },
  {
   "cell_type": "markdown",
   "metadata": {},
   "source": [
    "API Call: `api.completed.get_stats()` https://developer.todoist.com/sync/v7/#get-productivity-stats"
   ]
  },
  {
   "cell_type": "code",
   "execution_count": 15,
   "metadata": {
    "collapsed": true
   },
   "outputs": [],
   "source": [
    "stats = api.completed.get_stats()"
   ]
  },
  {
   "cell_type": "code",
   "execution_count": 16,
   "metadata": {},
   "outputs": [
    {
     "data": {
      "text/plain": [
       "4988"
      ]
     },
     "execution_count": 16,
     "metadata": {},
     "output_type": "execute_result"
    }
   ],
   "source": [
    "# total completed tasks from stats\n",
    "user_completed_stats = stats['completed_count']\n",
    "user_completed_stats"
   ]
  },
  {
   "cell_type": "markdown",
   "metadata": {},
   "source": [
    "-------"
   ]
  },
  {
   "cell_type": "markdown",
   "metadata": {},
   "source": [
    "# Collect Raw List of All Completed Items from Todoist"
   ]
  },
  {
   "cell_type": "markdown",
   "metadata": {},
   "source": [
    "### API Call: api.completed.get_all() \n",
    "\n",
    "https://developer.todoist.com/sync/v7/#get-all-completed-items"
   ]
  },
  {
   "cell_type": "code",
   "execution_count": 17,
   "metadata": {
    "collapsed": true
   },
   "outputs": [],
   "source": [
    "def get_completed_todoist_items():\n",
    "    # create df from initial 50 completed tasks\n",
    "    print(\"Collecting Initial 50 Completed Todoist Tasks...\")\n",
    "    temp_tasks_dict = (api.completed.get_all(limit=50))\n",
    "    past_tasks = pd.DataFrame.from_dict(temp_tasks_dict['items'])\n",
    "    # get the remaining items\n",
    "    pager = list(range(50,user_completed_stats,50))\n",
    "    for count, item in enumerate(pager):\n",
    "        tmp_tasks = (api.completed.get_all(limit=50, offset=item))\n",
    "        tmp_tasks_df = pd.DataFrame.from_dict(tmp_tasks['items'])\n",
    "        past_tasks = pd.concat([past_tasks, tmp_tasks_df])\n",
    "        print(\"Collecting Additional Todoist Tasks \" + str(item) + \" of \" + str(user_completed_stats))\n",
    "    # save to CSV\n",
    "    print(\"...Generating CSV Export\")\n",
    "    past_tasks.to_csv(\"data/todost-raw-tasks-completed.csv\", index=False)"
   ]
  },
  {
   "cell_type": "code",
   "execution_count": 18,
   "metadata": {},
   "outputs": [
    {
     "name": "stdout",
     "output_type": "stream",
     "text": [
      "Collecting Initial 50 Completed Todoist Tasks...\n",
      "Collecting Additional Todoist Tasks 50 of 4988\n",
      "Collecting Additional Todoist Tasks 100 of 4988\n",
      "Collecting Additional Todoist Tasks 150 of 4988\n",
      "Collecting Additional Todoist Tasks 200 of 4988\n",
      "Collecting Additional Todoist Tasks 250 of 4988\n",
      "Collecting Additional Todoist Tasks 300 of 4988\n",
      "Collecting Additional Todoist Tasks 350 of 4988\n",
      "Collecting Additional Todoist Tasks 400 of 4988\n",
      "Collecting Additional Todoist Tasks 450 of 4988\n",
      "Collecting Additional Todoist Tasks 500 of 4988\n",
      "Collecting Additional Todoist Tasks 550 of 4988\n",
      "Collecting Additional Todoist Tasks 600 of 4988\n",
      "Collecting Additional Todoist Tasks 650 of 4988\n",
      "Collecting Additional Todoist Tasks 700 of 4988\n",
      "Collecting Additional Todoist Tasks 750 of 4988\n",
      "Collecting Additional Todoist Tasks 800 of 4988\n",
      "Collecting Additional Todoist Tasks 850 of 4988\n",
      "Collecting Additional Todoist Tasks 900 of 4988\n",
      "Collecting Additional Todoist Tasks 950 of 4988\n",
      "Collecting Additional Todoist Tasks 1000 of 4988\n",
      "Collecting Additional Todoist Tasks 1050 of 4988\n",
      "Collecting Additional Todoist Tasks 1100 of 4988\n",
      "Collecting Additional Todoist Tasks 1150 of 4988\n",
      "Collecting Additional Todoist Tasks 1200 of 4988\n",
      "Collecting Additional Todoist Tasks 1250 of 4988\n",
      "Collecting Additional Todoist Tasks 1300 of 4988\n",
      "Collecting Additional Todoist Tasks 1350 of 4988\n",
      "Collecting Additional Todoist Tasks 1400 of 4988\n",
      "Collecting Additional Todoist Tasks 1450 of 4988\n",
      "Collecting Additional Todoist Tasks 1500 of 4988\n",
      "Collecting Additional Todoist Tasks 1550 of 4988\n",
      "Collecting Additional Todoist Tasks 1600 of 4988\n",
      "Collecting Additional Todoist Tasks 1650 of 4988\n",
      "Collecting Additional Todoist Tasks 1700 of 4988\n",
      "Collecting Additional Todoist Tasks 1750 of 4988\n",
      "Collecting Additional Todoist Tasks 1800 of 4988\n",
      "Collecting Additional Todoist Tasks 1850 of 4988\n",
      "Collecting Additional Todoist Tasks 1900 of 4988\n",
      "Collecting Additional Todoist Tasks 1950 of 4988\n",
      "Collecting Additional Todoist Tasks 2000 of 4988\n",
      "Collecting Additional Todoist Tasks 2050 of 4988\n",
      "Collecting Additional Todoist Tasks 2100 of 4988\n",
      "Collecting Additional Todoist Tasks 2150 of 4988\n",
      "Collecting Additional Todoist Tasks 2200 of 4988\n",
      "Collecting Additional Todoist Tasks 2250 of 4988\n",
      "Collecting Additional Todoist Tasks 2300 of 4988\n",
      "Collecting Additional Todoist Tasks 2350 of 4988\n",
      "Collecting Additional Todoist Tasks 2400 of 4988\n",
      "Collecting Additional Todoist Tasks 2450 of 4988\n",
      "Collecting Additional Todoist Tasks 2500 of 4988\n",
      "Collecting Additional Todoist Tasks 2550 of 4988\n",
      "Collecting Additional Todoist Tasks 2600 of 4988\n",
      "Collecting Additional Todoist Tasks 2650 of 4988\n",
      "Collecting Additional Todoist Tasks 2700 of 4988\n",
      "Collecting Additional Todoist Tasks 2750 of 4988\n",
      "Collecting Additional Todoist Tasks 2800 of 4988\n",
      "Collecting Additional Todoist Tasks 2850 of 4988\n",
      "Collecting Additional Todoist Tasks 2900 of 4988\n",
      "Collecting Additional Todoist Tasks 2950 of 4988\n",
      "Collecting Additional Todoist Tasks 3000 of 4988\n",
      "Collecting Additional Todoist Tasks 3050 of 4988\n",
      "Collecting Additional Todoist Tasks 3100 of 4988\n",
      "Collecting Additional Todoist Tasks 3150 of 4988\n",
      "Collecting Additional Todoist Tasks 3200 of 4988\n",
      "Collecting Additional Todoist Tasks 3250 of 4988\n",
      "Collecting Additional Todoist Tasks 3300 of 4988\n",
      "Collecting Additional Todoist Tasks 3350 of 4988\n",
      "Collecting Additional Todoist Tasks 3400 of 4988\n",
      "Collecting Additional Todoist Tasks 3450 of 4988\n",
      "Collecting Additional Todoist Tasks 3500 of 4988\n",
      "Collecting Additional Todoist Tasks 3550 of 4988\n",
      "Collecting Additional Todoist Tasks 3600 of 4988\n",
      "Collecting Additional Todoist Tasks 3650 of 4988\n",
      "Collecting Additional Todoist Tasks 3700 of 4988\n",
      "Collecting Additional Todoist Tasks 3750 of 4988\n",
      "Collecting Additional Todoist Tasks 3800 of 4988\n",
      "Collecting Additional Todoist Tasks 3850 of 4988\n",
      "Collecting Additional Todoist Tasks 3900 of 4988\n",
      "Collecting Additional Todoist Tasks 3950 of 4988\n",
      "Collecting Additional Todoist Tasks 4000 of 4988\n",
      "Collecting Additional Todoist Tasks 4050 of 4988\n",
      "Collecting Additional Todoist Tasks 4100 of 4988\n",
      "Collecting Additional Todoist Tasks 4150 of 4988\n",
      "Collecting Additional Todoist Tasks 4200 of 4988\n",
      "Collecting Additional Todoist Tasks 4250 of 4988\n",
      "Collecting Additional Todoist Tasks 4300 of 4988\n",
      "Collecting Additional Todoist Tasks 4350 of 4988\n",
      "Collecting Additional Todoist Tasks 4400 of 4988\n",
      "Collecting Additional Todoist Tasks 4450 of 4988\n",
      "Collecting Additional Todoist Tasks 4500 of 4988\n",
      "Collecting Additional Todoist Tasks 4550 of 4988\n",
      "Collecting Additional Todoist Tasks 4600 of 4988\n",
      "Collecting Additional Todoist Tasks 4650 of 4988\n",
      "Collecting Additional Todoist Tasks 4700 of 4988\n",
      "Collecting Additional Todoist Tasks 4750 of 4988\n",
      "Collecting Additional Todoist Tasks 4800 of 4988\n",
      "Collecting Additional Todoist Tasks 4850 of 4988\n",
      "Collecting Additional Todoist Tasks 4900 of 4988\n",
      "Collecting Additional Todoist Tasks 4950 of 4988\n",
      "...Generating CSV Export\n"
     ]
    }
   ],
   "source": [
    "get_completed_todoist_items()"
   ]
  },
  {
   "cell_type": "code",
   "execution_count": 19,
   "metadata": {
    "collapsed": true
   },
   "outputs": [],
   "source": [
    "past_tasks = pd.read_csv(\"data/todost-raw-tasks-completed.csv\")"
   ]
  },
  {
   "cell_type": "code",
   "execution_count": 20,
   "metadata": {},
   "outputs": [
    {
     "data": {
      "text/html": [
       "<div>\n",
       "<style scoped>\n",
       "    .dataframe tbody tr th:only-of-type {\n",
       "        vertical-align: middle;\n",
       "    }\n",
       "\n",
       "    .dataframe tbody tr th {\n",
       "        vertical-align: top;\n",
       "    }\n",
       "\n",
       "    .dataframe thead th {\n",
       "        text-align: right;\n",
       "    }\n",
       "</style>\n",
       "<table border=\"1\" class=\"dataframe\">\n",
       "  <thead>\n",
       "    <tr style=\"text-align: right;\">\n",
       "      <th></th>\n",
       "      <th>completed_date</th>\n",
       "      <th>content</th>\n",
       "      <th>id</th>\n",
       "      <th>meta_data</th>\n",
       "      <th>project_id</th>\n",
       "      <th>task_id</th>\n",
       "      <th>user_id</th>\n",
       "    </tr>\n",
       "  </thead>\n",
       "  <tbody>\n",
       "    <tr>\n",
       "      <th>0</th>\n",
       "      <td>Thu 06 Dec 2018 10:19:02 +0000</td>\n",
       "      <td>READINGS: Running Stride and Cadence</td>\n",
       "      <td>2890761399</td>\n",
       "      <td>NaN</td>\n",
       "      <td>2158267779</td>\n",
       "      <td>2890761399</td>\n",
       "      <td>4288657</td>\n",
       "    </tr>\n",
       "    <tr>\n",
       "      <th>1</th>\n",
       "      <td>Thu 06 Dec 2018 10:19:02 +0000</td>\n",
       "      <td>Readings and Review on Running Stride</td>\n",
       "      <td>2890761573</td>\n",
       "      <td>NaN</td>\n",
       "      <td>2158267779</td>\n",
       "      <td>2890761573</td>\n",
       "      <td>4288657</td>\n",
       "    </tr>\n",
       "    <tr>\n",
       "      <th>2</th>\n",
       "      <td>Thu 06 Dec 2018 10:18:59 +0000</td>\n",
       "      <td>READ / Notes on Are Emotions of Natural Kind?</td>\n",
       "      <td>2939017612</td>\n",
       "      <td>NaN</td>\n",
       "      <td>178797715</td>\n",
       "      <td>2939017612</td>\n",
       "      <td>4288657</td>\n",
       "    </tr>\n",
       "    <tr>\n",
       "      <th>3</th>\n",
       "      <td>Thu 06 Dec 2018 10:18:57 +0000</td>\n",
       "      <td>Debug Site Down for GayRomLit</td>\n",
       "      <td>2939016120</td>\n",
       "      <td>NaN</td>\n",
       "      <td>179268527</td>\n",
       "      <td>2939016120</td>\n",
       "      <td>4288657</td>\n",
       "    </tr>\n",
       "    <tr>\n",
       "      <th>4</th>\n",
       "      <td>Wed 05 Dec 2018 16:45:33 +0000</td>\n",
       "      <td>Call with Jo Carol</td>\n",
       "      <td>2937620714</td>\n",
       "      <td>NaN</td>\n",
       "      <td>2182684133</td>\n",
       "      <td>2937620714</td>\n",
       "      <td>4288657</td>\n",
       "    </tr>\n",
       "  </tbody>\n",
       "</table>\n",
       "</div>"
      ],
      "text/plain": [
       "                   completed_date  \\\n",
       "0  Thu 06 Dec 2018 10:19:02 +0000   \n",
       "1  Thu 06 Dec 2018 10:19:02 +0000   \n",
       "2  Thu 06 Dec 2018 10:18:59 +0000   \n",
       "3  Thu 06 Dec 2018 10:18:57 +0000   \n",
       "4  Wed 05 Dec 2018 16:45:33 +0000   \n",
       "\n",
       "                                         content          id  meta_data  \\\n",
       "0           READINGS: Running Stride and Cadence  2890761399        NaN   \n",
       "1          Readings and Review on Running Stride  2890761573        NaN   \n",
       "2  READ / Notes on Are Emotions of Natural Kind?  2939017612        NaN   \n",
       "3                  Debug Site Down for GayRomLit  2939016120        NaN   \n",
       "4                             Call with Jo Carol  2937620714        NaN   \n",
       "\n",
       "   project_id     task_id  user_id  \n",
       "0  2158267779  2890761399  4288657  \n",
       "1  2158267779  2890761573  4288657  \n",
       "2   178797715  2939017612  4288657  \n",
       "3   179268527  2939016120  4288657  \n",
       "4  2182684133  2937620714  4288657  "
      ]
     },
     "execution_count": 20,
     "metadata": {},
     "output_type": "execute_result"
    }
   ],
   "source": [
    "past_tasks.head()"
   ]
  },
  {
   "cell_type": "code",
   "execution_count": 21,
   "metadata": {},
   "outputs": [
    {
     "data": {
      "text/plain": [
       "4988"
      ]
     },
     "execution_count": 21,
     "metadata": {},
     "output_type": "execute_result"
    }
   ],
   "source": [
    "# generated count \n",
    "collected_total = len(past_tasks)\n",
    "collected_total"
   ]
  },
  {
   "cell_type": "code",
   "execution_count": 22,
   "metadata": {},
   "outputs": [
    {
     "data": {
      "text/plain": [
       "False"
      ]
     },
     "execution_count": 22,
     "metadata": {},
     "output_type": "execute_result"
    }
   ],
   "source": [
    "# Does our collected total tasks match stat of completed count on user\n",
    "collected_total == user_completed_count"
   ]
  },
  {
   "cell_type": "code",
   "execution_count": 23,
   "metadata": {},
   "outputs": [
    {
     "data": {
      "text/plain": [
       "4988"
      ]
     },
     "execution_count": 23,
     "metadata": {},
     "output_type": "execute_result"
    }
   ],
   "source": [
    "len(past_tasks.drop_duplicates())"
   ]
  },
  {
   "cell_type": "code",
   "execution_count": 24,
   "metadata": {
    "collapsed": true
   },
   "outputs": [],
   "source": [
    "past_tasks['project_id'] = past_tasks.project_id.astype('category')"
   ]
  },
  {
   "cell_type": "code",
   "execution_count": 25,
   "metadata": {},
   "outputs": [
    {
     "name": "stdout",
     "output_type": "stream",
     "text": [
      "<class 'pandas.core.frame.DataFrame'>\n",
      "RangeIndex: 4988 entries, 0 to 4987\n",
      "Data columns (total 7 columns):\n",
      "completed_date    4988 non-null object\n",
      "content           4988 non-null object\n",
      "id                4988 non-null int64\n",
      "meta_data         0 non-null float64\n",
      "project_id        4988 non-null category\n",
      "task_id           4988 non-null int64\n",
      "user_id           4988 non-null int64\n",
      "dtypes: category(1), float64(1), int64(3), object(2)\n",
      "memory usage: 240.3+ KB\n"
     ]
    }
   ],
   "source": [
    "past_tasks.info()"
   ]
  },
  {
   "cell_type": "code",
   "execution_count": 26,
   "metadata": {},
   "outputs": [
    {
     "data": {
      "text/plain": [
       "43"
      ]
     },
     "execution_count": 26,
     "metadata": {},
     "output_type": "execute_result"
    }
   ],
   "source": [
    "len(past_tasks.project_id.unique())"
   ]
  },
  {
   "cell_type": "markdown",
   "metadata": {},
   "source": [
    "---------"
   ]
  },
  {
   "cell_type": "markdown",
   "metadata": {},
   "source": [
    "## Get All Current and Previous Projects"
   ]
  },
  {
   "cell_type": "code",
   "execution_count": 27,
   "metadata": {
    "collapsed": true
   },
   "outputs": [],
   "source": [
    "# Extract all project ids used on tasks\n",
    "project_ids = past_tasks.project_id.unique()\n",
    "# project_ids"
   ]
  },
  {
   "cell_type": "code",
   "execution_count": 28,
   "metadata": {},
   "outputs": [
    {
     "data": {
      "text/plain": [
       "43"
      ]
     },
     "execution_count": 28,
     "metadata": {},
     "output_type": "execute_result"
    }
   ],
   "source": [
    "# total all-time projects\n",
    "len(project_ids)"
   ]
  },
  {
   "cell_type": "code",
   "execution_count": 29,
   "metadata": {
    "collapsed": true
   },
   "outputs": [],
   "source": [
    "# get project info from Todoist API\n",
    "def get_todoist_project_name(project_id):\n",
    "    item = api.projects.get_by_id(project_id)\n",
    "    if item: \n",
    "        try:\n",
    "            return item['name']\n",
    "        except:\n",
    "            return item['project']['name']"
   ]
  },
  {
   "cell_type": "code",
   "execution_count": 30,
   "metadata": {},
   "outputs": [],
   "source": [
    "# Testing with a Sample Archived Project\n",
    "# get_todoist_project_name(183682060)"
   ]
  },
  {
   "cell_type": "code",
   "execution_count": 31,
   "metadata": {},
   "outputs": [],
   "source": [
    "# Testing with a Sample Current Project\n",
    "# get_todoist_project_name(1252539618)"
   ]
  },
  {
   "cell_type": "code",
   "execution_count": 32,
   "metadata": {
    "collapsed": true
   },
   "outputs": [],
   "source": [
    "# Get Info on All User Projects\n",
    "project_names = []\n",
    "for i in project_ids:\n",
    "    project_names.append(get_todoist_project_name(i))"
   ]
  },
  {
   "cell_type": "code",
   "execution_count": 33,
   "metadata": {
    "collapsed": true
   },
   "outputs": [
    {
     "data": {
      "text/plain": [
       "['Exercise',\n",
       " 'Studies: General',\n",
       " 'Misc Client Work',\n",
       " 'BookLoversCon',\n",
       " 'Health',\n",
       " 'Int3 Biz Dev',\n",
       " 'Writing',\n",
       " 'Data-Driven You',\n",
       " 'Tech / Computer',\n",
       " 'Code Studies',\n",
       " 'Productivity, Self-Tracking',\n",
       " 'Podcast Tracker',\n",
       " 'Financial / Investment',\n",
       " 'Maintenance, Org, Cleaning',\n",
       " 'Language Learning',\n",
       " 'Networking / Career',\n",
       " 'Goals',\n",
       " 'Traveling',\n",
       " 'Data',\n",
       " 'Math',\n",
       " 'Int3c Biz, Drupal Dev',\n",
       " 'Design',\n",
       " 'PhotoStats',\n",
       " 'Video',\n",
       " 'RTConvention',\n",
       " 'Nutrition & Food',\n",
       " 'RTBookReviews',\n",
       " 'Drupal Studies & Dev',\n",
       " 'Biomarker Tracker',\n",
       " 'Entrepreneurship / Biz',\n",
       " 'Creative',\n",
       " 'Side Projects / Startups',\n",
       " 'Philosophy',\n",
       " None,\n",
       " 'Maker Building & Studies',\n",
       " 'Exercise, Health, Fitness Related',\n",
       " 'TMW/Nissan',\n",
       " 'Personal',\n",
       " None,\n",
       " 'Poetry',\n",
       " 'Inbox',\n",
       " None,\n",
       " 'RT']"
      ]
     },
     "execution_count": 33,
     "metadata": {},
     "output_type": "execute_result"
    }
   ],
   "source": [
    "project_names"
   ]
  },
  {
   "cell_type": "markdown",
   "metadata": {},
   "source": [
    "-----"
   ]
  },
  {
   "cell_type": "markdown",
   "metadata": {},
   "source": [
    "## Match Project Id Name on Completed Tasks, Add Day of Week"
   ]
  },
  {
   "cell_type": "code",
   "execution_count": 34,
   "metadata": {},
   "outputs": [
    {
     "data": {
      "text/html": [
       "<div>\n",
       "<style scoped>\n",
       "    .dataframe tbody tr th:only-of-type {\n",
       "        vertical-align: middle;\n",
       "    }\n",
       "\n",
       "    .dataframe tbody tr th {\n",
       "        vertical-align: top;\n",
       "    }\n",
       "\n",
       "    .dataframe thead th {\n",
       "        text-align: right;\n",
       "    }\n",
       "</style>\n",
       "<table border=\"1\" class=\"dataframe\">\n",
       "  <thead>\n",
       "    <tr style=\"text-align: right;\">\n",
       "      <th></th>\n",
       "      <th>completed_date</th>\n",
       "      <th>content</th>\n",
       "      <th>id</th>\n",
       "      <th>meta_data</th>\n",
       "      <th>project_id</th>\n",
       "      <th>task_id</th>\n",
       "      <th>user_id</th>\n",
       "    </tr>\n",
       "  </thead>\n",
       "  <tbody>\n",
       "    <tr>\n",
       "      <th>4983</th>\n",
       "      <td>Sun 28 Aug 2016 12:07:13 +0000</td>\n",
       "      <td>Read Checklist from MASTER THE GAME</td>\n",
       "      <td>53281331</td>\n",
       "      <td>NaN</td>\n",
       "      <td>178797715</td>\n",
       "      <td>53281331</td>\n",
       "      <td>4288657</td>\n",
       "    </tr>\n",
       "    <tr>\n",
       "      <th>4984</th>\n",
       "      <td>Sun 28 Aug 2016 10:40:51 +0000</td>\n",
       "      <td>Weekly Review</td>\n",
       "      <td>53277061</td>\n",
       "      <td>NaN</td>\n",
       "      <td>142200795</td>\n",
       "      <td>53277061</td>\n",
       "      <td>4288657</td>\n",
       "    </tr>\n",
       "    <tr>\n",
       "      <th>4985</th>\n",
       "      <td>Sun 28 Aug 2016 10:24:01 +0000</td>\n",
       "      <td>Financial Reflection Writing</td>\n",
       "      <td>53275224</td>\n",
       "      <td>NaN</td>\n",
       "      <td>142200795</td>\n",
       "      <td>53275224</td>\n",
       "      <td>4288657</td>\n",
       "    </tr>\n",
       "    <tr>\n",
       "      <th>4986</th>\n",
       "      <td>Sun 28 Aug 2016 10:17:51 +0000</td>\n",
       "      <td>Study Todoist Shortcuts</td>\n",
       "      <td>53273289</td>\n",
       "      <td>NaN</td>\n",
       "      <td>142200795</td>\n",
       "      <td>53273289</td>\n",
       "      <td>4288657</td>\n",
       "    </tr>\n",
       "    <tr>\n",
       "      <th>4987</th>\n",
       "      <td>Sun 28 Aug 2016 06:39:21 +0000</td>\n",
       "      <td>Review &amp; Setup Tasks on TODOIST</td>\n",
       "      <td>53265021</td>\n",
       "      <td>NaN</td>\n",
       "      <td>142200795</td>\n",
       "      <td>53265021</td>\n",
       "      <td>4288657</td>\n",
       "    </tr>\n",
       "  </tbody>\n",
       "</table>\n",
       "</div>"
      ],
      "text/plain": [
       "                      completed_date                              content  \\\n",
       "4983  Sun 28 Aug 2016 12:07:13 +0000  Read Checklist from MASTER THE GAME   \n",
       "4984  Sun 28 Aug 2016 10:40:51 +0000                        Weekly Review   \n",
       "4985  Sun 28 Aug 2016 10:24:01 +0000         Financial Reflection Writing   \n",
       "4986  Sun 28 Aug 2016 10:17:51 +0000              Study Todoist Shortcuts   \n",
       "4987  Sun 28 Aug 2016 06:39:21 +0000      Review & Setup Tasks on TODOIST   \n",
       "\n",
       "            id  meta_data project_id   task_id  user_id  \n",
       "4983  53281331        NaN  178797715  53281331  4288657  \n",
       "4984  53277061        NaN  142200795  53277061  4288657  \n",
       "4985  53275224        NaN  142200795  53275224  4288657  \n",
       "4986  53273289        NaN  142200795  53273289  4288657  \n",
       "4987  53265021        NaN  142200795  53265021  4288657  "
      ]
     },
     "execution_count": 34,
     "metadata": {},
     "output_type": "execute_result"
    }
   ],
   "source": [
    "past_tasks.tail()"
   ]
  },
  {
   "cell_type": "code",
   "execution_count": 35,
   "metadata": {
    "collapsed": true
   },
   "outputs": [],
   "source": [
    "# Probably a more effecient way to do this\n",
    "project_lookup = lambda x: get_todoist_project_name(x)"
   ]
  },
  {
   "cell_type": "code",
   "execution_count": 36,
   "metadata": {
    "collapsed": true
   },
   "outputs": [],
   "source": [
    "past_tasks['project_name'] = past_tasks['project_id'].apply(project_lookup) # note: not very efficient"
   ]
  },
  {
   "cell_type": "code",
   "execution_count": 37,
   "metadata": {},
   "outputs": [
    {
     "data": {
      "text/plain": [
       "41"
      ]
     },
     "execution_count": 37,
     "metadata": {},
     "output_type": "execute_result"
    }
   ],
   "source": [
    "len(past_tasks.project_name.unique())"
   ]
  },
  {
   "cell_type": "code",
   "execution_count": 38,
   "metadata": {},
   "outputs": [],
   "source": [
    "# functions to convert UTC to Shanghai time zone and extract date/time elements\n",
    "convert_tz = lambda x: x.to_pydatetime().replace(tzinfo=pytz.utc).astimezone(pytz.timezone('Asia/Shanghai'))\n",
    "get_year = lambda x: convert_tz(x).year\n",
    "get_month = lambda x: '{}-{:02}'.format(convert_tz(x).year, convert_tz(x).month) #inefficient\n",
    "get_date = lambda x: '{}-{:02}-{:02}'.format(convert_tz(x).year, convert_tz(x).month, convert_tz(x).day) #inefficient\n",
    "get_day = lambda x: convert_tz(x).day\n",
    "get_hour = lambda x: convert_tz(x).hour\n",
    "get_day_of_week = lambda x: convert_tz(x).weekday()"
   ]
  },
  {
   "cell_type": "code",
   "execution_count": 39,
   "metadata": {},
   "outputs": [],
   "source": [
    "# parse out date and time elements as Shanghai time\n",
    "past_tasks['completed_date'] = pd.to_datetime(past_tasks['completed_date'])\n",
    "past_tasks['year'] = past_tasks['completed_date'].map(get_year)\n",
    "past_tasks['month'] = past_tasks['completed_date'].map(get_month)\n",
    "past_tasks['date'] = past_tasks['completed_date'].map(get_date)\n",
    "past_tasks['day'] = past_tasks['completed_date'].map(get_day)\n",
    "past_tasks['hour'] = past_tasks['completed_date'].map(get_hour)\n",
    "past_tasks['dow'] = past_tasks['completed_date'].map(get_day_of_week)\n",
    "past_tasks = past_tasks.drop(labels=['completed_date'], axis=1)"
   ]
  },
  {
   "cell_type": "code",
   "execution_count": 40,
   "metadata": {},
   "outputs": [
    {
     "data": {
      "text/html": [
       "<div>\n",
       "<style scoped>\n",
       "    .dataframe tbody tr th:only-of-type {\n",
       "        vertical-align: middle;\n",
       "    }\n",
       "\n",
       "    .dataframe tbody tr th {\n",
       "        vertical-align: top;\n",
       "    }\n",
       "\n",
       "    .dataframe thead th {\n",
       "        text-align: right;\n",
       "    }\n",
       "</style>\n",
       "<table border=\"1\" class=\"dataframe\">\n",
       "  <thead>\n",
       "    <tr style=\"text-align: right;\">\n",
       "      <th></th>\n",
       "      <th>content</th>\n",
       "      <th>id</th>\n",
       "      <th>meta_data</th>\n",
       "      <th>project_id</th>\n",
       "      <th>task_id</th>\n",
       "      <th>user_id</th>\n",
       "      <th>project_name</th>\n",
       "      <th>year</th>\n",
       "      <th>month</th>\n",
       "      <th>date</th>\n",
       "      <th>day</th>\n",
       "      <th>hour</th>\n",
       "      <th>dow</th>\n",
       "    </tr>\n",
       "  </thead>\n",
       "  <tbody>\n",
       "    <tr>\n",
       "      <th>0</th>\n",
       "      <td>READINGS: Running Stride and Cadence</td>\n",
       "      <td>2890761399</td>\n",
       "      <td>NaN</td>\n",
       "      <td>2158267779</td>\n",
       "      <td>2890761399</td>\n",
       "      <td>4288657</td>\n",
       "      <td>Exercise</td>\n",
       "      <td>2018</td>\n",
       "      <td>2018-12</td>\n",
       "      <td>2018-12-06</td>\n",
       "      <td>6</td>\n",
       "      <td>18</td>\n",
       "      <td>3</td>\n",
       "    </tr>\n",
       "    <tr>\n",
       "      <th>1</th>\n",
       "      <td>Readings and Review on Running Stride</td>\n",
       "      <td>2890761573</td>\n",
       "      <td>NaN</td>\n",
       "      <td>2158267779</td>\n",
       "      <td>2890761573</td>\n",
       "      <td>4288657</td>\n",
       "      <td>Exercise</td>\n",
       "      <td>2018</td>\n",
       "      <td>2018-12</td>\n",
       "      <td>2018-12-06</td>\n",
       "      <td>6</td>\n",
       "      <td>18</td>\n",
       "      <td>3</td>\n",
       "    </tr>\n",
       "    <tr>\n",
       "      <th>2</th>\n",
       "      <td>READ / Notes on Are Emotions of Natural Kind?</td>\n",
       "      <td>2939017612</td>\n",
       "      <td>NaN</td>\n",
       "      <td>178797715</td>\n",
       "      <td>2939017612</td>\n",
       "      <td>4288657</td>\n",
       "      <td>Studies: General</td>\n",
       "      <td>2018</td>\n",
       "      <td>2018-12</td>\n",
       "      <td>2018-12-06</td>\n",
       "      <td>6</td>\n",
       "      <td>18</td>\n",
       "      <td>3</td>\n",
       "    </tr>\n",
       "    <tr>\n",
       "      <th>3</th>\n",
       "      <td>Debug Site Down for GayRomLit</td>\n",
       "      <td>2939016120</td>\n",
       "      <td>NaN</td>\n",
       "      <td>179268527</td>\n",
       "      <td>2939016120</td>\n",
       "      <td>4288657</td>\n",
       "      <td>Misc Client Work</td>\n",
       "      <td>2018</td>\n",
       "      <td>2018-12</td>\n",
       "      <td>2018-12-06</td>\n",
       "      <td>6</td>\n",
       "      <td>18</td>\n",
       "      <td>3</td>\n",
       "    </tr>\n",
       "    <tr>\n",
       "      <th>4</th>\n",
       "      <td>Call with Jo Carol</td>\n",
       "      <td>2937620714</td>\n",
       "      <td>NaN</td>\n",
       "      <td>2182684133</td>\n",
       "      <td>2937620714</td>\n",
       "      <td>4288657</td>\n",
       "      <td>BookLoversCon</td>\n",
       "      <td>2018</td>\n",
       "      <td>2018-12</td>\n",
       "      <td>2018-12-06</td>\n",
       "      <td>6</td>\n",
       "      <td>0</td>\n",
       "      <td>3</td>\n",
       "    </tr>\n",
       "  </tbody>\n",
       "</table>\n",
       "</div>"
      ],
      "text/plain": [
       "                                         content          id  meta_data  \\\n",
       "0           READINGS: Running Stride and Cadence  2890761399        NaN   \n",
       "1          Readings and Review on Running Stride  2890761573        NaN   \n",
       "2  READ / Notes on Are Emotions of Natural Kind?  2939017612        NaN   \n",
       "3                  Debug Site Down for GayRomLit  2939016120        NaN   \n",
       "4                             Call with Jo Carol  2937620714        NaN   \n",
       "\n",
       "   project_id     task_id  user_id      project_name  year    month  \\\n",
       "0  2158267779  2890761399  4288657          Exercise  2018  2018-12   \n",
       "1  2158267779  2890761573  4288657          Exercise  2018  2018-12   \n",
       "2   178797715  2939017612  4288657  Studies: General  2018  2018-12   \n",
       "3   179268527  2939016120  4288657  Misc Client Work  2018  2018-12   \n",
       "4  2182684133  2937620714  4288657     BookLoversCon  2018  2018-12   \n",
       "\n",
       "         date  day  hour  dow  \n",
       "0  2018-12-06    6    18    3  \n",
       "1  2018-12-06    6    18    3  \n",
       "2  2018-12-06    6    18    3  \n",
       "3  2018-12-06    6    18    3  \n",
       "4  2018-12-06    6     0    3  "
      ]
     },
     "execution_count": 40,
     "metadata": {},
     "output_type": "execute_result"
    }
   ],
   "source": [
    "past_tasks.head()"
   ]
  },
  {
   "cell_type": "code",
   "execution_count": 41,
   "metadata": {
    "collapsed": true
   },
   "outputs": [],
   "source": [
    "# save to CSV\n",
    "past_tasks.to_csv(\"data/todost-tasks-completed.csv\", index=False)"
   ]
  },
  {
   "cell_type": "code",
   "execution_count": null,
   "metadata": {},
   "outputs": [],
   "source": []
  }
 ],
 "metadata": {
  "kernelspec": {
   "display_name": "Python 3",
   "language": "python",
   "name": "python3"
  },
  "language_info": {
   "codemirror_mode": {
    "name": "ipython",
    "version": 3
   },
   "file_extension": ".py",
   "mimetype": "text/x-python",
   "name": "python",
   "nbconvert_exporter": "python",
   "pygments_lexer": "ipython3",
   "version": "3.6.2"
  }
 },
 "nbformat": 4,
 "nbformat_minor": 2
}
